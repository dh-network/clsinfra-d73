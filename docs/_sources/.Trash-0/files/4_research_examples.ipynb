{
 "cells": [
  {
   "cell_type": "markdown",
   "id": "dbebe3bc-7994-4725-9e6a-ebfdf7da17fc",
   "metadata": {},
   "source": [
    "# 4. How to Not Cite a Living Corpus. Some Examples From Current Research"
   ]
  },
  {
   "cell_type": "code",
   "execution_count": null,
   "id": "5c629374-a1a0-4b16-96d6-e2a2e212703d",
   "metadata": {},
   "outputs": [],
   "source": []
  }
 ],
 "metadata": {
  "kernelspec": {
   "display_name": "Python 3 (ipykernel)",
   "language": "python",
   "name": "python3"
  },
  "language_info": {
   "codemirror_mode": {
    "name": "ipython",
    "version": 3
   },
   "file_extension": ".py",
   "mimetype": "text/x-python",
   "name": "python",
   "nbconvert_exporter": "python",
   "pygments_lexer": "ipython3",
   "version": "3.11.6"
  }
 },
 "nbformat": 4,
 "nbformat_minor": 5
}
