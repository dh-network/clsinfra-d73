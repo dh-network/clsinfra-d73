{
 "cells": [
  {
   "cell_type": "markdown",
   "id": "b7001ebc-1759-4316-a522-f967eefef566",
   "metadata": {},
   "source": [
    "# 5. Dockerizing DraCor"
   ]
  },
  {
   "cell_type": "code",
   "execution_count": null,
   "id": "e66b3373-5c28-403e-be57-3efc852b6bf5",
   "metadata": {},
   "outputs": [],
   "source": []
  }
 ],
 "metadata": {
  "kernelspec": {
   "display_name": "Python 3 (ipykernel)",
   "language": "python",
   "name": "python3"
  },
  "language_info": {
   "codemirror_mode": {
    "name": "ipython",
    "version": 3
   },
   "file_extension": ".py",
   "mimetype": "text/x-python",
   "name": "python",
   "nbconvert_exporter": "python",
   "pygments_lexer": "ipython3",
   "version": "3.11.6"
  }
 },
 "nbformat": 4,
 "nbformat_minor": 5
}
