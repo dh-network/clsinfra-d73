{
 "cells": [
  {
   "cell_type": "markdown",
   "id": "7ba463c5-a18d-4a8d-adaf-4a170a08a0d5",
   "metadata": {
    "editable": true,
    "slideshow": {
     "slide_type": ""
    },
    "tags": []
   },
   "source": [
    "```{warning}\n",
    "This is still a draft! Please refer to the PDF version.\n",
    "```"
   ]
  },
  {
   "cell_type": "markdown",
   "id": "b7001ebc-1759-4316-a522-f967eefef566",
   "metadata": {
    "editable": true,
    "slideshow": {
     "slide_type": ""
    },
    "tags": []
   },
   "source": [
    "# 4. Dockerizing DraCor, for Example. On Versioning Programmable Corpora"
   ]
  },
  {
   "cell_type": "markdown",
   "id": "5551590a-05e9-41fb-af9f-c48a18788c32",
   "metadata": {
    "editable": true,
    "slideshow": {
     "slide_type": ""
    },
    "tags": []
   },
   "source": [
    "```{epigraph}\n",
    "I make no claims to elegance in programming, \n",
    "but I am confident that the scripts work, \n",
    "at least as of today.\n",
    "\n",
    "-- Andrew Piper, Foreword to *Enumerations*\n",
    "```\n"
   ]
  },
  {
   "cell_type": "markdown",
   "id": "1eb7f288-0e60-4aeb-96c1-43e8b90e4f7e",
   "metadata": {
    "editable": true,
    "slideshow": {
     "slide_type": ""
    },
    "tags": []
   },
   "source": [
    "(section-4-1)=\n",
    "## 4.1 Containerizing a Research Environment"
   ]
  },
  {
   "cell_type": "markdown",
   "id": "65d37725-1e2e-455e-95a7-7923d7d17397",
   "metadata": {
    "editable": true,
    "slideshow": {
     "slide_type": ""
    },
    "tags": []
   },
   "source": [
    "As already noted in the introduction (see {ref}`section-2`), the use of a version control system like Git  can be seen as both a powerful and user-friendly mechanism to stabilize “living” corpora. However, “programmable” corpora consist of a connection of data (\"living corpus\") with a lightweight research software (in the form of a research-driven API) whereby this connection can be conceptualized as a distributed research infrastructure in a dynamic digital ecosystem (cf. {cite:t}`boerner_2023_report`). Such a research infrastructure can no longer be stabilized only via the versioning mechanism of Git, since in addition to the two components (data, code), their specific connection is also crucial for the possibility of reproducing the research conducted with it. For such scenarios, as will be shown below, a container-based approach is suitable, whereby we will rely on containerization using the [Docker](https://www.docker.com) software.\n",
    "\n",
    "Our approach is inspired by the concept of research artifacts from computer science, which is described by Arvan et al. as “self-contained packages that contain everything needed to reproduce results reported in a paper\" and which are also \"typically self-executable, meaning that they are packaged within a virtual machine \\[…\\] or within a container\" {cite:p}`arvan_2022_reproducibility`. The prototypical implementation, on which we will report in the following, is again based on the Drama Corpora Platform, DraCor. In a DraCor-based experiment, we set ourselves the challenge of making a network-analytic study, which we conducted for a paper publication, as fully replicable as possible using Docker.\n",
    "\n",
    "The containerization technology \"Docker\" is widely used in the IT industry, because it can speed up development cycles and can reduce overhead when deploying applications. Especially in the field of “DevOps” – “Dev” for development and “Ops” for operations, which refers to the processes that are necessary to have an application run on a server – the importance of communication between the development and the operations team is considered highly important. Thus Docker workflows have been introduced. They do not only streamline communication processes, they also shift the responsibility of handling software dependencies to the development team: Docker enables the people actually writing the application to specify the environment in which their software should be run. There are a couple of key components to such workflows: The so-called “Dockerfile”[^dockerfile] is a meaningful and executable form of documentation. It contains the steps necessary to build a highly portable, self-contained digital artifact, a “Docker image”[^dockerimage]. These images can be easily deployed on a designated infrastructure as “Docker containers”[^dockercontainer].\n",
    "\n",
    "[^dockerfile]: In the [glossary](https://docs.docker.com/glossary) available as part of the [Docker documentation](https://docs.docker.com) the Dockerfile is explained as such: “A Dockerfile is a text document that contains all the commands you would normally execute manually in order to build a Docker image. Docker can build images automatically by reading the instructions from a Dockerfile.” [https://docs.docker.com/glossary/#dockerfile](https://docs.docker.com/glossary/#dockerfile); also see the [documentation of the Dockerfile](https://docs.docker.com/reference/dockerfile).\n",
    "\n",
    "[^dockerimage]: “Docker images are the basis of containers. An image is an ordered collection of root filesystem changes and the corresponding execution parameters for use within a container runtime. An image typically contains a union of layered filesystems stacked on top of each other. An image does not have state and it never changes.” [https://docs.docker.com/glossary/#image](https://docs.docker.com/glossary/#image) \n",
    "\n",
    "[^dockercontainer]: see [https://docs.docker.com/glossary/#container](https://docs.docker.com/glossary/#container).\n",
    "\n",
    "Certainly, in CLS research projects we will rarely find teams of development and operation professionals that are in need of communicating better. But, we would like to argue that still the attempt of reproducing research could be framed in a similar sense: On the one hand we have an individual researcher (or a team of researchers) that conducts a study. In our analogy, these are the developers. Their product – a study – relies on some application or script that operates on data. On the other hand we have researchers wanting to reproduce or verify the results, similar to operations professionals that have to deploy someone else's application on a server.\n",
    "\n",
    "It becomes evident that some hurdles in the process of reproducing CLS research exist due to a lack of clear communication on how to run the analysis scripts and a tendency to offload the responsibility of setting up an environment in which the analysis could be executed to the reproducing party. A containerized research environment might circumvent these problems: Instead of claiming that scripts “work, at least as of today” on the machine of the developing researcher, as for example, Andrew Piper writes it in his foreword to his book “Enumerations” {cite:p}`piper_2018_enumerations {xii}`; when employing container technology, it could be guaranteed instead that a container created from an image containing a runnable self-contained research environment can be re-run. This would allow for a reproduction of the study. Instead of saying: The analysis was run-able on my machine when writing the paper and publishing the code only, in addition a researcher could provide a run-able research artifact alongside the study. When using Docker, this could be one or more images that would allow to re-create the research environment the study was conducted in.[^open_container_initiative]\n",
    "\n",
    "[^open_container_initiative]: On a side note and because someone might argue that by embracing a proprietary technology: “Linux containers” – what Docker is at its core – as a technology have been available since 2008. “Docker” was only introduced in 2013 and the company Docker Inc. actively promoted the “Open Container Initiative” (OCI, see [https://opencontainers.org](https://opencontainers.org)), which was started in 2015. It developed a vendor agnostic specification of containers and images, that was released in 2017 to which the current Docker implementation adheres. This, of course, still doesn’t guarantee the longevity of the technology, but at least a total lock-in into a certain technology is circumvented.\n",
    "\n",
    "In the following, we will report on our exemplary experiment in making a CLS study replicable by using Docker technology.[^graz_presentation]\n",
    "\n",
    "[^graz_presentation]: This experiment has also been presented at the “DH2023” conference in Graz. Cf. {cite:p}`boerner_2023_dockerizing`. See also the [slides of the presentation](https://zenodo.org/records/8183676). For a comprehensive evaluation of the use of container technology in research and digital publishing see {cite:p}`burton_2020_digits`."
   ]
  },
  {
   "cell_type": "markdown",
   "id": "84f015ac-67b5-4851-86a9-6fbf007c20b8",
   "metadata": {
    "editable": true,
    "slideshow": {
     "slide_type": ""
    },
    "tags": []
   },
   "source": [
    "(section-4-2)=\n",
    "## 4.2 Case Study: Dockerizing a Complete CLS Study"
   ]
  },
  {
   "cell_type": "markdown",
   "id": "f591f00d-df4b-4095-8644-4599699a45aa",
   "metadata": {
    "editable": true,
    "slideshow": {
     "slide_type": ""
    },
    "tags": []
   },
   "source": [
    "We exemplify the benefits of a Docker-based research workflow by referring to our study “Detecting Small Worlds in a Corpus of Thousands of Theater Plays” {cite:p}`trilcke_2024_small-worlds`. In this study, we tested different operationalizations of the so-called “Small World” concept based on a multilingual “Very Big Drama Corpus” (VeBiDraCor) of almost 3,000 theater plays. As explained above, the corpora available on DraCor are “living corpora” – which means that both the number of text files contained and the information contained in the text files changes (e.g. with regard to metadata or mark-up). This poses an additional challenge for reproducing our study. Furthermore, our analysis script (written in R) retrieves metadata and network metrics from the REST API of the “programmable corpus”. Thus, we had to devise a way of not only stabilizing the corpus but also the API.\n",
    "\n",
    "DraCor provides Docker images for its services, which are, at its core the API, a frontend, a metrics service, that does the calculation of the network metrics of co-presence networks of the plays, and a triple store. The ready-made Docker images can be used to set up a local DraCor environment.[^dracor_docker_images]\n",
    "\n",
    "[^dracor_docker_images]: Docker images of the DraCor system components are published on the platform [DockerHub](https://hub.docker.com/u/dracor). More recent images are `dracor/api` ([Repository](https://hub.docker.com/r/dracor/api/tags)), `dracor/frontend` ([Repository](https://hub.docker.com/r/dracor/frontend/tags)), `dracor/metrics` ([Repository](https://hub.docker.com/r/dracor/metrics/tags)) and `dracor/fuseki` ([Repository](https://hub.docker.com/r/dracor/fuseki/tags)). These images are used in the production infrastructure and ideally should be used when setting up local instances as well. For reasons of allowing for replication of work that has, for example, been presented at the DH 2023 Graz conference, the image repositories with the naming convention that repeats “dracor” in the image name, e.g. `dracor/dracor-api` ([Repository](https://hub.docker.com/r/dracor/dracor-api/tags)) are still kept on the platform."
   ]
  },
  {
   "cell_type": "markdown",
   "id": "7c6f35a6-b57e-49ed-a5f3-9bfcbd80b0f0",
   "metadata": {
    "editable": true,
    "slideshow": {
     "slide_type": ""
    },
    "tags": []
   },
   "source": [
    "For VeBiDraCor we devised a workflow that spins up a Docker container from a versioned bare Docker image of the DraCor database[^vebidracor_image] and ingests the data of the plays downloaded (“pulled”) from specified GitHub commits using a Python script[^vebidracor_data_ingested]. We then committed this container with `docker commit`[^commit_vebidracor_container] to create a ready to use [Docker image of the populated database and API](https://hub.docker.com/layers/ingoboerner/vebidracor-api/3.0.0/images/sha256-0b39f125534f7583bbb18b58379eb98312040eb04dd74548fb563d916a172d4c?context=explore) (see  {numref}`frontend_loaded_vebidracor`). \n",
    "\n",
    "[^vebidracor_image]: The initial local infrastructure is defined in this [Docker Compose file](https://github.com/dracor-org/vebidracor/blob/3c3495d6b9434913687348435a341f781413304d/docker-compose.empty.yml). The Docker image of the eXist-DB containing the API as an eXist-DB application is pulled from this [repository on DockerHub](https://hub.docker.com/layers/ingoboerner/dracor-api/v0.86.3_local/images/sha256-99978fd573262968de665421a9ed2e7deee2d1199be15761013f54ead834635e?context=explore).\n",
    "\n",
    "[^vebidracor_data_ingested]: See the section \"Define plays to load\" in the [Jupyter Notebook](https://github.com/dracor-org/vebidracor/blob/3c3495d6b9434913687348435a341f781413304d/vebidracor-workflow.ipynb) that was used to populate the database.\n",
    "\n",
    "[^commit_vebidracor_container]: The necessary steps are contained in the [VeBiDraCor Workflow notebook](https://github.com/dracor-org/vebidracor/blob/3c3495d6b9434913687348435a341f781413304d/vebidracor-workflow.ipynb) in the section \"Prepare container image\". See also the [documentation](https://docs.docker.com/reference/cli/docker/container/commit) of the `docker commit` command."
   ]
  },
  {
   "cell_type": "markdown",
   "id": "515c4c30-23bc-4563-8716-211f5d5b2e57",
   "metadata": {
    "editable": true,
    "slideshow": {
     "slide_type": ""
    },
    "tags": []
   },
   "source": [
    "% Figure is rendered in the HTML output here\n",
    "\n",
    "```{figure} ./images/frontend_loaded_vebidracor.png\n",
    "---\n",
    "width: 600px\n",
    "name: frontend_loaded_vebidracor\n",
    "---\n",
    "Frontend of the local DraCor infrastructrue with added corpus VeBiDraCor\n",
    "```"
   ]
  },
  {
   "cell_type": "markdown",
   "id": "b8a671da-3948-41c5-b5be-dc0c6f19e153",
   "metadata": {
    "editable": true,
    "slideshow": {
     "slide_type": ""
    },
    "tags": []
   },
   "source": [
    "Because the build process is modular and documented in a Dockerfile, it is also possible to quickly change the API’s base image or the composition of the corpus by editing a manifest file that controls which plays from which repositories at which state are included."
   ]
  },
  {
   "cell_type": "markdown",
   "id": "eb937cc2-078f-4b19-885f-e7e9ab73476a",
   "metadata": {
    "editable": true,
    "slideshow": {
     "slide_type": ""
    },
    "tags": []
   },
   "source": [
    "In a second step, we also dockerized the research environment: a Docker container running [RStudio](https://posit.co/products/open-source/rstudio) to which we added our [analysis script](https://github.com/dracor-org/small-world-paper/blob/ddf85c6a5c5d32004439520e6d5984cb40d7bad3/smallworlds-script.R). The preparation of this image is documented in a [Dockerfile](https://github.com/dracor-org/small-world-paper/blob/5622479f8649be81e3fa50bf8cc9ce5d3d44da5d/Dockerfile). As base image we used an image of the [rocker-project](https://rocker-project.org/). We used `docker commit` to “freeze” this state of our system and published all images. We call this state the “pre-analysis state”, which is documented in a [Docker Compose file](https://github.com/dracor-org/small-world-paper/blob/bef7eadef788775a8b0a8e8351ff9d5249cbb65f/docker-compose.pre.yml).\n",
    "\n",
    "[^docker_commit_docu]: [https://docs.docker.com/reference/cli/docker/container/commit](https://docs.docker.com/reference/cli/docker/container/commit)"
   ]
  },
  {
   "cell_type": "markdown",
   "id": "65d2cf2e-a0de-44df-94cb-e2c2dfb6581c",
   "metadata": {
    "editable": true,
    "slideshow": {
     "slide_type": ""
    },
    "tags": []
   },
   "source": [
    "After we ran the analysis, we again created an image of the RStudio container with `docker commit`, thus turning it into a Docker image in which basically “froze” the state of the research environment after the R-script was run. The [image of this “post-analysis state”](https://hub.docker.com/layers/ingoboerner/smallworld-rstudio/dcac262/images/sha256-03bec767bdc213a002783e2d0b34d896dce308ddfc243b90ef13b9292a972c54?context=explore) was also published on the DockerHub repository. It allows for inspection and verification of the results of our study in the same environment that we used (see {numref}`rstudio_post-analysis-state`).[^smallworld_code_repo]\n",
    "\n",
    "[^smallworld_code_repo]: The workflow described above is also documented in the `README.md` file in the [repository accompanying the “Small-World” study](https://github.com/dracor-org/small-world-paper/tree/publication-version). The original VeBiDraCor was built with [this Jupyter notebook](https://github.com/dracor-org/vebidracor/blob/3c3495d6b9434913687348435a341f781413304d/vebidracor-workflow.ipynb)."
   ]
  },
  {
   "cell_type": "markdown",
   "id": "d48dd822-efa1-4810-adf8-1d50a08100ae",
   "metadata": {
    "editable": true,
    "slideshow": {
     "slide_type": ""
    },
    "tags": []
   },
   "source": [
    "% Figure is rendered in the HTML output here\n",
    "\n",
    "```{figure} ./images/rstudio_post-analysis-state.png\n",
    "---\n",
    "width: 600px\n",
    "name: rstudio_post-analysis-state\n",
    "---\n",
    "RStudio after the analysis was run\n",
    "```"
   ]
  },
  {
   "cell_type": "markdown",
   "id": "7dc5234a-f48e-4cbf-8bc2-425d05bc021d",
   "metadata": {
    "editable": true,
    "slideshow": {
     "slide_type": ""
    },
    "tags": []
   },
   "source": [
    "By having these images representing two moments in the course of our analysis, we not only make our analysis transparent, we also allow for different scenarios of repeating our research. For example, starting an environment with the Docker Compose file that documents the “pre-analysis state” would allow a researcher to exactly repeat our analysis by re-running the script on the exact same data."
   ]
  },
  {
   "cell_type": "markdown",
   "id": "8920558d-d2b3-4d79-a990-917e0a16b3fa",
   "metadata": {
    "editable": true,
    "slideshow": {
     "slide_type": ""
    },
    "tags": []
   },
   "source": [
    "But also other scenarios of repeating research (e.g. \"replication\", \"reproduction\", \"revision\", \"reanalysis\", \"reinvestigation\"; cf. {cite:p}`schoech_2023_repetitive-research`) could be implemented easily. To give one example: A researcher could adapt the Jupyter Notebook we used to assemble “VeBiDraCor” and create an image of the local corpus container the same way we did. By changing a single line in the Docker Compose file documenting the “pre-analysis state” it is possible to start the whole system with this different data. For running our R-script to analyze this data he or she could still use a container created from our RStudio image and thus run the analysis the exact same way we did, but on different data."
   ]
  },
  {
   "cell_type": "markdown",
   "id": "30b4913f-2a82-439d-a61e-68cf0566fd86",
   "metadata": {
    "editable": true,
    "slideshow": {
     "slide_type": ""
    },
    "tags": []
   },
   "source": [
    "The following code cell demonstrates how to re-create the intrastructure that was used to generate the results reported in the paper.[^run_docker_commands_in_notebook]\n",
    "\n",
    "[^run_docker_commands_in_notebook]: Running the following cell will work if this \"Executeable Report\" is run with the \"Docker in Docker\" setup as described in the `README.md` file. Using the [magic cell command](https://ipython.readthedocs.io/en/stable/interactive/magics.html#cell-magics) `%%script bash --bg` will run the commands in a shell in the background directly from this Jupyter notebook. Change the first line to `%bash` if the output should be seen here but this will halt the execution of all the following cells. It will take some time until the DraCor frontend of the local infrastructure becomes available at [http://localhost:8088](http://localhost:8088). To check the status use the command `docker ps -a` and look for the `STATUS` of the container based on the image `ingoboerner/vebidracor-api:3.0.0`. In the \"Docker in Docker\" setup there is still an issue with accessing the RStudio Container at (http://localhost:8787)[http://localhost:8787] which has not been resolved yet."
   ]
  },
  {
   "cell_type": "code",
   "execution_count": null,
   "id": "ea1fbfa3-96df-46f4-8f26-f5e3026efefe",
   "metadata": {
    "editable": true,
    "slideshow": {
     "slide_type": ""
    },
    "tags": [
     "remove-output"
    ]
   },
   "outputs": [],
   "source": [
    "%%script bash --bg\n",
    "\n",
    "# Clone the GitHub repository containing the data of the study\n",
    "\n",
    "git clone https://github.com/dracor-org/small-world-paper.git\n",
    "\n",
    "# Go into the just downloaded repository and switch to the branch \"publication-version\"\n",
    "\n",
    "cd small-world-paper\n",
    "git checkout publication-version\n",
    "\n",
    "# Start the infrastructure in the \"post-analysis-state\" as defined \n",
    "# in the Compose file \"docker-compose.post.yml\"\n",
    "\n",
    "docker compose -f docker-compose.post.yml up "
   ]
  },
  {
   "cell_type": "code",
   "execution_count": null,
   "id": "67b1b58c-433d-4f47-93d0-a70aa1d1d88a",
   "metadata": {
    "editable": true,
    "slideshow": {
     "slide_type": ""
    },
    "tags": [
     "remove-cell"
    ]
   },
   "outputs": [],
   "source": [
    "# It takes some time to start containers\n",
    "# when executing all cells the cell trying to remove the containers below \n",
    "# (not included in the rendering of the report) produces an error\n",
    "# when executed before any Docker containers are up\n",
    "# We therefore need to wait a bit (60 seconds or so) before executing the next cell. \n",
    "# This also results in having some meaningful output included in the result of the next cell\n",
    "\n",
    "import time\n",
    "\n",
    "time.sleep(60)"
   ]
  },
  {
   "cell_type": "code",
   "execution_count": null,
   "id": "b41609ef-8184-43c8-b60b-0dba35496423",
   "metadata": {
    "editable": true,
    "slideshow": {
     "slide_type": ""
    },
    "tags": [
     "hide-cell"
    ]
   },
   "outputs": [],
   "source": [
    "%%bash\n",
    "\n",
    "# To see the status of the containers\n",
    "# the STATUS of the container derived from the image ingoboerner/vebidracor-api:3.0.0 should be \"Up\"\n",
    "\n",
    "docker ps -a"
   ]
  },
  {
   "cell_type": "code",
   "execution_count": null,
   "id": "fd184244-518d-4575-8909-98858645cff5",
   "metadata": {
    "editable": true,
    "slideshow": {
     "slide_type": ""
    },
    "tags": [
     "remove-cell"
    ]
   },
   "outputs": [],
   "source": [
    "%%bash\n",
    "\n",
    "# Stop and remove all Docker containers to avoid conflicts \n",
    "# especially regarding ports in the next section\n",
    "# This cell does not show up in the final rendering of the report\n",
    "# If you want to use the Docker containers above and play around with them, \n",
    "# the following commands should NOT be run\n",
    "\n",
    "docker stop $(docker ps -a -q)\n",
    "docker rm $(docker ps -a -q)"
   ]
  },
  {
   "cell_type": "code",
   "execution_count": null,
   "id": "7cbf54b5-d8d0-41a6-acfd-cb66bbd77cec",
   "metadata": {
    "editable": true,
    "slideshow": {
     "slide_type": ""
    },
    "tags": [
     "remove-cell"
    ]
   },
   "outputs": [],
   "source": [
    "# should also remove the large VeBiDraCor image\n",
    "# This cell does not show up in the final HTML rendering\n",
    "\n",
    "!docker rmi ingoboerner/vebidracor-api:3.0.0"
   ]
  },
  {
   "cell_type": "code",
   "execution_count": null,
   "id": "be5d75b9-96ce-4ea1-b9a3-dff71c7448c7",
   "metadata": {
    "editable": true,
    "slideshow": {
     "slide_type": ""
    },
    "tags": [
     "remove-cell"
    ]
   },
   "outputs": [],
   "source": [
    "%%bash \n",
    "\n",
    "# Remove the cloned small-world-paper repository folder\n",
    "# This cell does not show up in the final rendering of the report\n",
    "\n",
    "rm -rf small-world-paper "
   ]
  },
  {
   "cell_type": "markdown",
   "id": "e0acb0ec-4bed-4023-87aa-47c27505627c",
   "metadata": {
    "editable": true,
    "slideshow": {
     "slide_type": ""
    },
    "tags": []
   },
   "source": [
    "(section-4-3)=\n",
    "## 4.3 Simplifying the Workflow: StableDraCor"
   ]
  },
  {
   "cell_type": "markdown",
   "id": "bb491d3f-a06b-438a-88c8-33692dbad305",
   "metadata": {
    "editable": true,
    "slideshow": {
     "slide_type": ""
    },
    "tags": []
   },
   "source": [
    "The workflow presented in the section {ref}`section-4-2` above is still quite complex. There are multiple steps involved to set-up the locally running infrastructure some of which need to be run from the command line. In addition, one has to create a bare container with a database and an API, populate it with the data, conduct the analysis, create several Docker images, and, ultimately, publish them in a repository, e.g. on DockerHub. There is also the need to create the Docker Compose file that specifies which system components are needed to recreate the environment the analysis was run in at different points in time. Thus, there is a considerable need to make the process more user-friendly."
   ]
  },
  {
   "cell_type": "markdown",
   "id": "9a10f70a-806b-4334-a8d9-cbaf80cd1825",
   "metadata": {
    "editable": true,
    "slideshow": {
     "slide_type": ""
    },
    "tags": []
   },
   "source": [
    "\n",
    "Our approach to simplifying the process focuses on developing a Python package called “StableDraCor” that makes the setting-up of local DraCor instances and populating them with data easier by somewhat “hiding” the complexity of the Docker and Docker Compose commands. While there is no real need for a generic tool managing containers and images (because this can be done with [Docker Desktop](https://www.docker.com/products/docker-desktop)), with “StableDraCor” we address the complexity of setting up the specific DraCor infrastructure components and loading DraCor corpora (or a subset thereof).\n",
    "\n",
    "In the following, we describe the workflow using the tool. The package can be built and installed from the [GitHub repository](https://github.com/dracor-org/stabledracor)[^stabledracor_dev_version]. \n",
    "\n",
    "[^stabledracor_dev_version]: Currently, it is still recommended to use the version in development from the “dind” branch of [https://github.com/ingoboerner/stable-dracor/tree/dind](https://github.com/ingoboerner/stable-dracor/tree/dind) which implements a “Docker in Docker” setup. For a tutorial on how to use this setup see the [introduction notebook](https://github.com/ingoboerner/stable-dracor/blob/dind/notebooks/02_intro.ipynb)."
   ]
  },
  {
   "cell_type": "code",
   "execution_count": null,
   "id": "550de2f4-e859-447c-a13b-232de32c4709",
   "metadata": {
    "editable": true,
    "slideshow": {
     "slide_type": ""
    },
    "tags": [
     "hide-cell",
     "remove-output"
    ]
   },
   "outputs": [],
   "source": [
    "%%bash\n",
    "\n",
    "# Clone the repository\n",
    "# The target directory is outside of the current working directory \"report\"\n",
    "\n",
    "git clone https://github.com/ingoboerner/stable-dracor.git /home/d73/stable-dracor\n",
    "\n",
    "# Switch into repository and checkout a commit \n",
    "# We checkout the commit because the package is still in development and we want to install a\n",
    "# certain version to be used here\n",
    "# the -c option is optional; it suppresses a warning about git being in so-called detached head state\n",
    "\n",
    "cd /home/d73/stable-dracor\n",
    "git -c advice.detachedHead=false checkout df31c4e\n",
    "\n",
    "# install the package\n",
    "\n",
    "pip install .\n",
    "\n",
    "# cleanup: remove the previously cloned repository\n",
    "cd /home/d73/report\n",
    "rm -rf /home/d73/stable-dracor"
   ]
  },
  {
   "cell_type": "markdown",
   "id": "e9187e9f-e70a-4a1b-929a-ab32fb505891",
   "metadata": {
    "editable": true,
    "slideshow": {
     "slide_type": ""
    },
    "tags": []
   },
   "source": [
    "After initializing a StableDraCor instance, the infrastructure can be started with a single command `run()`. If a user does not specify any parameters (like pointing to a designated custom local Docker Compose file) the script fetches a configuration of the system specified by a [Docker Compose file](https://github.com/dracor-org/stabledracor/blob/2dc461e6f3d8106f5291ba0b1f6779b7adb52c5d/configurations/compose.fullstack.empty.yml) (`compose.fullstack.yml`) and starts the defined containers. "
   ]
  },
  {
   "cell_type": "code",
   "execution_count": null,
   "id": "e1819bd5-b60d-487f-b203-208e2d9523c7",
   "metadata": {
    "editable": true,
    "slideshow": {
     "slide_type": ""
    },
    "tags": [
     "remove-output",
     "hide-cell"
    ]
   },
   "outputs": [],
   "source": [
    "# Import the package\n",
    "from stabledracor.client import StableDraCor\n",
    "\n",
    "# Use a GitHub Personal Access Token, see \n",
    "# https://github.com/ingoboerner/stable-dracor/blob/e300d77c419537538b4d491a8bbe2b9449123131/notebooks/03_faq.ipynb\n",
    "\n",
    "import os\n",
    "github_token = os.environ.get(\"GITHUB_TOKEN\")\n",
    "\n",
    "# Initialize a local DraCor infrastructure\n",
    "# Provide metadata like a \"name\" and a description\n",
    "\n",
    "local_dracor = StableDraCor(\n",
    "    name=\"my_local_dracor\", \n",
    "    description=\"My local demo DraCor system\",\n",
    "    github_access_token=github_token\n",
    ")\n",
    "\n",
    "# Start the infrastructure\n",
    "\n",
    "local_dracor.run()"
   ]
  },
  {
   "cell_type": "markdown",
   "id": "940b5b45-ecd1-4a2c-8890-76213ab83a2b",
   "metadata": {
    "editable": true,
    "slideshow": {
     "slide_type": ""
    },
    "tags": []
   },
   "source": [
    "After running the above cell in the \"Executeable Report\" the local DraCor frontend becomes available at [http://localhost:8088](http://localhost:8088). As can be seen in {ref}`local_dracor_frontend_empty` no corpora have been loaded yet."
   ]
  },
  {
   "cell_type": "markdown",
   "id": "7b51afee-ef15-4563-a10b-059c0bd5582c",
   "metadata": {
    "editable": true,
    "slideshow": {
     "slide_type": ""
    },
    "tags": []
   },
   "source": [
    "% Figure is rendered in the HTML output here\n",
    "\n",
    "```{figure} ./images/local_dracor_frontend_empty.png\n",
    "---\n",
    "width: 600px\n",
    "name: local_dracor_frontend_empty\n",
    "---\n",
    "Frontend of the local DraCor infrastructure with no corpora loaded\n",
    "```"
   ]
  },
  {
   "cell_type": "markdown",
   "id": "dedbaf49-f582-46d2-a7a8-1fcafd8db5d7",
   "metadata": {
    "editable": true,
    "slideshow": {
     "slide_type": ""
    },
    "tags": []
   },
   "source": [
    "The package supports setting-up local custom corpora either by copying a corpus or parts thereof from any running DraCor system, for example the [production system](https://dracor.org) or the [staging server](https://staging.dracor.org), containing even more corpora that are currently prepared for publication. "
   ]
  },
  {
   "cell_type": "markdown",
   "id": "4d45cc03-8b38-4af0-b991-0dbae6dc2a82",
   "metadata": {
    "editable": true,
    "slideshow": {
     "slide_type": ""
    },
    "tags": []
   },
   "source": [
    "In the following code cell the \"Tatar Drama Corpus\" from the production instance of DraCor to the local database (see {ref}`local_dracor_frontend_empty`)."
   ]
  },
  {
   "cell_type": "code",
   "execution_count": null,
   "id": "960d0b6a-d9a8-4dcb-a13c-2ab71f821cce",
   "metadata": {
    "editable": true,
    "slideshow": {
     "slide_type": ""
    },
    "tags": [
     "hide-cell",
     "remove-output"
    ]
   },
   "outputs": [],
   "source": [
    "local_dracor.copy_corpus(source_corpusname=\"tat\")"
   ]
  },
  {
   "cell_type": "markdown",
   "id": "8f47ff95-11bb-409b-a13f-7972ffb3e504",
   "metadata": {
    "editable": true,
    "slideshow": {
     "slide_type": ""
    },
    "tags": []
   },
   "source": [
    "After executing the command in the code cell above there will be a single corpus in the [local DraCor instance](http://localhost:8088) (see {ref}`local_dracor_tatdracor`) that is a copy of the data currently available at [https://dracor.org/tat](https://dracor.org/tat)."
   ]
  },
  {
   "cell_type": "markdown",
   "id": "acce964d-1658-44f8-8cb4-b497b651ee22",
   "metadata": {
    "editable": true,
    "slideshow": {
     "slide_type": ""
    },
    "tags": []
   },
   "source": [
    "% Figure is rendered in the HTML output here\n",
    "\n",
    "```{figure} ./images/local_dracor_tatdracor.png\n",
    "---\n",
    "width: 600px\n",
    "name: local_dracor_tatdracor\n",
    "---\n",
    "Frontend of the local DraCor infrastructure with the \"Tatar Drama Corpus\" loaded\n",
    "```"
   ]
  },
  {
   "cell_type": "markdown",
   "id": "fabf9ba4-640c-445d-9a1e-cc722ad2e89c",
   "metadata": {
    "editable": true,
    "slideshow": {
     "slide_type": ""
    },
    "tags": []
   },
   "source": [
    "It is also possible to directly add TEI files from the local filesystem, which allows a user to even use the DraCor environment with data not published on [dracor.org](https://dracor.org) or a public GitHub repository. When adding data to a local Docker container with the help of the “StableDraCor” package, the program keeps track of the constitution of the corpora and the sources used."
   ]
  },
  {
   "cell_type": "code",
   "execution_count": null,
   "id": "d8b2e90b-2145-4126-90e0-ec5f543aac34",
   "metadata": {
    "editable": true,
    "slideshow": {
     "slide_type": ""
    },
    "tags": [
     "remove-cell"
    ]
   },
   "outputs": [],
   "source": [
    "%%bash\n",
    "\n",
    "# Remove the file if downloaded in previous (incomplete) runs of the notebook\n",
    "# otherwise the wget command in the next cell would fail\n",
    "# This cell is not included in the final HTML rendering of the repor\n",
    "\n",
    "rm -f ../import/lessing-emilia-galotti.xml"
   ]
  },
  {
   "cell_type": "code",
   "execution_count": null,
   "id": "d6149f18-a745-4ed0-8849-f950e38c6050",
   "metadata": {
    "editable": true,
    "slideshow": {
     "slide_type": ""
    },
    "tags": [
     "remove-cell"
    ]
   },
   "outputs": [],
   "source": [
    "%%bash\n",
    "\n",
    "# Download a single file to the import folder to demonstrate the import of a local file\n",
    "\n",
    "wget https://raw.githubusercontent.com/dracor-org/gerdracor/a99060f0065856f8df114ce8556c31161c0332d1/tei/lessing-emilia-galotti.xml -P ../import"
   ]
  },
  {
   "cell_type": "markdown",
   "id": "f68b83ff-d619-411c-b87b-5402b1a322ad",
   "metadata": {
    "editable": true,
    "slideshow": {
     "slide_type": ""
    },
    "tags": []
   },
   "source": [
    "In the following code cell a single file is imported into the custom local corpus \"FilesDraCor\" (see {ref}`local_dracor_filesdracor`)."
   ]
  },
  {
   "cell_type": "code",
   "execution_count": null,
   "id": "de6ead8a-b61b-4488-b0c1-68def8de43d1",
   "metadata": {
    "editable": true,
    "slideshow": {
     "slide_type": ""
    },
    "tags": [
     "hide-cell",
     "remove-output"
    ]
   },
   "outputs": [],
   "source": [
    "# Create a corpus \"FilesDraCor\" and add a single play from the folder \"import\" to it\n",
    "\n",
    "local_dracor.add_plays_from_directory(\n",
    "    corpusname=\"files\",\n",
    "    directory=\"../import/\"\n",
    ")"
   ]
  },
  {
   "cell_type": "code",
   "execution_count": null,
   "id": "2d8ca138-7c5e-4fb6-89f7-a8d994e474f2",
   "metadata": {
    "editable": true,
    "slideshow": {
     "slide_type": ""
    },
    "tags": []
   },
   "outputs": [],
   "source": [
    "!ls ../import"
   ]
  },
  {
   "cell_type": "markdown",
   "id": "9690d373-6b38-461a-bfd4-43f1b9a8776a",
   "metadata": {
    "editable": true,
    "slideshow": {
     "slide_type": ""
    },
    "tags": []
   },
   "source": [
    "% Figure is rendered in the HTML output here\n",
    "\n",
    "```{figure} ./images/local_dracor_filesdracor.png\n",
    "---\n",
    "width: 600px\n",
    "name: local_dracor_filesdracor\n",
    "---\n",
    "Frontend of the local DraCor infrastructure with the additionally loaded file in the corpus \"FilesDraCor\"\n",
    "```"
   ]
  },
  {
   "cell_type": "code",
   "execution_count": null,
   "id": "e2536ef3-c9a4-47e1-ada9-6ce7a11dc264",
   "metadata": {
    "editable": true,
    "slideshow": {
     "slide_type": ""
    },
    "tags": [
     "remove-cell"
    ]
   },
   "outputs": [],
   "source": [
    "%%bash \n",
    "\n",
    "# Remove the Demo-File\n",
    "# This cell is not included in the rendering of the final report\n",
    "\n",
    "rm ../import/lessing-emilia-galotti.xml"
   ]
  },
  {
   "cell_type": "markdown",
   "id": "0f670b8e-1479-4872-9d1a-94e230b7ad92",
   "metadata": {
    "editable": true,
    "slideshow": {
     "slide_type": ""
    },
    "tags": []
   },
   "source": [
    "To allow for better reproducibility of the local infratructure it is recommended to used the functionality to to directly load corpora or parts thereof from a GitHub repository. This method of adding data allows to specify the “version” of the data in the corpus compilation process at a given point in time by referring to a single GitHub commit. As mentioned above, because DraCor corpora are “living corpora”, it is not guaranteed that corpora that are available on the web platform do not change. Therefore, it would not be a good idea to base research aiming at being repeatable at the data in the live system. By using data directly from GitHub with StableDraCor it is possible to include only the plays that were available, let’s say, two years ago and in the encoding state they were at this time."
   ]
  },
  {
   "cell_type": "markdown",
   "id": "b3efec37-6f3d-4678-9d5e-1ee32bb009f8",
   "metadata": {
    "editable": true,
    "slideshow": {
     "slide_type": ""
    },
    "tags": []
   },
   "source": [
    "In the following code cell the \"Bashkir Drama Corpus\" is added to the local database directly from its GitHub Repository."
   ]
  },
  {
   "cell_type": "code",
   "execution_count": null,
   "id": "46e4ca4b-9f1e-4054-9cbe-04a4fc664e73",
   "metadata": {
    "editable": true,
    "slideshow": {
     "slide_type": ""
    },
    "tags": [
     "hide-cell",
     "remove-output"
    ]
   },
   "outputs": [],
   "source": [
    "# Add the Bashkir Drama Corpus from GitHub in the version identified by a single commit\n",
    "\n",
    "local_dracor.add_corpus_from_repo(\n",
    "    repository_name=\"bashdracor\", \n",
    "    commit=\"c16b58ef3726a63c431bb9575b682c165c9c0cbd\")"
   ]
  },
  {
   "cell_type": "markdown",
   "id": "15dcf314-04b0-4277-a5f9-2ee471776787",
   "metadata": {
    "editable": true,
    "slideshow": {
     "slide_type": ""
    },
    "tags": []
   },
   "source": [
    "The local DraCor infrastructure that has been set up until this point can be explored at [http://localhost:8088](http://localhost:8088) (see {ref}`local_dracor_3_corpora`."
   ]
  },
  {
   "cell_type": "markdown",
   "id": "916c0eaf-db46-4d5e-8bad-e21cfa120756",
   "metadata": {
    "editable": true,
    "slideshow": {
     "slide_type": ""
    },
    "tags": []
   },
   "source": [
    "% Figure is rendered in the HTML output here\n",
    "\n",
    "```{figure} ./images/local_dracor_3_corpora.png\n",
    "---\n",
    "width: 600px\n",
    "name: local_dracor_3_corpora\n",
    "---\n",
    "Frontend of the local DraCor infrastructure with three corpora including the \"Bashkir Drama Corpus\"\n",
    "```"
   ]
  },
  {
   "cell_type": "markdown",
   "id": "66b9392d-971f-486d-96f0-1640ce112dcf",
   "metadata": {
    "editable": true,
    "slideshow": {
     "slide_type": ""
    },
    "tags": []
   },
   "source": [
    "The tool keeps track of the whole configuration of the system: This includes the versions of the microservices used, and the corpora loaded. The state of the corpus is identified by a timestamp and – if the source is a GitHub repository, the commit. This “log” can be output as a “manifest” JSON object (command: `get_manifest()`), which should allow re-creating the system even if no Docker image is available. It would also allow a user to unambiguously identify the exact data that was used in a study.[^manifest_as_single_source_of_truth]\n",
    "\n",
    "[^manifest_as_single_source_of_truth]: If someone would not want to or for some reasons could not use Docker, the manifest alone would still be a sufficient source to retrieve the files used if they come from a corpus on GitHub. Of course, if local files are used, this does not help, but at least, it makes this circumstance transparent.\n",
    "\n",
    "The following code snippet shows such a manifest[^manifest_explained] with several corpora added:\n",
    "\n",
    "[^manifest_explained]: For an explanation of the manifest see the [introduction notebook](https://github.com/ingoboerner/stable-dracor/blob/df31c4e6b42d0e8c6ba294efe4d26aa473719ab2/notebooks/02_intro.ipynb) to the tool. "
   ]
  },
  {
   "cell_type": "code",
   "execution_count": null,
   "id": "8733dc1f-25dd-4175-b432-baa30e262003",
   "metadata": {
    "editable": true,
    "slideshow": {
     "slide_type": ""
    },
    "tags": [
     "hide-input"
    ]
   },
   "outputs": [],
   "source": [
    "# Output the manifest documenting the local DraCor System\n",
    "\n",
    "local_dracor.get_manifest()"
   ]
  },
  {
   "cell_type": "markdown",
   "id": "81fd5fac-331f-49ac-a457-5060c3361b9d",
   "metadata": {
    "editable": true,
    "slideshow": {
     "slide_type": ""
    },
    "tags": []
   },
   "source": [
    "“StableDraCor” supports creating a Docker image from a populated database container. With the original workflow it was necessary to do this with the `docker commit` command in the terminal. It was also necessary to provide additional documentation, for example the Jupyter notebook that was used to assemble a corpus. This information was ‘detached’ from the Docker image and it was necessary to explicitly point to this form of documentation, because it was not part of the research artifact itself. We tackled this issue with StableDracor and found a way to include machine readable documentation *about* the research artifact directly *attached* to it. Now, when we create an image with the tool, we issue a slightly different `docker commit` command that also attaches Docker Object Labels[^docker_object_labels] directly to the newly created image. We achieve this by taking the manifest as mentioned earlier, and decomposing it into single Docker Labels. StableDraCor can convert a manifest into labels but also re-convert Docker Object Labels on the image in the `org.dracor.stable-dracor.*` namespace back into a manifest. By providing the manifest information as image labels, we allow a user, for example, to retrieve information about the corpus contents and the sources of a database without having to run the image as a Docker container first. We also attach the information about the individual DraCor microservices directly to the image as labels.\n",
    "\n",
    "[^docker_object_labels]: See (https://docs.docker.com/config/labels-custom-metadata)[https://docs.docker.com/config/labels-custom-metadata] for the documentation of Docker Object Labels."
   ]
  },
  {
   "cell_type": "markdown",
   "id": "08affeeb-8061-403e-8c91-e126bc0aabcc",
   "metadata": {
    "editable": true,
    "slideshow": {
     "slide_type": ""
    },
    "tags": []
   },
   "source": [
    "In the following code cell a Docker Image of the the DraCor API container is created."
   ]
  },
  {
   "cell_type": "code",
   "execution_count": null,
   "id": "7c2f27be-8d89-40d2-8de8-ca61bc662177",
   "metadata": {
    "editable": true,
    "slideshow": {
     "slide_type": ""
    },
    "tags": [
     "hide-cell"
    ]
   },
   "outputs": [],
   "source": [
    "# Create a Docker image of the DraCor API container\n",
    "\n",
    "local_dracor.create_docker_image_of_service(service=\"api\", \n",
    "                                            image_tag=\"d73_demo\")"
   ]
  },
  {
   "cell_type": "code",
   "execution_count": null,
   "id": "90514bea-b06f-4713-9c7a-446bc5897267",
   "metadata": {
    "editable": true,
    "slideshow": {
     "slide_type": ""
    },
    "tags": [
     "remove-cell"
    ]
   },
   "outputs": [],
   "source": [
    "%%bash\n",
    "\n",
    "# Check if the new Stable DraCor API image has been created\n",
    "# This cell is not included in the final HTML rendering of the report\n",
    "\n",
    "docker images | grep stable-dracor"
   ]
  },
  {
   "cell_type": "markdown",
   "id": "5d8006b1-df1c-4c51-a4fd-e74f019ea660",
   "metadata": {
    "editable": true,
    "slideshow": {
     "slide_type": ""
    },
    "tags": [
     "remove-input"
    ]
   },
   "source": [
    "The labels attached to this image are as follows:"
   ]
  },
  {
   "cell_type": "code",
   "execution_count": null,
   "id": "2d212987-d776-4d45-a84a-994e70525cef",
   "metadata": {
    "editable": true,
    "slideshow": {
     "slide_type": ""
    },
    "tags": [
     "remove-input",
     "hide-cell"
    ]
   },
   "outputs": [],
   "source": [
    "import subprocess, json\n",
    "\n",
    "operation = subprocess.run([\"docker\", \"inspect\", \"--type=image\", \"--format\", \"{{json . }}\", \"dracor/stable-dracor:d73_demo\"], capture_output=True)\n",
    "result = json.loads(operation.stdout.decode(\"utf-8\"))\n",
    "result[\"Config\"][\"Labels\"]"
   ]
  },
  {
   "cell_type": "markdown",
   "id": "e35a888b-a496-430a-a878-8e6d5805d8cf",
   "metadata": {
    "editable": true,
    "slideshow": {
     "slide_type": ""
    },
    "tags": []
   },
   "source": [
    "In summary, our “StableDraCor” package allows to generate a fully self-describing, completely versionized research artifact that alone is sufficient to replicate the corpora and their research infrastructure that were used in a study."
   ]
  },
  {
   "cell_type": "code",
   "execution_count": null,
   "id": "319d6d1d-af64-46c1-9c10-dea2632e36ac",
   "metadata": {
    "editable": true,
    "slideshow": {
     "slide_type": ""
    },
    "tags": [
     "remove-cell"
    ]
   },
   "outputs": [],
   "source": [
    "%%bash\n",
    "\n",
    "# Stop and remove all Docker containers to avoid conflicts \n",
    "# especially regarding ports in the next section\n",
    "# This cell does not show up in the final rendering of the report\n",
    "# If you want to use the Docker containers above and play around with them, \n",
    "# the following commands should NOT be run\n",
    "\n",
    "docker stop $(docker ps -a -q)\n",
    "docker rm $(docker ps -a -q)"
   ]
  },
  {
   "cell_type": "markdown",
   "id": "4b803836-cbb8-40ff-87fd-cf3c37aef0c6",
   "metadata": {
    "editable": true,
    "slideshow": {
     "slide_type": ""
    },
    "tags": []
   },
   "source": [
    "(section-4-4)=\n",
    "## 4.4 Practical Examples"
   ]
  },
  {
   "cell_type": "markdown",
   "id": "ad3e636b-9910-4010-bbf4-442f9b11e928",
   "metadata": {
    "editable": true,
    "slideshow": {
     "slide_type": ""
    },
    "tags": []
   },
   "source": [
    "The following section demonstrates how the concepts and tools introduced in this report can be used to facilitate future repeating of research based on DraCor infrastructure components and corpora. The first example shows how to identify and then stabilize the exact version of the corpus used in a research paper that was discussed earlier in section {ref}`section-3-1`. In the second example a version of the \"DLINA Corpus Sydney\" is created on the basis of recent DraCor data to allow for repeating research carried out in the context of the DLINA project on the same set of plays.[^dlina_research]\n",
    "\n",
    "[^dlina_research]: For research carried out using the DLINA corpus see [DLINA Blog](https://dlina.github.io) and the [DraCor Research Page](https://dracor.org/doc/research)). For an example of a re-implementation of an algorithm developed in DLINA to be used with the DraCor API see the Jupyter Notebook [To catch a protagonist in DraCor](https://github.com/dracor-org/dracor-notebooks/blob/2452d3f23de449783f4c964708cf9e88c65e35af/catch-a-protagonist-in-dracor/catch-a-protagonist-in-dracor.ipynb)."
   ]
  },
  {
   "cell_type": "code",
   "execution_count": null,
   "id": "297f5f3a-f2df-4519-887c-91c96845cac9",
   "metadata": {
    "editable": true,
    "slideshow": {
     "slide_type": ""
    },
    "tags": [
     "remove-cell"
    ]
   },
   "outputs": [],
   "source": [
    "# This is needed to re-use outputs of code in the markdown cells. \n",
    "# This cell is removed in the rendered report\n",
    "\n",
    "from myst_nb import glue"
   ]
  },
  {
   "cell_type": "markdown",
   "id": "cf231c08-34d8-41e9-b18c-69498dc3995f",
   "metadata": {
    "editable": true,
    "slideshow": {
     "slide_type": ""
    },
    "tags": []
   },
   "source": [
    "(section-4-4-1)=\n",
    "### 4.4.1 Reconstructing (and Stabilizing) Corpora Used to Train and Evaluate a Classifier for Chiasmus Detection "
   ]
  },
  {
   "cell_type": "markdown",
   "id": "c3720a3a-4d59-4a0d-9591-2a185d2f82fb",
   "metadata": {
    "editable": true,
    "slideshow": {
     "slide_type": ""
    },
    "tags": []
   },
   "source": [
    "In {ref}`section-3-1` the paper „Data-Driven Detection of General Chiasmi Using Lexical and Semantic Features“ {cite:p}`schneider_2021_chiasmi` is discussed as an example of research that re-uses the German Drama Corpus. The authors do not use the DraCor API for their study but download data directly from the GerDraCor GitHub Repository. The only information that hints at which version of the corpus was used to train and test the classifier is the number of plays that were included in the corpus at the time. The authors report that GerDraCor included 504 plays. \n",
    "\n",
    "In the following code cells we use the \"corpus archeology script\" described in the section {ref}`excursus` to identify the actual version of the German Drama Corpus used and load this version into a local DraCor infrastructure as described in section {ref}`section-4-3`:  "
   ]
  },
  {
   "cell_type": "code",
   "execution_count": null,
   "id": "a29ed18b-357b-4997-83b7-d99d64847a8f",
   "metadata": {
    "editable": true,
    "slideshow": {
     "slide_type": ""
    },
    "tags": [
     "remove-cell"
    ]
   },
   "outputs": [],
   "source": [
    "# Setup (This partly repeates code that has been executed elsewhere; make sure everything is available)\n",
    "# This cell is not included in the final HTML rendering of the report\n",
    "\n",
    "# The methods needed for the following analysis are bundled as the class \"GitHubRepo\" \n",
    "# which we import in with the following line\n",
    "\n",
    "from github_utils import GitHubRepo\n",
    "\n",
    "# Import the package\n",
    "from stabledracor.client import StableDraCor\n",
    "\n",
    "# Use a GitHub Personal Access Token, see \n",
    "# https://github.com/ingoboerner/stable-dracor/blob/e300d77c419537538b4d491a8bbe2b9449123131/notebooks/03_faq.ipynb\n",
    "\n",
    "import os\n",
    "github_token = os.environ.get(\"GITHUB_TOKEN\")"
   ]
  },
  {
   "cell_type": "code",
   "execution_count": null,
   "id": "11f95040-6530-42ec-9f18-e285922ed7db",
   "metadata": {
    "editable": true,
    "slideshow": {
     "slide_type": ""
    },
    "tags": [
     "hide-cell"
    ]
   },
   "outputs": [],
   "source": [
    "# Start the analysis with previously downloaded data\n",
    "\n",
    "repo = GitHubRepo(repository_name=\"gerdracor\", \n",
    "                  github_access_token=github_token,\n",
    "                  import_commit_list=\"tmp/gerdracor_commits.json\",\n",
    "                  import_commit_details=\"tmp/gerdracor_commits_detailed.json\",\n",
    "                  import_data_folder_objects=\"tmp/gerdracor_data_folder_objects.json\",\n",
    "                  import_corpus_versions=\"tmp/gerdracor_corpus_versions.json\")\n",
    "\n",
    "# To get the version with 504 plays:\n",
    "# Get the versions as a dataframe containing the number of plays included (\"document_count\")\n",
    "\n",
    "play_counts_df = repo.get_corpus_versions_as_df(columns=[\"id\",\"date_from\",\"document_count\"])\n",
    "\n",
    "# Filter the dataframe on versions that have exactly 504 plays\n",
    "play_counts_df[play_counts_df[\"document_count\"] == 504]"
   ]
  },
  {
   "cell_type": "code",
   "execution_count": null,
   "id": "93f6c4f6-083d-4975-bfc8-e28ac04bdbbf",
   "metadata": {
    "editable": true,
    "slideshow": {
     "slide_type": ""
    },
    "tags": [
     "remove-cell"
    ]
   },
   "outputs": [],
   "source": [
    "# This cell is not included in the final rendering\n",
    "\n",
    "glue(\"chiasmus_corpus_version_id\", \n",
    "         play_counts_df[play_counts_df[\"document_count\"] == 504].iloc[0][\"id\"])\n",
    "\n",
    "chiasmus_corpus_version_date_object = play_counts_df[play_counts_df[\"document_count\"] == 504].iloc[0][\"date_from\"].date()\n",
    "glue(\"chiasmus_corpus_version_date_formatted\", chiasmus_corpus_version_date_object.strftime(\"%-d %B, %Y\"))"
   ]
  },
  {
   "cell_type": "markdown",
   "id": "43378e3d-6847-4792-ae78-6c23e8088b00",
   "metadata": {
    "editable": true,
    "slideshow": {
     "slide_type": ""
    },
    "tags": []
   },
   "source": [
    "The most probable version of the GerDraCor data used is identified by the SHA value {glue:text}`chiasmus_corpus_version_id` and dates from {glue:text}`chiasmus_corpus_version_date_formatted`.[^sighum5] In the following cell a Docker container of the DraCor API is created and populated with this exact corpus version (see {ref}`local_dracor_504_gerdracor_plays`):\n",
    "\n",
    "[^sighum5]: This date is at least also plausible because it is far before the date the research paper was presented at 5th Joint SIGHUM Workshop on Computational Linguistics for Cultural Heritage, Social Sciences, Humanities and Literature which that took place in November 2021, both online and in person in Punta Cana, Dominican Republic. The paper submission deadline for this event was in August 2021 according to the [conference website](https://sighum.wordpress.com/events/latech-clfl-2021/important-dates)."
   ]
  },
  {
   "cell_type": "code",
   "execution_count": null,
   "id": "4e3141e2-f5d5-487c-b9e0-62f2c35f502f",
   "metadata": {
    "editable": true,
    "slideshow": {
     "slide_type": ""
    },
    "tags": [
     "remove-cell"
    ]
   },
   "outputs": [],
   "source": [
    "# the next cell should maybe not execute when building the report. See also issues below: \n",
    "# https://discourse.jupyter.org/t/is-there-a-cell-tag-convention-to-skip-execution/5445\n",
    "# https://github.com/executablebooks/jupyter-book/issues/833"
   ]
  },
  {
   "cell_type": "code",
   "execution_count": null,
   "id": "34e041ec-88a6-40f5-bb5c-8b4d381fcc54",
   "metadata": {
    "editable": true,
    "slideshow": {
     "slide_type": ""
    },
    "tags": [
     "hide-cell",
     "remove-output"
    ]
   },
   "outputs": [],
   "source": [
    "# Initialize the StableDraCor instance; add metadata\n",
    "\n",
    "chiasmus_detection_dracor = StableDraCor(\n",
    "    name=\"chiasmus_detection\", \n",
    "    description=\"DraCor system including the GerDraCor version used in the paper 'Data-Driven Detection of General Chiasmi'\",\n",
    "    github_access_token=github_token\n",
    ")\n",
    "\n",
    "# Run the infrastructure\n",
    "\n",
    "chiasmus_detection_dracor.run()\n",
    "\n",
    "# Add the corpus version\n",
    "# Because data is ingested (which is a slow process) this will take some time (approx. 30min!)\n",
    "# Be very patient. You can check http://localhost:8088 to see the progress. The number of plays\n",
    "# in the corpus should constantly increase when reloading the page.\n",
    "\n",
    "chiasmus_version_commit_id = play_counts_df[play_counts_df[\"document_count\"] == 504].iloc[0][\"id\"]\n",
    "\n",
    "chiasmus_detection_dracor.add_corpus_from_repo(\n",
    "    repository_name=\"gerdracor\", \n",
    "    commit=chiasmus_version_commit_id)"
   ]
  },
  {
   "cell_type": "markdown",
   "id": "7a144078-9fa3-4812-8064-71c3c1e654cf",
   "metadata": {
    "editable": true,
    "slideshow": {
     "slide_type": ""
    },
    "tags": [
     "remove-output",
     "hide-cell"
    ]
   },
   "source": [
    "% Figure is rendered in the HTML output here\n",
    "\n",
    "```{figure} ./images/local_dracor_504_gerdracor_plays.png\n",
    "---\n",
    "width: 600px\n",
    "name: local_dracor_504_gerdracor_plays\n",
    "---\n",
    "Frontend of the local DraCor infrastructure with GerDraCor (version: 6e1020dcfcb98a0d027ceb401a6a5fbd4537fe29) including 504 plays\n",
    "```"
   ]
  },
  {
   "cell_type": "markdown",
   "id": "c3a25dc3-2458-4639-afd6-a10bba40fd89",
   "metadata": {
    "editable": true,
    "slideshow": {
     "slide_type": ""
    },
    "tags": []
   },
   "source": [
    "For training of the classifier a manually annotated data set consisting of four plays by the author Friedrich Schiller are used (cf. {cite:p}`schneider_2021_chiasmi{p.98}`; citations can also be found in {ref}`section-3-1`) In the paper the titles of these plays are included. In the following list DraCor identifiers are added:\n",
    "\n",
    "* *Die Piccolomini* (`schiller-die-piccolomini`, [ger000086](https://dracor.org/id/ger000086)) \n",
    "* *Wallensteins Lager* (`schiller-wallensteins-lager`, [ger000025](https://dracor.org/id/ger000025)) \n",
    "* *Wallensteins Tod* (`schiller-wallensteins-tod`, [ger000058](https://dracor.org/id/ger000058))\n",
    "* *Wilhelm Tell* (`schiller-wilhelm-tell`, [ger000452](https://dracor.org/id/ger000452))"
   ]
  },
  {
   "cell_type": "markdown",
   "id": "037b7813-150e-4748-91fc-48d8b523577d",
   "metadata": {
    "editable": true,
    "slideshow": {
     "slide_type": ""
    },
    "tags": [
     "remove-cell"
    ]
   },
   "source": [
    "% This cell is removed from the rendering, the citations are in another section\n",
    "> “We perform two types of experiments. [...] In the second experiment we evaluate how well our model generalizes to texts from different authors not included in the training data. To this end we extract PoS tag inversions from the GerDraCor corpus (Fischer et al., 2019) [...]” The training data set (https://git.io/ChiasmusData) “[...] consists of four annotated texts by Friedrich Schiller Die Piccolomini, Wallensteins Lager, Wallensteins Tod and Wilhelm Tell. We annotated the whole texts, finding 45 general chiasmi and 9 antimetaboles.” {cite:p}schneider_2021_chiasmi{p.98} emphasis [bold] by us\n",
    "\n",
    "And further\n",
    "\n",
    "> “[...] we evaluate the generalization performance of our chiasmus classifier trained on the four annotated Schiller dramas to other texts. The first set of texts comprises seven other dramas by Friedrich Schiller [...]. To see how well our method generalizes to different authors, we tested it on the remaining 493 documents from GerDraCor.” {cite:p}schneider_2021_chiasmi{p.98} emphasis [bold] by us"
   ]
  },
  {
   "cell_type": "code",
   "execution_count": null,
   "id": "c2043c84-2664-4a1a-b7e7-b07dd458c22d",
   "metadata": {
    "editable": true,
    "slideshow": {
     "slide_type": ""
    },
    "tags": [
     "remove-output",
     "hide-cell"
    ]
   },
   "outputs": [],
   "source": [
    "# [...] four annotated texts by Friedrich Schiller\n",
    "# Die Piccolomini, \n",
    "# Wallensteins Lager, \n",
    "# Wallensteins Tod \n",
    "# and Wilhelm Tell.\n",
    "\n",
    "# Add an empty new corpus \"training\" with the following metadata\n",
    "\n",
    "chiasmus_annotated_corpus_metadata = {\n",
    "    \"name\" : \"training\", \n",
    "    \"title\": \"Schiller Training Corpus\",\n",
    "    \"description\": \"Corpus of four plays by Friedrich Schiller used to train the Chiasmus Classifier\"\n",
    "}\n",
    "\n",
    "chiasmus_detection_dracor.add_corpus(corpus_metadata=chiasmus_annotated_corpus_metadata)\n",
    "\n",
    "# Create a list with the playnames/filenames of the plays to add\n",
    "\n",
    "chiasmus_annotated_schiller_corpus_playnames = [\n",
    "    \"schiller-die-piccolomini\",\n",
    "    \"schiller-wallensteins-lager\",\n",
    "    \"schiller-wallensteins-tod\",\n",
    "    \"schiller-wilhelm-tell\"]\n",
    "\n",
    "# Add each play in the respective version to the previously created corpus\n",
    "\n",
    "for playname in chiasmus_annotated_schiller_corpus_playnames:\n",
    "    chiasmus_detection_dracor.add_play_version_to_corpus(\n",
    "        filename=playname,\n",
    "        repository_name=\"gerdracor\",\n",
    "        commit=chiasmus_version_commit_id,\n",
    "        corpusname=\"training\")"
   ]
  },
  {
   "cell_type": "markdown",
   "id": "40c10b3e-7de7-4dd0-982b-7c9890a86335",
   "metadata": {
    "editable": true,
    "slideshow": {
     "slide_type": ""
    },
    "tags": []
   },
   "source": [
    "The classifier is then tested on a data set consisting of the other seven plays by Friedrich Schiller included in the GerDraCor corpus at that time. The authors do not explicitly spell out the titles but with having the [local instance of GerDraCor](https://localhost:8088/ger) one can filter for the plays by Schiller or even use the API to filter out plays by a certain author (identified by a Wikidata Identfier, here: [Q22670](https://wikidata.org/entity/Q22670)) as is demonstrated in the following hidden code cell. We use this information to create an additional corpus `test` in the local DraCor instance."
   ]
  },
  {
   "cell_type": "code",
   "execution_count": null,
   "id": "73dae272-ba45-47de-8ef7-2ff6d9bcf46c",
   "metadata": {
    "editable": true,
    "slideshow": {
     "slide_type": ""
    },
    "tags": [
     "remove-cell"
    ]
   },
   "outputs": [],
   "source": [
    "# see example of Schnitzler Corpus in:\n",
    "# https://github.com/dracor-org/dracor-notebooks/blob/docker/docker/local-dracor-with-docker.ipynb\n",
    "# Needs to be implemented"
   ]
  },
  {
   "cell_type": "code",
   "execution_count": null,
   "id": "2f8f1e0a-72bf-44c3-8bbe-3de6e867184d",
   "metadata": {
    "editable": true,
    "slideshow": {
     "slide_type": ""
    },
    "tags": [
     "hide-cell",
     "remove-output"
    ]
   },
   "outputs": [],
   "source": [
    "# [...] seven other dramas by Friedrich Schiller [...]\n",
    "\n",
    "# Add an empty new corpus \"test\" with the following metadata\n",
    "\n",
    "chiasmus_test_corpus_metadata = {\n",
    "    \"name\" : \"test\", \n",
    "    \"title\": \"Schiller Test Corpus\",\n",
    "    \"description\": \"Corpus of the seven other plays by Friedrich Schiller used to test the Chiasmus Classifier\"\n",
    "}\n",
    "\n",
    "chiasmus_detection_dracor.add_corpus(corpus_metadata=chiasmus_test_corpus_metadata)\n",
    "\n",
    "# Create a list with the playnames/filenames of the plays to add\n",
    "\n",
    "chiasmus_schiller_testset_playnames = [\n",
    "    \"schiller-maria-stuart\",\n",
    "    \"schiller-kabale-und-liebe\",\n",
    "    \"schiller-don-carlos-infant-von-spanien\",\n",
    "    \"schiller-die-verschwoerung-des-fiesco-zu-genua\",\n",
    "    \"schiller-die-raeuber\",\n",
    "    \"schiller-die-jungfrau-von-orleans\",\n",
    "    \"schiller-die-braut-von-messina\"]\n",
    "\n",
    "# Add each play in the respective version to the previously created corpus\n",
    "\n",
    "for playname in chiasmus_schiller_testset_playnames:\n",
    "    chiasmus_detection_dracor.add_play_version_to_corpus(\n",
    "        filename=playname,\n",
    "        repository_name=\"gerdracor\",\n",
    "        commit=chiasmus_version_commit_id,\n",
    "        corpusname=\"test\")\n"
   ]
  },
  {
   "cell_type": "markdown",
   "id": "6e99564b-0f90-4487-81be-3163d94a2796",
   "metadata": {
    "editable": true,
    "slideshow": {
     "slide_type": ""
    },
    "tags": []
   },
   "source": [
    "The last corpus that is added to the local DraCor instance contains the remaining 493 documents from GerDraCor that are also used in the paper for testing purposes. In the hidden code cell below this corpus called `rest` is created:"
   ]
  },
  {
   "cell_type": "code",
   "execution_count": null,
   "id": "bc0ff1ff-dd29-40e5-86d8-b35b72a3bd05",
   "metadata": {
    "editable": true,
    "slideshow": {
     "slide_type": ""
    },
    "tags": [
     "remove-output",
     "hide-cell"
    ]
   },
   "outputs": [],
   "source": [
    "# \"[...] remaining 493 documents from GerDraCor\" therefore nedd to exclude \n",
    "# all the plays by Friedrich Schiller in the two lists above\n",
    "\n",
    "chiasmus_playnames_exclude = chiasmus_annotated_schiller_corpus_playnames + chiasmus_schiller_testset_playnames\n",
    "\n",
    "chiasmus_rest_corpus_metadata = {\n",
    "    \"name\" : \"rest\", \n",
    "    \"title\": \"Non-Schiller plays\",\n",
    "    \"description\": \"Corpus of the remaining plays in GerDraCor used to test the Chiasmus Classifier\"\n",
    "}\n",
    "\n",
    "# Add the GerDraCor version, but change the Corpus Metadata; exclude all Schiller-plays added before as separate corpora\n",
    "\n",
    "chiasmus_detection_dracor.add_corpus_from_repo(\n",
    "                             commit = chiasmus_version_commit_id,\n",
    "                             repository_name = \"gerdracor\",\n",
    "                             use_metadata_of_corpus_xml = False,\n",
    "                             corpus_metadata = chiasmus_rest_corpus_metadata, \n",
    "                             exclude = chiasmus_playnames_exclude)"
   ]
  },
  {
   "cell_type": "markdown",
   "id": "a95c2cb7-4bac-4c33-a8c8-bc066e057813",
   "metadata": {
    "editable": true,
    "slideshow": {
     "slide_type": ""
    },
    "tags": []
   },
   "source": [
    "% Figure is rendered in the HTML output here\n",
    "\n",
    "```{figure} ./images/local_chiasmus_detection_dracor.png\n",
    "---\n",
    "width: 600px\n",
    "name: local_chiasmus_detection_dracor\n",
    "---\n",
    "Frontend of the local DraCor infrastructure including the corpora mentioned in the \"Chiasmus Detection\" paper\n",
    "```"
   ]
  },
  {
   "cell_type": "code",
   "execution_count": null,
   "id": "15a43fb5-6438-41ef-b4c1-b092d8b86a52",
   "metadata": {
    "editable": true,
    "slideshow": {
     "slide_type": ""
    },
    "tags": [
     "remove-cell"
    ]
   },
   "outputs": [],
   "source": [
    "# Output the manifest of the local DraCor infrastructure\n",
    "# The Schiller Corpora are not included; this functionality has not been implemented yet!\n",
    "# Would need to actively include the \"include\" field of the manifest\n",
    "# Creating the image doesn't make too much sense. The labels won't be right\n",
    "# This cell is not included in the final HTML rendering of the report\n",
    "\n",
    "chiasmus_detection_dracor.get_manifest()"
   ]
  },
  {
   "cell_type": "markdown",
   "id": "b16382b9-777d-4954-9826-2e5959c1bbca",
   "metadata": {
    "editable": true,
    "slideshow": {
     "slide_type": ""
    },
    "tags": []
   },
   "source": [
    "(section-4-4-2)=\n",
    "### 4.4.2 GerDraCor-based DLINA Sydney Corpus"
   ]
  },
  {
   "cell_type": "markdown",
   "id": "cd581a94-ed64-4f00-9eb6-36fb6cc38450",
   "metadata": {
    "editable": true,
    "slideshow": {
     "slide_type": ""
    },
    "tags": []
   },
   "source": [
    "In section {ref}`excursus-gerdracor-birth` the DLINA Sidney Corpus was mentioned as the main source of the later GerDraCor corpus. The original DLINA corpus contained 465 plays taken from the TextGrid Repository. As the corpus archeology (see {ref}`excursus_major_revisions`) has shown there were several significant changes to the encoding which would result in the early added data not being compatible with the current versions of the DraCor API. Still, it might be an interesting use case to repeat earlier studies of the DLINA collective on the basis of a recent version of the data. Therefore, the following code samples demonstrate how a GerDraCor-based DLINA corpus can be built in a local DraCor setup. It will include all 465 plays originally included in the DLINA corpus, but in the versions as are included in the latest GerDraCor."
   ]
  },
  {
   "cell_type": "code",
   "execution_count": 1,
   "id": "870a3f66-753b-44a6-b1b0-000f9cfa08e8",
   "metadata": {
    "editable": true,
    "slideshow": {
     "slide_type": ""
    },
    "tags": [
     "remove-cell"
    ]
   },
   "outputs": [
    {
     "name": "stdout",
     "output_type": "stream",
     "text": [
      "c2a6d50857a0\n",
      "7791361a5f54\n",
      "233a4177125c\n",
      "08dc69c0dbed\n",
      "c2a6d50857a0\n",
      "7791361a5f54\n",
      "233a4177125c\n",
      "08dc69c0dbed\n"
     ]
    }
   ],
   "source": [
    "%%bash\n",
    "\n",
    "# Stop and remove all Docker containers to avoid conflicts \n",
    "# especially regarding ports in the next section\n",
    "# This cell does not show up in the final rendering of the report\n",
    "# If you want to use the Docker containers above and play around with them, \n",
    "# the following commands should NOT be run\n",
    "\n",
    "docker stop $(docker ps -a -q)\n",
    "docker rm $(docker ps -a -q)"
   ]
  },
  {
   "cell_type": "code",
   "execution_count": 2,
   "id": "8b92621b-0bb2-461c-bbae-0a7496f316e3",
   "metadata": {
    "editable": true,
    "slideshow": {
     "slide_type": ""
    },
    "tags": [
     "remove-cell"
    ]
   },
   "outputs": [],
   "source": [
    "# Setup (This partly repeates code that has been executed elsewhere; make sure everything is available)\n",
    "# This cell is not included in the final HTML rendering of the report\n",
    "\n",
    "# The methods needed for the following analysis are bundled as the class \"GitHubRepo\" \n",
    "# which we import in with the following line\n",
    "\n",
    "from github_utils import GitHubRepo\n",
    "\n",
    "#Import the package\n",
    "from stabledracor.client import StableDraCor\n",
    "\n",
    "# Use a GitHub Personal Access Token, see \n",
    "# https://github.com/ingoboerner/stable-dracor/blob/e300d77c419537538b4d491a8bbe2b9449123131/notebooks/03_faq.ipynb\n",
    "\n",
    "import os\n",
    "github_token = os.environ.get(\"GITHUB_TOKEN\")\n",
    "\n",
    "# For analysing the GerDraCor commit history: Start the GitHub commits analysis with previously downloaded data\n",
    "\n",
    "repo = GitHubRepo(repository_name=\"gerdracor\", \n",
    "                  github_access_token=github_token,\n",
    "                  import_commit_list=\"tmp/gerdracor_commits.json\",\n",
    "                  import_commit_details=\"tmp/gerdracor_commits_detailed.json\",\n",
    "                  import_data_folder_objects=\"tmp/gerdracor_data_folder_objects.json\",\n",
    "                  import_corpus_versions=\"tmp/gerdracor_corpus_versions.json\")"
   ]
  },
  {
   "cell_type": "code",
   "execution_count": 3,
   "id": "501df478-fb52-4e9a-a79d-52755f15f509",
   "metadata": {
    "editable": true,
    "slideshow": {
     "slide_type": ""
    },
    "tags": [
     "hide-cell",
     "remove-output"
    ]
   },
   "outputs": [
    {
     "name": "stderr",
     "output_type": "stream",
     "text": [
      "WARNING:root:Local DraCor API is not available at http://localhost:8088/api/.\n",
      "WARNING:root:Could not detect a running Docker container derived from a dracor/dracor-api image.\n",
      "WARNING:root:Could not detect a running Docker container derived from a dracor/dracor-frontend image.\n",
      "WARNING:root:Could not detect a running Docker container derived from a dracor/dracor-metrics image.\n",
      "WARNING:root:Could not detect a running Docker container derived from a dracor/dracor-fuseki image.\n",
      "WARNING:root:Could not detect a running Docker container derived from a dracor/stable-dracor image.\n",
      " Container dlina_gerdracor-metrics-1  Creating\n",
      " Container dlina_gerdracor-fuseki-1  Creating\n",
      " Container dlina_gerdracor-metrics-1  Created\n",
      " Container dlina_gerdracor-fuseki-1  Created\n",
      " Container dlina_gerdracor-api-1  Creating\n",
      " Container dlina_gerdracor-api-1  Created\n",
      " Container dlina_gerdracor-frontend-1  Creating\n",
      " Container dlina_gerdracor-frontend-1  Created\n",
      " Container dlina_gerdracor-fuseki-1  Starting\n",
      " Container dlina_gerdracor-metrics-1  Starting\n",
      " Container dlina_gerdracor-fuseki-1  Started\n",
      " Container dlina_gerdracor-metrics-1  Started\n",
      " Container dlina_gerdracor-api-1  Starting\n",
      " Container dlina_gerdracor-api-1  Started\n",
      " Container dlina_gerdracor-frontend-1  Starting\n",
      " Container dlina_gerdracor-frontend-1  Started\n"
     ]
    },
    {
     "data": {
      "text/plain": [
       "True"
      ]
     },
     "execution_count": 3,
     "metadata": {},
     "output_type": "execute_result"
    }
   ],
   "source": [
    "dlina_gerdracor = StableDraCor(\n",
    "    name=\"dlina_gerdracor\", \n",
    "    description=\"DraCor system including all plays available in the DLINA Sydney corpus in a recent DraCor encoding\",\n",
    "    github_access_token=github_token\n",
    ")\n",
    "\n",
    "dlina_gerdracor.run()"
   ]
  },
  {
   "cell_type": "markdown",
   "id": "d62f6ef0-0831-4cc3-8938-fa7bd255c5b3",
   "metadata": {
    "editable": true,
    "slideshow": {
     "slide_type": ""
    },
    "tags": []
   },
   "source": [
    "With the commit \"fdac66ba90c2c094012dc90395e952411d324e4c\" the original DLINA file names of all TEI-XML files are changed to now match the identifier playname in GerDraCor, but after that, there are still some files renamed."
   ]
  },
  {
   "cell_type": "code",
   "execution_count": 4,
   "id": "dcfd9383-af4d-4012-bee9-1f84da443899",
   "metadata": {
    "editable": true,
    "slideshow": {
     "slide_type": ""
    },
    "tags": []
   },
   "outputs": [],
   "source": [
    "# Should get the list of the original playnames, \n",
    "# but make sure there are no problems with renamed plays\n",
    "\n",
    "version_renaming_id = \"fdac66ba90c2c094012dc90395e952411d324e4c\"\n",
    "\n",
    "# From the dictonary representing the \"version\" get the field \"playnames\" that contains the\n",
    "# plays available in a certain version\n",
    "\n",
    "dlina_playnames = repo.get_corpus_version(version=version_renaming_id)[\"playnames\"]"
   ]
  },
  {
   "cell_type": "code",
   "execution_count": null,
   "id": "2e21724f-5735-4a16-8707-2a364dc4db93",
   "metadata": {
    "editable": true,
    "slideshow": {
     "slide_type": ""
    },
    "tags": []
   },
   "outputs": [],
   "source": [
    "# Get the file-names from the renaming version"
   ]
  },
  {
   "cell_type": "code",
   "execution_count": 5,
   "id": "ed3c8150-fbb1-483d-ae37-9197e7d117d4",
   "metadata": {
    "editable": true,
    "slideshow": {
     "slide_type": ""
    },
    "tags": []
   },
   "outputs": [],
   "source": [
    "rename_incidents = repo.get_renamed_files(\n",
    "    exclude_versions=[\"e18c322706417825229f1471b15bd6daaeaf3ab1\", \n",
    "                     \"fdac66ba90c2c094012dc90395e952411d324e4c\"])"
   ]
  },
  {
   "cell_type": "code",
   "execution_count": 6,
   "id": "ebdb41cd-f131-4f01-938e-4f865e172a3a",
   "metadata": {
    "editable": true,
    "slideshow": {
     "slide_type": ""
    },
    "tags": []
   },
   "outputs": [],
   "source": [
    "new_gerdracor_playnames = []\n",
    "unchanged_playnames = []\n",
    "\n",
    "for original_playname in dlina_playnames:\n",
    "    renamed_flag = False\n",
    "    for item in rename_incidents:\n",
    "        if f\"tei/{original_playname}.xml\" == item[\"previous_filename\"]:\n",
    "            new_gerdracor_playname = item[\"new_filename\"].split(\"/\")[1].replace(\".xml\",\"\")\n",
    "            new_gerdracor_playnames.append(new_gerdracor_playname)\n",
    "            renamed_flag = True\n",
    "    if renamed_flag is False:\n",
    "        unchanged_playnames.append(original_playname)"
   ]
  },
  {
   "cell_type": "code",
   "execution_count": null,
   "id": "78addd77-76ab-42e3-8fbd-de69abb326f5",
   "metadata": {
    "editable": true,
    "slideshow": {
     "slide_type": ""
    },
    "tags": [
     "remove-cell"
    ]
   },
   "outputs": [],
   "source": [
    "len(new_gerdracor_playnames)"
   ]
  },
  {
   "cell_type": "code",
   "execution_count": null,
   "id": "7a553e96-9e86-4291-8cf8-af25b291e4f5",
   "metadata": {
    "editable": true,
    "slideshow": {
     "slide_type": ""
    },
    "tags": [
     "remove-cell"
    ]
   },
   "outputs": [],
   "source": [
    "len(unchanged_playnames)"
   ]
  },
  {
   "cell_type": "code",
   "execution_count": null,
   "id": "bd4a4753-c160-4e4d-8ff7-ac12891728e0",
   "metadata": {
    "editable": true,
    "slideshow": {
     "slide_type": ""
    },
    "tags": [
     "remove-cell"
    ]
   },
   "outputs": [],
   "source": [
    "assert len(new_gerdracor_playnames) + len(unchanged_playnames) == 465, \"Not all renamed plays detected.\""
   ]
  },
  {
   "cell_type": "code",
   "execution_count": 7,
   "id": "eeeabca5-54dd-4792-a473-b05bad5ff3bc",
   "metadata": {
    "editable": true,
    "slideshow": {
     "slide_type": ""
    },
    "tags": []
   },
   "outputs": [
    {
     "data": {
      "text/plain": [
       "True"
      ]
     },
     "execution_count": 7,
     "metadata": {},
     "output_type": "execute_result"
    }
   ],
   "source": [
    "# Get the latest commit to the GerDraCor repository. \n",
    "# This will be included in the description of the new corpus\n",
    "# it is also needed because this version will be used as source of the plays added to the corpus\n",
    "\n",
    "latest_gerdracor_version_id = repo.get_latest_corpus_version()[\"id\"]\n",
    "\n",
    "# Add an empty new corpus \"dlina\" with the following metadata\n",
    "\n",
    "dlina_corpus_metadata = {\n",
    "    \"name\" : \"dlina\", \n",
    "    \"title\": \"GerDraCor-based DLINA Corpus Sydney\",\n",
    "    \"description\": f\"Version of the German Drama Corpus (GerDraCor, version {latest_gerdracor_version_id}) containing only plays available in the DLINA Corpus Sydney\"\n",
    "}\n",
    "\n",
    "dlina_gerdracor.add_corpus(corpus_metadata=dlina_corpus_metadata)"
   ]
  },
  {
   "cell_type": "code",
   "execution_count": 8,
   "id": "b5682f97-3a70-45e3-9981-e6ceec399087",
   "metadata": {
    "editable": true,
    "slideshow": {
     "slide_type": ""
    },
    "tags": []
   },
   "outputs": [
    {
     "name": "stderr",
     "output_type": "stream",
     "text": [
      "WARNING:root:Could not add play from source 'https://raw.githubusercontent.com/dracor-org/gerdracor/2def59bb9123187740bf4c3136eb500deee154db/tei/fouque-der-held-des-nordens.xml'.\n"
     ]
    }
   ],
   "source": [
    "# Add each play in the respective version to the previously created corpus\n",
    "\n",
    "playnames_to_add = new_gerdracor_playnames + unchanged_playnames\n",
    "\n",
    "for playname in playnames_to_add:\n",
    "    dlina_gerdracor.add_play_version_to_corpus(\n",
    "        filename=playname,\n",
    "        repository_name=\"gerdracor\",\n",
    "        commit=latest_gerdracor_version_id,\n",
    "        corpusname=\"dlina\")"
   ]
  },
  {
   "cell_type": "code",
   "execution_count": null,
   "id": "780d9003-179d-40c3-a498-e81d0f38f473",
   "metadata": {
    "editable": true,
    "slideshow": {
     "slide_type": ""
    },
    "tags": []
   },
   "outputs": [],
   "source": [
    "# This is not a renaming problem with fouque-der-held-des-nordens; \n",
    "# the play has been split up in three\n",
    "\n",
    "# Mir fällt schon auf, Ich frag hier immer wegen DLINA... also https://dlina.github.io/linas/212/ gibt es so nicht mehr; das ist kein Fall von \"Umbenennung\"; ist das aus dem ursprünglichen lina212 -> \n",
    "# TEI version\tger000212, ger000471 und ger000470 geworden?\n",
    "\n",
    "#pt jip, das ist in DraCor gesplittet\n",
    "\n",
    "# ff: a, die 5 mehrteiligen stücke in dieser liste (von 2015) hatten wir schon vorher gesplittet:https://github.com/DLiNa/project/blob/master/data/TextGrid-Repository---List-of-all-dramatic-texts.txt\n",
    "\n",
    "# (in der liste die nummern 18, 137, 217, 273, 490 – das waren aber noch keine dracor-IDs)\n",
    "\n",
    "#bei fouqués held des nordens fiel mir die mehrteiligkeit dann erst auf, als ich stück für stück durchgegangen bin, daher das spätere splitting…"
   ]
  },
  {
   "cell_type": "code",
   "execution_count": null,
   "id": "c2b6403e-ffdf-46bf-bdba-d1ba2858f0aa",
   "metadata": {},
   "outputs": [],
   "source": [
    "# Sigurd, der Schlangentödter\n",
    "# \"fouque-sigurds-rache\"\n",
    "# Aslauga"
   ]
  },
  {
   "cell_type": "code",
   "execution_count": null,
   "id": "cd52e3d2-da9d-414b-9e69-55dd1722f8a8",
   "metadata": {
    "editable": true,
    "slideshow": {
     "slide_type": ""
    },
    "tags": []
   },
   "outputs": [],
   "source": [
    "# The DLINA play https://dlina.github.io/linas/212/ is actually a trilogy; \n",
    "#In GerDraCor the play is split into three indiviual plays\n",
    "\n",
    "fouque_held_des_nordens_part_playnames = [\n",
    "    \"fouque-sigurd-der-schlangentoedter\",\n",
    "    \"fouque-sigurds-rache\",\n",
    "    \"fouque-aslauga\"\n",
    "]\n",
    "\n",
    "for playname in fouque_held_des_nordens_part_playnames:\n",
    "    dlina_gerdracor.add_play_version_to_corpus(\n",
    "        filename=playname,\n",
    "        repository_name=\"gerdracor\",\n",
    "        commit=latest_gerdracor_version_id,\n",
    "        corpusname=\"dlina\")"
   ]
  },
  {
   "cell_type": "markdown",
   "id": "b7a3273d-7a45-4932-a3a9-0da11c21c6d6",
   "metadata": {},
   "source": [
    "% Figure is rendered in the HTML output here\n",
    "\n",
    "```{figure} ./images/local_dlina_dracor.png\n",
    "---\n",
    "width: 600px\n",
    "name: local_dlina_dracor\n",
    "---\n",
    "Frontend of the local DraCor infrastructure including the plays contained in the DLINA Corpus Sydney\n",
    "```"
   ]
  },
  {
   "cell_type": "code",
   "execution_count": null,
   "id": "ea77798b-2f14-4827-b4ac-f36f2569fe37",
   "metadata": {
    "editable": true,
    "slideshow": {
     "slide_type": ""
    },
    "tags": []
   },
   "outputs": [],
   "source": [
    "# Get links to the commits that add the three individual plays\n",
    "\n",
    "for playname in fouque_held_des_nordens_part_playnames:\n",
    "    print(repo.get_github_commit_url_of_version(\n",
    "        repo.get_corpus_version_adding_play(playname=playname)[\"id\"]))"
   ]
  },
  {
   "cell_type": "markdown",
   "id": "b398427f-7a49-45db-a85e-b88942f689a9",
   "metadata": {
    "editable": true,
    "slideshow": {
     "slide_type": ""
    },
    "tags": []
   },
   "source": [
    "On December 16th, 2018 the play with the filename `fouque-der-held-des-nordens.xml` which is actually a trilogy was split up into three individual plays."
   ]
  },
  {
   "cell_type": "code",
   "execution_count": null,
   "id": "d1da20f6-8eaa-4287-8b70-06c9d4a0eb00",
   "metadata": {},
   "outputs": [],
   "source": [
    "%%bash\n",
    "\n",
    "# Stop and remove all Docker containers to avoid conflicts \n",
    "# especially regarding ports in the next section\n",
    "# This cell does not show up in the final rendering of the report\n",
    "# If you want to use the Docker containers above and play around with them, \n",
    "# the following commands should NOT be run\n",
    "\n",
    "docker stop $(docker ps -a -q)\n",
    "docker rm $(docker ps -a -q)"
   ]
  },
  {
   "cell_type": "code",
   "execution_count": null,
   "id": "cb93d412-4371-46b1-9d2e-8c8e27f12ac0",
   "metadata": {},
   "outputs": [],
   "source": []
  }
 ],
 "metadata": {
  "kernelspec": {
   "display_name": "Python 3 (ipykernel)",
   "language": "python",
   "name": "python3"
  },
  "language_info": {
   "codemirror_mode": {
    "name": "ipython",
    "version": 3
   },
   "file_extension": ".py",
   "mimetype": "text/x-python",
   "name": "python",
   "nbconvert_exporter": "python",
   "pygments_lexer": "ipython3",
   "version": "3.11.6"
  }
 },
 "nbformat": 4,
 "nbformat_minor": 5
}
