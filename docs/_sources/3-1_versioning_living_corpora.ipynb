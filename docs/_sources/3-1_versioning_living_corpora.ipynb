{
 "cells": [
  {
   "cell_type": "markdown",
   "id": "d9d6aed2-e6a8-42ca-b9ed-845bb705ec39",
   "metadata": {
    "editable": true,
    "slideshow": {
     "slide_type": ""
    },
    "tags": []
   },
   "source": [
    "# 3. Versioning Living Corpora Using Git Commit"
   ]
  },
  {
   "cell_type": "markdown",
   "id": "b1a6940c-5cbb-42dc-9802-5f8b6ab22d63",
   "metadata": {
    "editable": true,
    "slideshow": {
     "slide_type": ""
    },
    "tags": []
   },
   "source": [
    "In the following, we show the capabilities of Git for the versioning and change tracking of living corpora. We will do this by describing and analyzing the evolution of a GitHub repository that contains a DraCor corpus. While the [PDF version](https://zenodo.org/communities/clsinfra) of this report we only document the analysis, this web-based version of this analysis is executable and fully reproducible.[^how_2_run] Our analysis is conducted with the German Drama Corpus (GerDraCor), but the method used (and the code implemented) will be largely applicable to any other DraCor corpus.\n",
    "\n",
    "[^how_2_run]:See the `README.md`file in the [repository](https://github.com/dh-network/clsinfra-d73) for instructions on how to run the Docker container with a pre-installed Jupyter Lab instance that can be used to run or modify the code of this executable report."
   ]
  },
  {
   "cell_type": "markdown",
   "id": "7cf684a1-f414-4df3-8480-dd8a2aefbfc3",
   "metadata": {
    "editable": true,
    "slideshow": {
     "slide_type": ""
    },
    "tags": []
   },
   "source": [
    "(section-3-1)=\n",
    "## 3.1 How to Better Not Cite a Living Corpus. An Example From Current Research"
   ]
  },
  {
   "cell_type": "markdown",
   "id": "3e43dd6f-af10-4d0e-ac39-55df3a9f944b",
   "metadata": {
    "editable": true,
    "slideshow": {
     "slide_type": ""
    },
    "tags": []
   },
   "source": [
    "In this first step, we will take a short and exemplary look at an actual CLS research project and how it deals with the living corpora of DraCor. Our aim is to show that the way DraCor is cited is insufficient to enable reproducibility of the research. \n",
    "\n",
    "It has become quite common for research that use DraCor corpora to \n",
    "1. cite the paper {cite:p}`fischer_2019_programmable-corpora`[^why_cite_fischer2019]\n",
    "2. include the information on how many plays are in the corpus used. \n",
    "\n",
    "[^why_cite_fischer2019]:It is understandable that this paper is cited, as it is listed on the [main page of DraCor](https://dracor.org) as a citation recommendation (\"If you want to cite DraCor, please use the following reference \\[...\\]\"), as well as in the [README.md file](https://github.com/dracor-org/gerdracor/blob/82c90cd0fef330a5547d8d86058d9238e46effad/README.md) in the Github repository of GerDraCor (\"If you want to cite the corpus, please use this publication \\[...\\]\"). This is not intended as a criticism of the researchers who use DraCor resources, but rather as food for thought for us as creators of DraCor asking how users can be given a citation recommendation that actively promotes repeatability of research. This applies to information on the website, auxiliary files in the data repositories as well as in the design of the API responses: currently even information returned by the API, i.e. the responses of the endpoints `/info`, `/corpora` and `/corpora/{corpusname}` (see [API Documentation](https://dracor.org/doc/api)) do not include the state or version of the data currently ingested into the database and thus available via the API.\n",
    "\n",
    "Plays used as examples are mostly referenced by author and title (and not, what we would recommend, by their DraCor ID[^dracor_id]). This can, for example be observed in the following quotations of a research paper that uses GerDraCor to develop and test a tool using machine learning methods to detect chiasmi in literary texts:\n",
    "\n",
    "[^dracor_id]:In the report “On Programmable Corpora” this is the feature `P2 play_id`, see “Tab. 02: Play Features” {cite:p}`boerner_2023_report`{p.38}, e.g. `ger000086` of the play *Die Piccolomini* by Friedrich Schiller. These identifiers can be resoved via the `/id/{id}` API endpoint or the resolver at `https://dracor.org/id/{id}`.\n",
    "\n",
    "> “We perform two types of experiments. \\[...\\] In the second experiment we evaluate how well our model generalizes to texts from different authors not included in the training data. To this end we extract PoS tag inversions from the GerDraCor corpus (Fischer et al., 2019) \\[...\\]” The **training data set** (https://git.io/ChiasmusData) “\\[...\\] consists of **four annotated texts by Friedrich Schiller** *Die Piccolomini*, *Wallensteins Lager*, *Wallensteins Tod* and *Wilhelm Tell*. We annotated the whole texts, finding 45 general chiasmi and 9 antimetaboles.” {cite:p}`schneider_2021_chiasmi{p.98}` emphasis \\[bold\\] by us\n",
    "\n",
    "And further\n",
    "\n",
    "> “\\[...\\] we evaluate the generalization performance of our chiasmus classifier trained on the four annotated Schiller dramas to other texts. The **first set of texts comprises seven other dramas by Friedrich Schiller** \\[...\\]. To see how well our method generalizes to different authors, we tested it on the remaining **493 documents from GerDraCor**.” {cite:p}`schneider_2021_chiasmi{p.98}` emphasis \\[bold\\] by us\n",
    "\n",
    "Although the authors publish their tool and the derived [dataset](https://git.io/ChiasmusData / https://github.com/cvjena/chiasmus-annotations) as open source resp. open data, it is not self-evident which version of GerDraCor was used. The only information that may support the identification of the version is the information about the number of plays “504”[^504_play_version] included in GerDraCor at the time of assembling the training and test data set based on the corpus (and, of course, bibliographic metadata of the study itself, such as the date of publication). But in fact, there might be more than one version with 504 plays. \n",
    "\n",
    "[^504_play_version]:4 (annotated plays) + 7 other Schiller plays + 493 remaining documents from GerDraCor =  504 plays overall\n",
    "\n",
    "Based on this information, it is therefore not clear what data was used exactly in the study. However, this would be a problem for reproduction of this research. But how the problem could be solved? In the next chapter, we will show that there is a quite simple and elegant solution: Git commit history."
   ]
  },
  {
   "cell_type": "markdown",
   "id": "08dbf5aa-6f6f-4a59-bd2d-bb9b070b06d3",
   "metadata": {
    "editable": true,
    "slideshow": {
     "slide_type": ""
    },
    "tags": []
   },
   "source": [
    "(section-3-2)=\n",
    "## 3.2 Citing Git Commits as Corpus Versions. Introduction"
   ]
  },
  {
   "cell_type": "markdown",
   "id": "a5683778-a79c-451f-b517-4cb8ef350d19",
   "metadata": {
    "editable": true,
    "slideshow": {
     "slide_type": ""
    },
    "tags": []
   },
   "source": [
    "In our report “On Programmable Corpora” we have already introduced GitHub as a “key infrastructural component” in developing the DraCor toolset as well as in curating and hosting DraCor corpora. Previously, we have also relied on GitHub to directly link into the codebase of the DraCor API and other components of our ecosystem when explaining its inner workings (cf. {cite:t}`boerner_2023_report`). However, in this section, it is the platform GitHub itself that is in the focus of our attention when we try to demonstrate how to effectively deal with datasets that are constantly in flux. Because DraCor is using Git (and respectively GitHub) for publishing corpora the process of creating and maintaining a corpus is fully transparent and traceable. As we will show, this also opens up unrivaled possibilities for versioning and the corresponding referencing of living corpora.\n",
    "\n",
    "Unlike the repositories of DraCor software components (cf. the repository of the [DraCor API](https://github.com/dracor-org/dracor-api)) for which [releases](https://github.com/dracor-org/dracor-api/releases) are published, in the case of corpus repositories this feature is (curently) not used.[^github_docu_release] However, it is still possible to very precisely point to a single “version” (or “snapshot”) of the data set. This can be done by referring to an individual *commit*[^commit_explained]. Because all editing operations are “recorded” or “logged” when committed, the commits can be used to reconstruct the state of a corpus of a given point in time. We can consider the commits the “implicit versions” of DraCor corpora.\n",
    "\n",
    "[^github_docu_release]: On \"releases\" cf. [GitHub Documentation](https://docs.github.com/en/repositories/releasing-projects-on-github/about-releases). \n",
    "\n",
    "[^commit_explained]:The [glossary of the Git documentation](https://git-scm.com/docs/gitglossary#Documentation/gitglossary) defines “commit” the following: “A single point in the Git history; the entire history of a project is represented as a set of interrelated commits. The word ‘commit‘ is often used by Git in the same places other revision control systems use the words ‘revision’ or ‘version’.” ([https://git-scm.com/docs/gitglossary#Documentation/gitglossary.txt-aiddefcommitacommit](https://git-scm.com/docs/gitglossary#Documentation/gitglossary.txt-aiddefcommitacommit)).\n",
    "\n",
    "The GUI of GitHub already provides powerful tools to dive into the commit history of a corpus data set. The commit history of the repository [https://github.com/dracor-org/gerdracor](https://github.com/dracor-org/gerdracor) can be easily reached from the landing page (see {numref}`gerdracor-on-github-landing-page`)."
   ]
  },
  {
   "cell_type": "markdown",
   "id": "ca6b4b0d-5823-49ad-883d-72776b63302e",
   "metadata": {
    "editable": true,
    "slideshow": {
     "slide_type": ""
    },
    "tags": []
   },
   "source": [
    "% Figure is rendered in the HTML output here\n",
    "\n",
    "```{figure} ./images/gerdracor_on_github.png\n",
    "---\n",
    "width: 600px\n",
    "name: gerdracor-on-github-landing-page\n",
    "---\n",
    "Landing page of the repository of GerDraCor on GitHub\n",
    "```"
   ]
  },
  {
   "cell_type": "markdown",
   "id": "43aadf22-a5c4-4690-a67b-0e01d24796de",
   "metadata": {
    "editable": true,
    "slideshow": {
     "slide_type": ""
    },
    "tags": []
   },
   "source": [
    "The header above the file listing of the root folder (see {numref}`gerdracor-on-github-landing-page-detail`) includes a link to the [latest commit](https://github.com/dracor-org/gerdracor/commit/67fa8b39c90d4a1952d11c771b5d58175a8ccdf4) as well as the [commit history](https://github.com/dracor-org/gerdracor/commits/main/) (see {numref}`gerdracor-on-github-landing-page-detail`)."
   ]
  },
  {
   "cell_type": "markdown",
   "id": "60a8270f-4125-46fe-a820-0ff8161e47db",
   "metadata": {
    "editable": true,
    "slideshow": {
     "slide_type": ""
    },
    "tags": []
   },
   "source": [
    "% Figure is rendered in the HTML output here\n",
    "\n",
    "```{figure} ./images/gerdracor-on-github-landing-page-detail.png\n",
    "---\n",
    "width: 600px\n",
    "name: gerdracor-on-github-landing-page-detail\n",
    "---\n",
    "Links to most recent commit and commit history\n",
    "```"
   ]
  },
  {
   "cell_type": "markdown",
   "id": "552a0585-1f69-43b5-b16a-b4c8353b0b45",
   "metadata": {
    "editable": true,
    "slideshow": {
     "slide_type": ""
    },
    "tags": []
   },
   "source": [
    "The commit history allows for filtering commits by a certain date range, e.g. it is possible to display [commits dating from February 2018](https://github.com/dracor-org/gerdracor/commits/main/?since=2018-02-01&until=2018-02-28). From this list a single commit can be explored, e.g. from February 14th 2018. [This commit](https://github.com/dracor-org/gerdracor/commit/30760ec3ff4aa340f785bcc17bfd3ca81e7e2d06) is identified by the SHA value of `30760ec3ff4aa340f785bcc17bfd3ca81e7e2d06`, which can also be found as part of the URL in the address bar of the browser. \n",
    "\n",
    "From the single commit view it is possible to get to all TEI-XML files of the plays in the corpus at that point in time. This can either be done by clicking on the button “Browse files” in the upper right corner of the gray commit page header and then, on the landing page, by navigating to the folder `tei`; or, as a shortcut, by directly changing the URL in the address bar of the browser: To address the TEI files in the state of February 2018 the commit identifier `/tree/{commit SHA}/tei` can be appended to the URL of the GerDraCor repository `https://github.com/dracor-org/gerdracor`, resulting in: [https://github.com/dracor-org/gerdracor/tree/30760ec3ff4aa340f785bcc17bfd3ca81e7e2d06/tei](https://github.com/dracor-org/gerdracor/tree/30760ec3ff4aa340f785bcc17bfd3ca81e7e2d06/tei)\n",
    "\n",
    "This example demonstrates that even without specialized tools and just by using the GitHub Web Interface it is straightforward to precisely retrieve a dated “version” of the corpus files. The only requirement is that the commit, or at least, the precise date or the date range in which the corpus was used is known."
   ]
  },
  {
   "cell_type": "markdown",
   "id": "9c7bbaaf-5c93-4014-abd5-d2d46278528c",
   "metadata": {
    "editable": true,
    "slideshow": {
     "slide_type": ""
    },
    "tags": []
   },
   "source": [
    "(section-3-3)=\n",
    "## 3.3 Retrieving (Technical) Corpus Metadata via the GitHub API"
   ]
  },
  {
   "cell_type": "markdown",
   "id": "e6596d23-c467-4709-b215-c1a41e7f2c24",
   "metadata": {
    "editable": true,
    "slideshow": {
     "slide_type": ""
    },
    "tags": []
   },
   "source": [
    "To retrieve metadata about the commits and, thus, the state of a corpus (the “implicit version”) at a given point in time, the GitHub API is used.[^github_api_docu] We will illustrate some functions of the API that are relevant in the following. Although we include URLs of concrete examples, the implemented methods to retrieve the data for the analysis in the excursus (see next chapter) will work the same way.\n",
    "\n",
    "[^github_api_docu]:See the [“GitHub REST API documentation”](https://docs.github.com/en/rest?apiVersion=2022-11-28)."
   ]
  },
  {
   "cell_type": "code",
   "execution_count": 2,
   "id": "a26bf518-5849-4ed4-8c67-fc832bc0db1d",
   "metadata": {
    "editable": true,
    "slideshow": {
     "slide_type": ""
    },
    "tags": [
     "remove-cell"
    ]
   },
   "outputs": [],
   "source": [
    "# This is needed to re-use outputs of code in the markdown cells. \n",
    "# This cell is removed in the rendered report\n",
    "\n",
    "from myst_nb import glue"
   ]
  },
  {
   "cell_type": "code",
   "execution_count": 3,
   "id": "bb1b76bc-8bfc-4e06-afe6-548d8cc89e04",
   "metadata": {
    "editable": true,
    "slideshow": {
     "slide_type": ""
    },
    "tags": [
     "remove-cell"
    ]
   },
   "outputs": [
    {
     "data": {
      "text/plain": [
       "30"
      ]
     },
     "metadata": {
      "scrapbook": {
       "mime_prefix": "",
       "name": "get_commits_example_response_commits_count"
      }
     },
     "output_type": "display_data"
    }
   ],
   "source": [
    "# Get the data of an example to request commits\n",
    "# This cell is removed in the rendered output\n",
    "import requests, json\n",
    "\n",
    "r = requests.get(url=\"https://api.github.com/repos/dracor-org/gerdracor/commits\")\n",
    "if r.status_code == 200:\n",
    "    get_commits_example_response_data = json.loads(r.text)\n",
    "    get_commits_example_response_commits_count = len(get_commits_example_response_data)\n",
    "    \n",
    "    glue(\"get_commits_example_response_commits_count\", \n",
    "         get_commits_example_response_commits_count)"
   ]
  },
  {
   "cell_type": "markdown",
   "id": "88dde737-ae42-418b-9735-3f487ec4752a",
   "metadata": {
    "editable": true,
    "slideshow": {
     "slide_type": ""
    },
    "tags": []
   },
   "source": [
    "A **list of commits of a repository including basic metadata** can be requested from the URL [https://api.github.com/repos/dracor-org/gerdracor/commits](https://api.github.com/repos/dracor-org/gerdracor/commits). \n",
    "\n",
    "This returns the commits in the repository in batches of {glue:}`get_commits_example_response_commits_count` commits starting with the most recent one. The respective API operation is used to retrieve **the identifiers of the commits** (dictionary key `sha`) and the **dates when the changes were committed**. See the following code cell for an example."
   ]
  },
  {
   "cell_type": "code",
   "execution_count": 4,
   "id": "1549a095-07cd-4da3-9ccb-3a0d65504bd2",
   "metadata": {
    "editable": true,
    "slideshow": {
     "slide_type": ""
    },
    "tags": [
     "hide-cell"
    ]
   },
   "outputs": [
    {
     "data": {
      "text/plain": [
       "{'sha': '82c90cd0fef330a5547d8d86058d9238e46effad',\n",
       " 'node_id': 'C_kwDOBH09MdoAKDgyYzkwY2QwZmVmMzMwYTU1NDdkOGQ4NjA1OGQ5MjM4ZTQ2ZWZmYWQ',\n",
       " 'commit': {'author': {'name': 'Frank Fischer',\n",
       "   'email': 'lehkost@users.noreply.github.com',\n",
       "   'date': '2024-02-22T12:37:29Z'},\n",
       "  'committer': {'name': 'Frank Fischer',\n",
       "   'email': 'lehkost@users.noreply.github.com',\n",
       "   'date': '2024-02-22T12:37:29Z'},\n",
       "  'message': 'typo',\n",
       "  'tree': {'sha': '5d95c34af64a6b9c0bbdbce7bf6ae6b05f628b17',\n",
       "   'url': 'https://api.github.com/repos/dracor-org/gerdracor/git/trees/5d95c34af64a6b9c0bbdbce7bf6ae6b05f628b17'},\n",
       "  'url': 'https://api.github.com/repos/dracor-org/gerdracor/git/commits/82c90cd0fef330a5547d8d86058d9238e46effad',\n",
       "  'comment_count': 0,\n",
       "  'verification': {'verified': False,\n",
       "   'reason': 'unsigned',\n",
       "   'signature': None,\n",
       "   'payload': None}},\n",
       " 'url': 'https://api.github.com/repos/dracor-org/gerdracor/commits/82c90cd0fef330a5547d8d86058d9238e46effad',\n",
       " 'html_url': 'https://github.com/dracor-org/gerdracor/commit/82c90cd0fef330a5547d8d86058d9238e46effad',\n",
       " 'comments_url': 'https://api.github.com/repos/dracor-org/gerdracor/commits/82c90cd0fef330a5547d8d86058d9238e46effad/comments',\n",
       " 'author': {'login': 'lehkost',\n",
       "  'id': 6539515,\n",
       "  'node_id': 'MDQ6VXNlcjY1Mzk1MTU=',\n",
       "  'avatar_url': 'https://avatars.githubusercontent.com/u/6539515?v=4',\n",
       "  'gravatar_id': '',\n",
       "  'url': 'https://api.github.com/users/lehkost',\n",
       "  'html_url': 'https://github.com/lehkost',\n",
       "  'followers_url': 'https://api.github.com/users/lehkost/followers',\n",
       "  'following_url': 'https://api.github.com/users/lehkost/following{/other_user}',\n",
       "  'gists_url': 'https://api.github.com/users/lehkost/gists{/gist_id}',\n",
       "  'starred_url': 'https://api.github.com/users/lehkost/starred{/owner}{/repo}',\n",
       "  'subscriptions_url': 'https://api.github.com/users/lehkost/subscriptions',\n",
       "  'organizations_url': 'https://api.github.com/users/lehkost/orgs',\n",
       "  'repos_url': 'https://api.github.com/users/lehkost/repos',\n",
       "  'events_url': 'https://api.github.com/users/lehkost/events{/privacy}',\n",
       "  'received_events_url': 'https://api.github.com/users/lehkost/received_events',\n",
       "  'type': 'User',\n",
       "  'site_admin': False},\n",
       " 'committer': {'login': 'lehkost',\n",
       "  'id': 6539515,\n",
       "  'node_id': 'MDQ6VXNlcjY1Mzk1MTU=',\n",
       "  'avatar_url': 'https://avatars.githubusercontent.com/u/6539515?v=4',\n",
       "  'gravatar_id': '',\n",
       "  'url': 'https://api.github.com/users/lehkost',\n",
       "  'html_url': 'https://github.com/lehkost',\n",
       "  'followers_url': 'https://api.github.com/users/lehkost/followers',\n",
       "  'following_url': 'https://api.github.com/users/lehkost/following{/other_user}',\n",
       "  'gists_url': 'https://api.github.com/users/lehkost/gists{/gist_id}',\n",
       "  'starred_url': 'https://api.github.com/users/lehkost/starred{/owner}{/repo}',\n",
       "  'subscriptions_url': 'https://api.github.com/users/lehkost/subscriptions',\n",
       "  'organizations_url': 'https://api.github.com/users/lehkost/orgs',\n",
       "  'repos_url': 'https://api.github.com/users/lehkost/repos',\n",
       "  'events_url': 'https://api.github.com/users/lehkost/events{/privacy}',\n",
       "  'received_events_url': 'https://api.github.com/users/lehkost/received_events',\n",
       "  'type': 'User',\n",
       "  'site_admin': False},\n",
       " 'parents': [{'sha': 'ed69140328929dec5da1c597a84758627d3680c3',\n",
       "   'url': 'https://api.github.com/repos/dracor-org/gerdracor/commits/ed69140328929dec5da1c597a84758627d3680c3',\n",
       "   'html_url': 'https://github.com/dracor-org/gerdracor/commit/ed69140328929dec5da1c597a84758627d3680c3'}]}"
      ]
     },
     "execution_count": 4,
     "metadata": {},
     "output_type": "execute_result"
    }
   ],
   "source": [
    "# first commit in the array returned in the respone \n",
    "# of a request to https://api.github.com/repos/dracor-org/gerdracor/commits\n",
    "\n",
    "r = requests.get(url=\"https://api.github.com/repos/dracor-org/gerdracor/commits\")\n",
    "if r.status_code == 200:\n",
    "    get_commits_example_response_data = json.loads(r.text)\n",
    "\n",
    "get_commits_example_response_data[0]"
   ]
  },
  {
   "cell_type": "markdown",
   "id": "16a59c2b-361b-4ba3-a49e-a77dc301bda3",
   "metadata": {
    "editable": true,
    "slideshow": {
     "slide_type": ""
    },
    "tags": []
   },
   "source": [
    "**More detailed information on a single commit** can be retrieved by attaching the SHA value to the URL of the commits endpoint. So, the detailed metadata of the commit identified by the SHA `67fa8b39c90d4a1952d11c771b5d58175a8ccdf4` can be retrieved by sending a request to the URL [https://api.github.com/repos/dracor-org/gerdracor/commits/67fa8b39c90d4a1952d11c771b5d58175a8ccdf4](https://api.github.com/repos/dracor-org/gerdracor/commits/67fa8b39c90d4a1952d11c771b5d58175a8ccdf4).\n",
    "\n",
    "On the basis of the returned data it is possible, for example, to find out **which files had been added, modified, renamed or deleted** (see `status` in the `files` section of the response object) in a given commit. In the case of the commit in question, in the `files` section of the returned JSON object, the TEI-XML file `kotzebue-das-posthaus-in-treuenbrietzen.xml` of the play “Das Posthaus in Treuenbrietzen” by the author August von Kotzebue is listed with `added` as its status field value. To see the example expand the following code cell."
   ]
  },
  {
   "cell_type": "code",
   "execution_count": 5,
   "id": "17becbe3-5140-48a0-9878-93742dd29f1f",
   "metadata": {
    "editable": true,
    "slideshow": {
     "slide_type": ""
    },
    "tags": [
     "hide-cell"
    ]
   },
   "outputs": [
    {
     "data": {
      "text/plain": [
       "[{'sha': '0f0008dfcb846ae837b0b5de55753ced5059f2cb',\n",
       "  'filename': 'tei/kotzebue-das-posthaus-in-treuenbrietzen.xml',\n",
       "  'status': 'added',\n",
       "  'additions': 2592,\n",
       "  'deletions': 0,\n",
       "  'changes': 2592,\n",
       "  'blob_url': 'https://github.com/dracor-org/gerdracor/blob/67fa8b39c90d4a1952d11c771b5d58175a8ccdf4/tei%2Fkotzebue-das-posthaus-in-treuenbrietzen.xml',\n",
       "  'raw_url': 'https://github.com/dracor-org/gerdracor/raw/67fa8b39c90d4a1952d11c771b5d58175a8ccdf4/tei%2Fkotzebue-das-posthaus-in-treuenbrietzen.xml',\n",
       "  'contents_url': 'https://api.github.com/repos/dracor-org/gerdracor/contents/tei%2Fkotzebue-das-posthaus-in-treuenbrietzen.xml?ref=67fa8b39c90d4a1952d11c771b5d58175a8ccdf4'}]"
      ]
     },
     "execution_count": 5,
     "metadata": {},
     "output_type": "execute_result"
    }
   ],
   "source": [
    "# \"files\" section of the object returned when requesting commit details\n",
    "\n",
    "r = requests.get(url=\"https://api.github.com/repos/dracor-org/gerdracor/commits/67fa8b39c90d4a1952d11c771b5d58175a8ccdf4\")\n",
    "if r.status_code == 200:\n",
    "    get_commit_details_example = json.loads(r.text)\n",
    "\n",
    "get_commit_details_example[\"files\"]"
   ]
  },
  {
   "cell_type": "markdown",
   "id": "93cc1b49-2e9c-422f-9bf0-a4401e85485b",
   "metadata": {
    "editable": true,
    "slideshow": {
     "slide_type": ""
    },
    "tags": []
   },
   "source": [
    "Another bit of information that is helpful when trying to reconstruct the state of a corpus, especially the files included, at a given point in time is **the [“tree”](https://git-scm.com/docs/gitglossary#def_tree_object) of the commit**. The respective URL to request this information is included in the basic commit metadata as well as in the more detailed response in the `tree` section. Expand the next cell to see an example."
   ]
  },
  {
   "cell_type": "code",
   "execution_count": 6,
   "id": "a1b1a0a6-b2cf-4b0c-8f5a-4d8d1c5df83a",
   "metadata": {
    "editable": true,
    "slideshow": {
     "slide_type": ""
    },
    "tags": [
     "hide-cell"
    ]
   },
   "outputs": [
    {
     "data": {
      "text/plain": [
       "{'sha': '5d95c34af64a6b9c0bbdbce7bf6ae6b05f628b17',\n",
       " 'url': 'https://api.github.com/repos/dracor-org/gerdracor/git/trees/5d95c34af64a6b9c0bbdbce7bf6ae6b05f628b17'}"
      ]
     },
     "execution_count": 6,
     "metadata": {},
     "output_type": "execute_result"
    }
   ],
   "source": [
    "# tree object in the first commit returned by the /commits endpoint\n",
    "get_commits_example_response_data[0][\"commit\"][\"tree\"]"
   ]
  },
  {
   "cell_type": "markdown",
   "id": "ae3c00a2-ff73-4e32-adfb-faaea9513d71",
   "metadata": {
    "editable": true,
    "slideshow": {
     "slide_type": ""
    },
    "tags": []
   },
   "source": [
    "So the tree of the above mentioned commit can be retrieved at [https://api.github.com/repos/dracor-org/gerdracor/git/trees/3cbc81976a06a565d3ca673e3c17527bf6e30f8b](https://api.github.com/repos/dracor-org/gerdracor/git/trees/3cbc81976a06a565d3ca673e3c17527bf6e30f8b).\n",
    "\n",
    "To access the **metadata of the individual files** containing the play data, the data folder has to be identified. As usual for DraCor, also in the case inspected here it is the `tei` folder. Expand the code cell to see an example."
   ]
  },
  {
   "cell_type": "code",
   "execution_count": 7,
   "id": "8873509a-ec0c-4cff-803b-45afd8b0ce7c",
   "metadata": {
    "editable": true,
    "slideshow": {
     "slide_type": ""
    },
    "tags": [
     "hide-cell"
    ]
   },
   "outputs": [
    {
     "data": {
      "text/plain": [
       "{'sha': '5d95c34af64a6b9c0bbdbce7bf6ae6b05f628b17',\n",
       " 'url': 'https://api.github.com/repos/dracor-org/gerdracor/git/trees/5d95c34af64a6b9c0bbdbce7bf6ae6b05f628b17',\n",
       " 'tree': [{'path': 'README.md',\n",
       "   'mode': '100644',\n",
       "   'type': 'blob',\n",
       "   'sha': 'a7e7752d5803d3cd3fac6e70291fe0f9cd6e4829',\n",
       "   'size': 5022,\n",
       "   'url': 'https://api.github.com/repos/dracor-org/gerdracor/git/blobs/a7e7752d5803d3cd3fac6e70291fe0f9cd6e4829'},\n",
       "  {'path': 'corpus.xml',\n",
       "   'mode': '100644',\n",
       "   'type': 'blob',\n",
       "   'sha': '5480e4e61c741e086fe0886a738065829baf357d',\n",
       "   'size': 1092,\n",
       "   'url': 'https://api.github.com/repos/dracor-org/gerdracor/git/blobs/5480e4e61c741e086fe0886a738065829baf357d'},\n",
       "  {'path': 'css',\n",
       "   'mode': '040000',\n",
       "   'type': 'tree',\n",
       "   'sha': '98cce395ee68987dfbb57cc0276e832452724591',\n",
       "   'url': 'https://api.github.com/repos/dracor-org/gerdracor/git/trees/98cce395ee68987dfbb57cc0276e832452724591'},\n",
       "  {'path': 'format.conf',\n",
       "   'mode': '100644',\n",
       "   'type': 'blob',\n",
       "   'sha': '41e31477abaa75d8ca102229c2e92e9999caada4',\n",
       "   'size': 183,\n",
       "   'url': 'https://api.github.com/repos/dracor-org/gerdracor/git/blobs/41e31477abaa75d8ca102229c2e92e9999caada4'},\n",
       "  {'path': 'numOfSpeakers.png',\n",
       "   'mode': '100644',\n",
       "   'type': 'blob',\n",
       "   'sha': 'c1b4dfe969e6324fd59f707fe7c7ac4a185a2ce1',\n",
       "   'size': 9858,\n",
       "   'url': 'https://api.github.com/repos/dracor-org/gerdracor/git/blobs/c1b4dfe969e6324fd59f707fe7c7ac4a185a2ce1'},\n",
       "  {'path': 'playsPerDecade.png',\n",
       "   'mode': '100644',\n",
       "   'type': 'blob',\n",
       "   'sha': 'd610f042bf593b2bf123e3900d60a8b5bacef845',\n",
       "   'size': 6524,\n",
       "   'url': 'https://api.github.com/repos/dracor-org/gerdracor/git/blobs/d610f042bf593b2bf123e3900d60a8b5bacef845'},\n",
       "  {'path': 'tei',\n",
       "   'mode': '040000',\n",
       "   'type': 'tree',\n",
       "   'sha': '6853157b80ddd534a5fb073934e132751f8c4222',\n",
       "   'url': 'https://api.github.com/repos/dracor-org/gerdracor/git/trees/6853157b80ddd534a5fb073934e132751f8c4222'}],\n",
       " 'truncated': False}"
      ]
     },
     "execution_count": 7,
     "metadata": {},
     "output_type": "execute_result"
    }
   ],
   "source": [
    "# Get the the tree object starting from the commit\n",
    "# this is basically a file listing of the root folder\n",
    "# need to look for the dictionary with the value \"tree\" of the field with the key \"type\"\n",
    "# \"blob\" are files, \"tree\" are folders\n",
    "# normally, the data is in a folder with the name \"tei\" (but this has not always be the case)\n",
    "\n",
    "example_tree_url = get_commits_example_response_data[0][\"commit\"][\"tree\"][\"url\"]\n",
    "r = requests.get(url=example_tree_url)\n",
    "if r.status_code == 200:\n",
    "    example_tree_data = json.loads(r.text)\n",
    "example_tree_data"
   ]
  },
  {
   "cell_type": "markdown",
   "id": "d87e54ce-6ccd-492c-862a-c895e68ca454",
   "metadata": {
    "editable": true,
    "slideshow": {
     "slide_type": ""
    },
    "tags": []
   },
   "source": [
    "So by requesting the data from \n",
    "[https://api.github.com/repos/dracor-org/gerdracor/git/trees/64a98327331abbaa110fe9c9db11208aad3ced90](https://api.github.com/repos/dracor-org/gerdracor/git/trees/64a98327331abbaa110fe9c9db11208aad3ced90)\n",
    "we receive information about the individual file objects, most notably the **filename** in the field with the key `path` and the **file size** (`size`) in bytes. Expand the following cell for an example."
   ]
  },
  {
   "cell_type": "code",
   "execution_count": 8,
   "id": "ab21ba47-8f09-4fe8-b13e-d93f44e4d9cd",
   "metadata": {
    "editable": true,
    "slideshow": {
     "slide_type": ""
    },
    "tags": [
     "hide-cell"
    ]
   },
   "outputs": [
    {
     "data": {
      "text/plain": [
       "{'path': 'achat-ein-april-scherz.xml',\n",
       " 'mode': '100644',\n",
       " 'type': 'blob',\n",
       " 'sha': '87cd9f61a04cb322c0815afec694a49e4fd910b1',\n",
       " 'size': 102669,\n",
       " 'url': 'https://api.github.com/repos/dracor-org/gerdracor/git/blobs/87cd9f61a04cb322c0815afec694a49e4fd910b1'}"
      ]
     },
     "execution_count": 8,
     "metadata": {},
     "output_type": "execute_result"
    }
   ],
   "source": [
    "# Example of the metadata of a single TEI-XML file of a play in the \"tei\" folder\n",
    "\n",
    "tei_folder_example_url = \"https://api.github.com/repos/dracor-org/gerdracor/git/trees/64a98327331abbaa110fe9c9db11208aad3ced90\"\n",
    "r = requests.get(url=tei_folder_example_url)\n",
    "if r.status_code == 200:\n",
    "    tei_folder_contents_example = json.loads(r.text)\n",
    "\n",
    "tei_folder_contents_example[\"tree\"][0]"
   ]
  }
 ],
 "metadata": {
  "kernelspec": {
   "display_name": "Python 3 (ipykernel)",
   "language": "python",
   "name": "python3"
  },
  "language_info": {
   "codemirror_mode": {
    "name": "ipython",
    "version": 3
   },
   "file_extension": ".py",
   "mimetype": "text/x-python",
   "name": "python",
   "nbconvert_exporter": "python",
   "pygments_lexer": "ipython3",
   "version": "3.11.6"
  }
 },
 "nbformat": 4,
 "nbformat_minor": 5
}
