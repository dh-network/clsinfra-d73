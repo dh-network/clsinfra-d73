{
 "cells": [
  {
   "cell_type": "markdown",
   "id": "15790d3f-48e1-47db-bee6-8673c208bcde",
   "metadata": {
    "editable": true,
    "slideshow": {
     "slide_type": ""
    },
    "tags": []
   },
   "source": [
    "```{warning}\n",
    "This is still a draft! Please refer to the PDF version.\n",
    "```"
   ]
  },
  {
   "cell_type": "markdown",
   "id": "87faa92f-6c2e-42b0-901d-c10eb2a1a5f2",
   "metadata": {
    "editable": true,
    "slideshow": {
     "slide_type": ""
    },
    "tags": []
   },
   "source": [
    "(excursus)=\n",
    "# Excursus: An Algorithmic Archaeology of a Living Corpus: GerDraCor as a Dynamic Epistemic Object"
   ]
  },
  {
   "cell_type": "markdown",
   "id": "f1fa5e51-c537-4032-94a3-3640a2aa6355",
   "metadata": {
    "editable": true,
    "slideshow": {
     "slide_type": ""
    },
    "tags": []
   },
   "source": [
    "While we have shown in section {ref}`section-3-2` that Git commits can be used as stable references to states of living corpora and thus as a mechanism for transparent versioning, in section 3.3 we explored in more detail which information about corpora and corpus files can be queried using the GitHub API. Our explorations in section {ref}`section-3-3` have also demonstrated that the use of Git not only provides a powerful versioning tool for CLS corpora, but that this use of the [API](https://docs.github.com/en/rest?apiVersion=2022-11-28) generates a large amount of additional (technical) metadata about corpora. In the following excursus, we use this metadata for a more in-depth analysis of the genesis of a DraCor corpus (namely “GerDraCor”), taking the Git commit history as a basis. \n",
    "\n",
    "For this analysis, we developed a set of functions written in Python. The functionality of this prototype[^our_understanding_of_prototype] of a tool is bundled as methods of the class `GitHubRepo` contained in the module [`github_utils`](github_utils.py). \n",
    "\n",
    "[^our_understanding_of_prototype]:On our “reflective prototyping approach” cf. {cite:p}`boerner_2023_report{p. 9ff}`."
   ]
  },
  {
   "cell_type": "code",
   "execution_count": 1,
   "id": "87294444-628d-409c-8d9c-5ac71cc4617c",
   "metadata": {
    "editable": true,
    "slideshow": {
     "slide_type": ""
    },
    "tags": [
     "remove-cell"
    ]
   },
   "outputs": [],
   "source": [
    "# This is needed to re-use outputs of code in the markdown cells. \n",
    "# This cell is removed in the rendered report\n",
    "from myst_nb import glue"
   ]
  },
  {
   "cell_type": "code",
   "execution_count": 2,
   "id": "bc4f2e30-f70d-4165-b281-a2697f3dcb87",
   "metadata": {
    "editable": true,
    "slideshow": {
     "slide_type": ""
    },
    "tags": [
     "remove-cell"
    ]
   },
   "outputs": [],
   "source": [
    "# To see logging messages (only info logs or for debugging) \n",
    "# uncomment the import statement and the respective line\n",
    "\n",
    "#import logging\n",
    "#logging.basicConfig(level=logging.DEBUG)\n",
    "#logging.basicConfig(level=logging.INFO)"
   ]
  },
  {
   "cell_type": "code",
   "execution_count": 3,
   "id": "168a9608-9ead-4f45-b2bd-e17db08c00a6",
   "metadata": {
    "editable": true,
    "slideshow": {
     "slide_type": ""
    },
    "tags": [
     "hide-cell"
    ]
   },
   "outputs": [],
   "source": [
    "# The methods needed for the following analysis are bundled as the class \"GitHubRepo\" \n",
    "# which we import in with the following line\n",
    "\n",
    "from github_utils import GitHubRepo\n",
    "\n",
    "# The number of requests that can be sent to the GitHub API anonymously is very limited \n",
    "# see https://docs.github.com/en/rest/using-the-rest-api/rate-limits-for-the-rest-api?apiVersion=2022-11-28 \n",
    "# We need to send a token (stored in an environment variable here) \n",
    "# by supplying the token with each request to identify ourselves to the API \n",
    "# and thus having a higher limit of requests. \n",
    "\n",
    "import os\n",
    "github_token = os.environ.get(\"GITHUB_TOKEN\")"
   ]
  },
  {
   "cell_type": "markdown",
   "id": "5b64a7d7-a94d-4488-8720-46d23ed52751",
   "metadata": {
    "editable": true,
    "slideshow": {
     "slide_type": ""
    },
    "tags": []
   },
   "source": [
    "The aim of this analysis is twofold: On the one hand, we want to use a particular example to demonstrate what it means that in CLS we are occasionally dealing with living corpora. On the other hand, we want to use the analysis to illustrate the power of Git-based versioning and the metadata generated in this process, not least against the background that this might also open up new research perspectives on the epistemic objects of CLS (now understood as technical objects). An executable (and thus fully reproducible) version of this analysis is accessible on GitHub. In addition, we are convinced that an in-depth knowledge of the constitution of a data set is necessary when wanting to repeat the research based on this data. If the data has changed in the meantime between the original research and the repeating research knowing what exactly changed in the data can help to understand possible deviations in results and allows that informed counter-measures can be taken.  \n",
    "\n",
    "As already mentioned, the “German Drama Corpus” (“GerDraCor”) will serve as our showcase. The corpus’ repository is available at\n",
    "https://github.com/dracor-org/gerdracor "
   ]
  },
  {
   "cell_type": "markdown",
   "id": "bc3bddff-441f-4243-b460-a540e898e298",
   "metadata": {
    "editable": true,
    "slideshow": {
     "slide_type": ""
    },
    "tags": []
   },
   "source": [
    "The German Drama Corpus (GerDraCor) will serve as a test case. The corpus' repository is available at [https://github.com/dracor-org/gerdracor](https://github.com/dracor-org/gerdracor). "
   ]
  },
  {
   "cell_type": "code",
   "execution_count": 4,
   "id": "98e06e59-fac6-4eff-9bfb-7da7e1964857",
   "metadata": {
    "editable": true,
    "slideshow": {
     "slide_type": ""
    },
    "tags": [
     "hide-cell"
    ]
   },
   "outputs": [],
   "source": [
    "# we have to provide the repository name\n",
    "\n",
    "repository_name = \"gerdracor\""
   ]
  },
  {
   "cell_type": "code",
   "execution_count": 5,
   "id": "9abea70d-8d8f-47bb-854c-990be993b1b1",
   "metadata": {
    "editable": true,
    "slideshow": {
     "slide_type": ""
    },
    "tags": [
     "remove-cell"
    ]
   },
   "outputs": [
    {
     "data": {
      "text/plain": [
       "'gerdracor'"
      ]
     },
     "metadata": {
      "scrapbook": {
       "mime_prefix": "",
       "name": "repository_name"
      }
     },
     "output_type": "display_data"
    }
   ],
   "source": [
    "# glue it to later reuse it in markdown cells\n",
    "# This code cell won't end up in the final rendering\n",
    "\n",
    "glue(\"repository_name\", repository_name)"
   ]
  },
  {
   "cell_type": "markdown",
   "id": "6afe9d62-5d6d-4f0c-a15f-3fc6072a1af4",
   "metadata": {
    "editable": true,
    "slideshow": {
     "slide_type": ""
    },
    "tags": []
   },
   "source": [
    "The first step in the analysis consists in downloading all data on all commits from GitHub. Depending on the overall number of commits this can take a long time. In a previous attempt fetching and preparing the data of GerDraCor from GitHub with the code in the code cell below took 53min 29s to execute the operation. \n",
    "\n",
    "The following code cell containes the code that was used to initiate the download. "
   ]
  },
  {
   "cell_type": "code",
   "execution_count": 6,
   "id": "6ad29412-91c6-49c4-879f-72d6263a202d",
   "metadata": {
    "editable": true,
    "slideshow": {
     "slide_type": ""
    },
    "tags": [
     "hide-cell"
    ]
   },
   "outputs": [],
   "source": [
    "#%%time\n",
    "# Uncomment the Jupyter magic keyword above to have the operation timed\n",
    "\n",
    "# The following line of code downloads and prepares the data \n",
    "# when initializing the a new instance of the class  \"GitHubRepo \n",
    "# which provides the methods to analyze a corpus repository\n",
    "\n",
    "#repo = GitHubRepo(repository_name=repository_name, github_access_token=github_token, download_and_prepare_data=True)"
   ]
  },
  {
   "cell_type": "markdown",
   "id": "ae73c3ca-8fb7-4780-bd86-a93224877032",
   "metadata": {
    "editable": true,
    "slideshow": {
     "slide_type": ""
    },
    "tags": []
   },
   "source": [
    "The tool allows for importing previously downloaded and enriched data from disk which is way faster than retrieving the data via the GitHub API (see the following code cell)."
   ]
  },
  {
   "cell_type": "code",
   "execution_count": 7,
   "id": "7b825e6b-6922-4ff2-ac78-b411649cdf9e",
   "metadata": {
    "editable": true,
    "slideshow": {
     "slide_type": ""
    },
    "tags": [
     "remove-cell"
    ]
   },
   "outputs": [
    {
     "name": "stdout",
     "output_type": "stream",
     "text": [
      "\u001b[0;0mgerdracor_commits.json\u001b[m              \u001b[0;0mgerdracor_corpus_versions.json\u001b[m\n",
      "\u001b[0;0mgerdracor_commits_detailed.json\u001b[m     \u001b[0;0mgerdracor_data_folder_objects.json\u001b[m\n"
     ]
    }
   ],
   "source": [
    "# List the contents of the tmp folder for reference here\n",
    "# This cell is removed in the final rendering\n",
    "\n",
    "!ls tmp"
   ]
  },
  {
   "cell_type": "code",
   "execution_count": 8,
   "id": "ac6019e2-4e7e-4c65-955a-6f3000d35fc4",
   "metadata": {
    "editable": true,
    "slideshow": {
     "slide_type": ""
    },
    "tags": [
     "hide-cell"
    ]
   },
   "outputs": [],
   "source": [
    "# Start the analysis with previously downloaded data\n",
    "\n",
    "repo = GitHubRepo(repository_name=repository_name, \n",
    "                  github_access_token=github_token,\n",
    "                  import_commit_list=\"tmp/gerdracor_commits.json\",\n",
    "                  import_commit_details=\"tmp/gerdracor_commits_detailed.json\",\n",
    "                  import_data_folder_objects=\"tmp/gerdracor_data_folder_objects.json\",\n",
    "                  import_corpus_versions=\"tmp/gerdracor_corpus_versions.json\")"
   ]
  },
  {
   "cell_type": "code",
   "execution_count": 9,
   "id": "cc9aa15e-4049-4076-9d05-9ed446cebd83",
   "metadata": {
    "editable": true,
    "slideshow": {
     "slide_type": ""
    },
    "tags": [
     "remove-cell"
    ]
   },
   "outputs": [
    {
     "data": {
      "text/plain": [
       "1492"
      ]
     },
     "metadata": {
      "scrapbook": {
       "mime_prefix": "",
       "name": "commits_count"
      }
     },
     "output_type": "display_data"
    },
    {
     "data": {
      "text/plain": [
       "1492"
      ]
     },
     "metadata": {
      "scrapbook": {
       "mime_prefix": "",
       "name": "corpus_versions_count"
      }
     },
     "output_type": "display_data"
    }
   ],
   "source": [
    "# Get the number of commits in the dowloaded data to reuse in the markdown cell\n",
    "# This cell is removed from the final rendering\n",
    "\n",
    "commits_count = len(repo.get_commits())\n",
    "corpus_versions_count = len(repo.get_corpus_versions().keys())\n",
    "\n",
    "# Sanity check the data: The number of versions should be equal to the number of commits\n",
    "assert commits_count == corpus_versions_count, \"The number of commits and versions do not match\"\n",
    "\n",
    "glue(\"commits_count\", commits_count)\n",
    "glue(\"corpus_versions_count\", corpus_versions_count)"
   ]
  },
  {
   "cell_type": "markdown",
   "id": "f47f62b7-7945-47f2-aed1-ebbb534970a3",
   "metadata": {
    "editable": true,
    "slideshow": {
     "slide_type": ""
    },
    "tags": []
   },
   "source": [
    "The following analysis will be based on data in the folder `tmp` that was downloaded on Feb. 14th 2024. When the data was downloaded the GitHub Repository {glue:text}`repository_name` contained {glue:text}`commits_count` commits. We consider each commit being an implicit version of a corpus and therefore we have {glue:text}`corpus_versions_count` versions of the German Drama Corpus up to this date. "
   ]
  },
  {
   "cell_type": "markdown",
   "id": "cbb2167f-f4a8-44c8-a6af-e357c94d09d0",
   "metadata": {
    "editable": true,
    "slideshow": {
     "slide_type": ""
    },
    "tags": []
   },
   "source": [
    "(excursus-gerdracor-birth)=\n",
    "## 3.1 The \"Birth\" of GerDraCor"
   ]
  },
  {
   "cell_type": "markdown",
   "id": "ea76a270-2ced-432f-80d0-f29e76b146fc",
   "metadata": {
    "editable": true,
    "slideshow": {
     "slide_type": ""
    },
    "tags": []
   },
   "source": [
    "From the commit history of the repository of the German Drama Corpus we can retrieve the very first commit."
   ]
  },
  {
   "cell_type": "code",
   "execution_count": 10,
   "id": "9d36115d-4598-496a-85e0-1b6a38796848",
   "metadata": {
    "editable": true,
    "slideshow": {
     "slide_type": ""
    },
    "tags": [
     "hide-cell"
    ]
   },
   "outputs": [
    {
     "data": {
      "text/plain": [
       "{'sha': '2f4e830a852960eba8e05d6b622b3bd64911ab69',\n",
       " 'node_id': 'MDY6Q29tbWl0NzUzMTY1Mjk6MmY0ZTgzMGE4NTI5NjBlYmE4ZTA1ZDZiNjIyYjNiZDY0OTExYWI2OQ==',\n",
       " 'commit': {'author': {'name': 'Mathias Göbel',\n",
       "   'email': 'goebel@sub.uni-goettingen.de',\n",
       "   'date': '2016-12-02T09:31:24Z'},\n",
       "  'committer': {'name': 'Mathias Göbel',\n",
       "   'email': 'goebel@sub.uni-goettingen.de',\n",
       "   'date': '2016-12-02T09:31:24Z'},\n",
       "  'message': 'inital commit: converted text based on LINA and TextGrid',\n",
       "  'tree': {'sha': '4ee5a502cb8412e2f1f3700bb629d17768a421ef',\n",
       "   'url': 'https://api.github.com/repos/dracor-org/gerdracor/git/trees/4ee5a502cb8412e2f1f3700bb629d17768a421ef'},\n",
       "  'url': 'https://api.github.com/repos/dracor-org/gerdracor/git/commits/2f4e830a852960eba8e05d6b622b3bd64911ab69',\n",
       "  'comment_count': 0,\n",
       "  'verification': {'verified': False,\n",
       "   'reason': 'unsigned',\n",
       "   'signature': None,\n",
       "   'payload': None}},\n",
       " 'url': 'https://api.github.com/repos/dracor-org/gerdracor/commits/2f4e830a852960eba8e05d6b622b3bd64911ab69',\n",
       " 'html_url': 'https://github.com/dracor-org/gerdracor/commit/2f4e830a852960eba8e05d6b622b3bd64911ab69',\n",
       " 'comments_url': 'https://api.github.com/repos/dracor-org/gerdracor/commits/2f4e830a852960eba8e05d6b622b3bd64911ab69/comments',\n",
       " 'author': {'login': 'mathias-goebel',\n",
       "  'id': 2813649,\n",
       "  'node_id': 'MDQ6VXNlcjI4MTM2NDk=',\n",
       "  'avatar_url': 'https://avatars.githubusercontent.com/u/2813649?v=4',\n",
       "  'gravatar_id': '',\n",
       "  'url': 'https://api.github.com/users/mathias-goebel',\n",
       "  'html_url': 'https://github.com/mathias-goebel',\n",
       "  'followers_url': 'https://api.github.com/users/mathias-goebel/followers',\n",
       "  'following_url': 'https://api.github.com/users/mathias-goebel/following{/other_user}',\n",
       "  'gists_url': 'https://api.github.com/users/mathias-goebel/gists{/gist_id}',\n",
       "  'starred_url': 'https://api.github.com/users/mathias-goebel/starred{/owner}{/repo}',\n",
       "  'subscriptions_url': 'https://api.github.com/users/mathias-goebel/subscriptions',\n",
       "  'organizations_url': 'https://api.github.com/users/mathias-goebel/orgs',\n",
       "  'repos_url': 'https://api.github.com/users/mathias-goebel/repos',\n",
       "  'events_url': 'https://api.github.com/users/mathias-goebel/events{/privacy}',\n",
       "  'received_events_url': 'https://api.github.com/users/mathias-goebel/received_events',\n",
       "  'type': 'User',\n",
       "  'site_admin': False},\n",
       " 'committer': {'login': 'mathias-goebel',\n",
       "  'id': 2813649,\n",
       "  'node_id': 'MDQ6VXNlcjI4MTM2NDk=',\n",
       "  'avatar_url': 'https://avatars.githubusercontent.com/u/2813649?v=4',\n",
       "  'gravatar_id': '',\n",
       "  'url': 'https://api.github.com/users/mathias-goebel',\n",
       "  'html_url': 'https://github.com/mathias-goebel',\n",
       "  'followers_url': 'https://api.github.com/users/mathias-goebel/followers',\n",
       "  'following_url': 'https://api.github.com/users/mathias-goebel/following{/other_user}',\n",
       "  'gists_url': 'https://api.github.com/users/mathias-goebel/gists{/gist_id}',\n",
       "  'starred_url': 'https://api.github.com/users/mathias-goebel/starred{/owner}{/repo}',\n",
       "  'subscriptions_url': 'https://api.github.com/users/mathias-goebel/subscriptions',\n",
       "  'organizations_url': 'https://api.github.com/users/mathias-goebel/orgs',\n",
       "  'repos_url': 'https://api.github.com/users/mathias-goebel/repos',\n",
       "  'events_url': 'https://api.github.com/users/mathias-goebel/events{/privacy}',\n",
       "  'received_events_url': 'https://api.github.com/users/mathias-goebel/received_events',\n",
       "  'type': 'User',\n",
       "  'site_admin': False},\n",
       " 'parents': []}"
      ]
     },
     "execution_count": 10,
     "metadata": {},
     "output_type": "execute_result"
    }
   ],
   "source": [
    "# The commits are ordered chronologically starting from the most recent commit; \n",
    "# the initial commit one is the last element in the list of commits that can be retrieved\n",
    "# with the method get_commits()\n",
    "# we can use this identfier in the field with the key \"sha\" to then get the first version \n",
    "# of the corpus with the function get_corpus_version \n",
    "# and passing the sha value as the keyword argument \"version\" \n",
    "# like repo.get_corpus_version(version={sha})\n",
    "\n",
    "repo.get_commits()[-1:][0]"
   ]
  },
  {
   "cell_type": "code",
   "execution_count": 11,
   "id": "aebdf71d-ebaf-423c-b655-805ec8bed332",
   "metadata": {
    "editable": true,
    "slideshow": {
     "slide_type": ""
    },
    "tags": [
     "remove-cell"
    ]
   },
   "outputs": [
    {
     "data": {
      "text/plain": [
       "'2f4e830a852960eba8e05d6b622b3bd64911ab69'"
      ]
     },
     "metadata": {
      "scrapbook": {
       "mime_prefix": "",
       "name": "first_commit_sha"
      }
     },
     "output_type": "display_data"
    },
    {
     "data": {
      "text/plain": [
       "'Mathias Göbel'"
      ]
     },
     "metadata": {
      "scrapbook": {
       "mime_prefix": "",
       "name": "first_commit_by"
      }
     },
     "output_type": "display_data"
    },
    {
     "data": {
      "text/plain": [
       "'2 December, 2016'"
      ]
     },
     "metadata": {
      "scrapbook": {
       "mime_prefix": "",
       "name": "first_commit_date_formatted"
      }
     },
     "output_type": "display_data"
    },
    {
     "data": {
      "text/plain": [
       "'inital commit: converted text based on LINA and TextGrid'"
      ]
     },
     "metadata": {
      "scrapbook": {
       "mime_prefix": "",
       "name": "first_commit_message"
      }
     },
     "output_type": "display_data"
    }
   ],
   "source": [
    "# Make the sha of the first commit available\n",
    "# This cell is not displayed in the final rendering\n",
    "\n",
    "first_commit = repo.get_commits()[-1:][0]\n",
    "\n",
    "# ID\n",
    "glue(\"first_commit_sha\", first_commit[\"sha\"])\n",
    "\n",
    "# Name of person to perform the first commit\n",
    "glue(\"first_commit_by\", first_commit[\"commit\"][\"author\"][\"name\"])\n",
    "\n",
    "# Date (parsed to datetime)\n",
    "from datetime import datetime \n",
    "first_commit_date = datetime.fromisoformat(first_commit[\"commit\"][\"author\"][\"date\"])\n",
    "# TODO: It would be a nice feature to get a datetime object directly from a github_utils method\n",
    "\n",
    "# Date of first commit\n",
    "glue(\"first_commit_date_formatted\", first_commit_date.strftime(\"%-d %B, %Y\"))\n",
    "\n",
    "# Message\n",
    "glue(\"first_commit_message\", first_commit[\"commit\"][\"message\"])\n"
   ]
  },
  {
   "cell_type": "markdown",
   "id": "d63428aa-5517-4f9d-baef-f39dab3c6ff9",
   "metadata": {
    "editable": true,
    "slideshow": {
     "slide_type": ""
    },
    "tags": []
   },
   "source": [
    "This initial commit to the repository which is identfied by the SHA value {glue:text}`first_commit_sha` was committed by {glue:text}`first_commit_by` (during a hackathon at the University of Potsdam) and dates from {glue:text}`first_commit_date_formatted`."
   ]
  },
  {
   "cell_type": "code",
   "execution_count": 12,
   "id": "7600616b-7488-49ba-9976-eb89234841e8",
   "metadata": {
    "editable": true,
    "slideshow": {
     "slide_type": ""
    },
    "tags": [
     "hide-cell"
    ]
   },
   "outputs": [
    {
     "name": "stdout",
     "output_type": "stream",
     "text": [
      "https://github.com/dracor-org/gerdracor/commit/2f4e830a852960eba8e05d6b622b3bd64911ab69\n"
     ]
    }
   ],
   "source": [
    "# Generate a GitHub Link to the first commit\n",
    "# In the final rendering the input will be removed\n",
    "# unfortunately, this link is not clickable\n",
    "# remove it from the final rendering until there is a solution to it\n",
    "\n",
    "print(repo.get_github_commit_url_of_version(version=first_commit[\"sha\"]))"
   ]
  },
  {
   "cell_type": "code",
   "execution_count": 13,
   "id": "2d9fc440-e717-4423-877b-c3e3d8263db9",
   "metadata": {
    "editable": true,
    "slideshow": {
     "slide_type": ""
    },
    "tags": [
     "remove-cell"
    ]
   },
   "outputs": [
    {
     "data": {
      "text/plain": [
       "'tei'"
      ]
     },
     "metadata": {
      "scrapbook": {
       "mime_prefix": "",
       "name": "first_corpus_version_data_folder_name"
      }
     },
     "output_type": "display_data"
    },
    {
     "data": {
      "text/plain": [
       "465"
      ]
     },
     "metadata": {
      "scrapbook": {
       "mime_prefix": "",
       "name": "first_corpus_version_document_count"
      }
     },
     "output_type": "display_data"
    }
   ],
   "source": [
    "# Get some info about the version\n",
    "# This cell is removed from the final rendering\n",
    "\n",
    "first_corpus_version = repo.get_corpus_version(version=first_commit[\"sha\"])\n",
    "glue(\"first_corpus_version_data_folder_name\", first_corpus_version[\"data_folder_name\"])\n",
    "glue(\"first_corpus_version_document_count\", first_corpus_version[\"document_count\"])"
   ]
  },
  {
   "cell_type": "markdown",
   "id": "fe70d348-604c-4229-a662-88d3d16a24ac",
   "metadata": {
    "editable": true,
    "slideshow": {
     "slide_type": ""
    },
    "tags": []
   },
   "source": [
    "With this commit {glue:text}`first_corpus_version_document_count` TEI-XML files were added to a data folder with the name {glue:text}`first_corpus_version_data_folder_name`. The commit message \"{glue:text}`first_commit_message`\" already reveals the intial source of the data of the corpus: *LINA* is short for \"Literary Network Analysis\" and was the format developed in the project [DLINA](https://dlina.github.io).[^about_dlina_project]\n",
    "\n",
    "[^about_dlina_project]: The project members included Frank Fischer, Mathias Göbel, Dario Kampkaspar, Christopher Kittel and Peer Trilcke. The output of the project is well documented on the project's [Blog](https://dlina.github.io), the data and tools are available on GitHub at [https://github.com/dlina](https://github.com/dlina). The term *LINA* as an abbreviation of the German \"Literarische Netzwerkanalyse\" (Literary Network Analysis) first appeared in print in the publication {cite:p}`trilcke_2013_sna`."
   ]
  },
  {
   "cell_type": "markdown",
   "id": "f8fc1c5c-172e-449e-8da7-e03373e2a7b1",
   "metadata": {
    "editable": true,
    "slideshow": {
     "slide_type": ""
    },
    "tags": []
   },
   "source": [
    "In the DLINA project research on dramatic texts was based on derivatives of the full-texts taken from the [TextGrid Repository](https://textgridrep.org). The \"LINA files\" included only metadata on the dramatic texts (e.g. date of publication) and very detailed structural information on the segmentation (acts, scenes) also containing the information on which characters appear in which structural segment. Thus, the [Zwischenformat](https://dlina.github.io/Introducing-Our-Zwischenformat)-Files (i.e., files in an intermediary format) allowed for the extraction of networks based on the co-occurence of characters in the same structural segment (cf. {cite:t}`kampkaspar_2015_zwischenformat`). The DLINA project officially released their corpus of 465 plays before the Digital Humanities DH2015 conference in Sydney. This corpus is also refered to as \"Sydney Corpus\" or the corpus with the \"Codename Sydney\". Unlike the current practice in DraCor, DLINA used Git Tags[^tags_explained] on corpus data. In the [GitHub Repository of the DLINA Corpus](https://github.com/dlina/project) there is a single tagged version `15.07-sydney`: [https://github.com/dlina/project/releases/tag/15.07-sydney](https://github.com/dlina/project/releases/tag/15.07-sydney)\n",
    "\n",
    "The respective [commit](https://github.com/dlina/project/commit/cca01b501a1a294772c2a6a9fe38944b930eea03) `cca01b501a1a294772c2a6a9fe38944b930eea03` (of the DLINA repository!) adds a RelaxNG schema describing the \"Zwischenformat\". Although this dates from 31 August, 2016, this version number was already introduced more than a year before in a Blog-Post dating from June 20, 2015. The Blog-Post explains it as such:\n",
    "\n",
    "> The version number 15.07 is referring to ‘July 2015’ as we’re going to present our results at the DH2015 conference on July 2, 2015. Further versions of the DLINA Corpus will receive according versioning numbers. {cite:p}`fischer_2015_dlina-corpus`\n",
    "\n",
    "Ultimately, at least in the published data in the DLINA organization on GitHub the (good) plan to assign further version numbers was not implemented.\n",
    "\n",
    "[^tags_explained]:An explaination of a [\"Git Tag\"](https://git-scm.com/docs/gitglossary#Documentation/gitglossary.txt-aiddeftagatag) can be found in the glossary of the Git Documentation. See also [https://git-scm.com/book/en/v2/Git-Basics-Tagging](https://git-scm.com/book/en/v2/Git-Basics-Tagging)."
   ]
  },
  {
   "cell_type": "markdown",
   "id": "4d80c18f-bcdd-40fd-8a34-19d01a48ebba",
   "metadata": {
    "editable": true,
    "slideshow": {
     "slide_type": ""
    },
    "tags": []
   },
   "source": [
    "Even when GerDraCor was already in the making the DLINA corpus continued to be used as the basis for research by people invoved in DLINA. This can be seen in the paper \"Network Dynamics, Plot Analysis. Approaching the Progressive Structuration of Literary Texts\" {cite:p}`fischer_2017_network-dynamics` which was presented at the Digital Humanitites Conference in Montréal in 2017. The submission deadline was already in November 2016 and dates prior to the first commit in the GerDraCor repository. The conference took place in August 2017 when the work on GerDraCor was already ongoing. \n",
    "\n",
    "Although the analysis conducted for the presenation is not based on GerDraCor but on the DLINA corpus in the published [slides](https://dlina.github.io/presentations/2017-montreal) of the conference presentation there can already be seen a glipse of the emerging wider DraCor ecosystem. The slides [mention](https://dlina.github.io/presentations/2017-montreal/#/1/3) the  *Russian Drama Corpus* (RusDraCor).[^rusdracor_first_presentation]\n",
    "\n",
    "[^rusdracor_first_presentation]: The Russian Drama Corpus has already been presented prior to the 2017 Montréal conference. Frank Fischer and members of his junior research group at the Higher School of Economics in Moscow preseanted a paper with the title \"Introducing RusDraCor\" at a conference in St. Petersburg on June 29, 2017. This initial version of the corpus included 66 Russian plays. In the [slides](https://dlina.github.io/presentations/2017-spb) to this presentation the authors already point to the \"dracor-org\" organization on GitHub when they explain how to get the corpus (see https://dlina.github.io/presentations/2017-spb/#/2/4)."
   ]
  },
  {
   "cell_type": "markdown",
   "id": "d97c6c1d-0a4d-4f31-8ab7-6f09cf40d43d",
   "metadata": {
    "editable": true,
    "slideshow": {
     "slide_type": ""
    },
    "tags": []
   },
   "source": [
    "The files in the first commit to the GerDraCor repository re-include the the full text of the play from the Textgrid source in the element `<text>`, but in the `<teiHeader>` the metadata of the LINA files. The metadata is transformed from the custom intermediary format (\"Zwischenformat\") that was used in the DLINA project to an XML encoding following the Guidelines of the Text Encoding Initiative (TEI Guidelines)."
   ]
  },
  {
   "cell_type": "markdown",
   "id": "eec254ca-9631-4264-9b90-6a21859c6c3b",
   "metadata": {
    "editable": true,
    "slideshow": {
     "slide_type": ""
    },
    "tags": []
   },
   "source": [
    "(excursus-gerdracor-growth)=\n",
    "## A Living Corpus “Growing”"
   ]
  },
  {
   "cell_type": "code",
   "execution_count": 14,
   "id": "456b3f3a-8b16-46c8-9aa8-1b58fa790b00",
   "metadata": {
    "editable": true,
    "slideshow": {
     "slide_type": ""
    },
    "tags": [
     "remove-cell"
    ]
   },
   "outputs": [
    {
     "data": {
      "text/html": [
       "<div>\n",
       "<style scoped>\n",
       "    .dataframe tbody tr th:only-of-type {\n",
       "        vertical-align: middle;\n",
       "    }\n",
       "\n",
       "    .dataframe tbody tr th {\n",
       "        vertical-align: top;\n",
       "    }\n",
       "\n",
       "    .dataframe thead th {\n",
       "        text-align: right;\n",
       "    }\n",
       "</style>\n",
       "<table border=\"1\" class=\"dataframe\">\n",
       "  <thead>\n",
       "    <tr style=\"text-align: right;\">\n",
       "      <th></th>\n",
       "      <th>id</th>\n",
       "      <th>document_count</th>\n",
       "    </tr>\n",
       "    <tr>\n",
       "      <th>date_from</th>\n",
       "      <th></th>\n",
       "      <th></th>\n",
       "    </tr>\n",
       "  </thead>\n",
       "  <tbody>\n",
       "    <tr>\n",
       "      <th>2016-12-02 09:31:24+00:00</th>\n",
       "      <td>2f4e830a852960eba8e05d6b622b3bd64911ab69</td>\n",
       "      <td>465</td>\n",
       "    </tr>\n",
       "    <tr>\n",
       "      <th>2016-12-08 10:38:16+00:00</th>\n",
       "      <td>dc0e11872fe1437f564137fe377cb43675eead90</td>\n",
       "      <td>465</td>\n",
       "    </tr>\n",
       "    <tr>\n",
       "      <th>2016-12-08 14:56:21+00:00</th>\n",
       "      <td>106fefd275c20c5b673a326e89647f7511ba9f76</td>\n",
       "      <td>465</td>\n",
       "    </tr>\n",
       "    <tr>\n",
       "      <th>2016-12-16 22:57:08+00:00</th>\n",
       "      <td>97b9d67c84332b8a47da7177e38607589755ccab</td>\n",
       "      <td>465</td>\n",
       "    </tr>\n",
       "    <tr>\n",
       "      <th>2016-12-17 13:56:23+00:00</th>\n",
       "      <td>792e255281e6075608f235847bce73ee530f49f3</td>\n",
       "      <td>465</td>\n",
       "    </tr>\n",
       "    <tr>\n",
       "      <th>...</th>\n",
       "      <td>...</td>\n",
       "      <td>...</td>\n",
       "    </tr>\n",
       "    <tr>\n",
       "      <th>2024-02-04 14:11:47+00:00</th>\n",
       "      <td>231412fec0a5c06832ab1c34fb01e49d52d5248c</td>\n",
       "      <td>675</td>\n",
       "    </tr>\n",
       "    <tr>\n",
       "      <th>2024-02-05 13:33:16+00:00</th>\n",
       "      <td>7799cc0a089a0727fdae7511cf76ad40d9370462</td>\n",
       "      <td>675</td>\n",
       "    </tr>\n",
       "    <tr>\n",
       "      <th>2024-02-07 19:44:36+00:00</th>\n",
       "      <td>1a2bd807973f3bf052eee45eb343c7a752bd61bb</td>\n",
       "      <td>676</td>\n",
       "    </tr>\n",
       "    <tr>\n",
       "      <th>2024-02-08 17:50:59+00:00</th>\n",
       "      <td>54f7ae285eeb2a8f85480500a8d425f09acba4e1</td>\n",
       "      <td>677</td>\n",
       "    </tr>\n",
       "    <tr>\n",
       "      <th>2024-02-09 14:27:36+00:00</th>\n",
       "      <td>2def59bb9123187740bf4c3136eb500deee154db</td>\n",
       "      <td>678</td>\n",
       "    </tr>\n",
       "  </tbody>\n",
       "</table>\n",
       "<p>1492 rows × 2 columns</p>\n",
       "</div>"
      ],
      "text/plain": [
       "                                                                 id  \\\n",
       "date_from                                                             \n",
       "2016-12-02 09:31:24+00:00  2f4e830a852960eba8e05d6b622b3bd64911ab69   \n",
       "2016-12-08 10:38:16+00:00  dc0e11872fe1437f564137fe377cb43675eead90   \n",
       "2016-12-08 14:56:21+00:00  106fefd275c20c5b673a326e89647f7511ba9f76   \n",
       "2016-12-16 22:57:08+00:00  97b9d67c84332b8a47da7177e38607589755ccab   \n",
       "2016-12-17 13:56:23+00:00  792e255281e6075608f235847bce73ee530f49f3   \n",
       "...                                                             ...   \n",
       "2024-02-04 14:11:47+00:00  231412fec0a5c06832ab1c34fb01e49d52d5248c   \n",
       "2024-02-05 13:33:16+00:00  7799cc0a089a0727fdae7511cf76ad40d9370462   \n",
       "2024-02-07 19:44:36+00:00  1a2bd807973f3bf052eee45eb343c7a752bd61bb   \n",
       "2024-02-08 17:50:59+00:00  54f7ae285eeb2a8f85480500a8d425f09acba4e1   \n",
       "2024-02-09 14:27:36+00:00  2def59bb9123187740bf4c3136eb500deee154db   \n",
       "\n",
       "                           document_count  \n",
       "date_from                                  \n",
       "2016-12-02 09:31:24+00:00             465  \n",
       "2016-12-08 10:38:16+00:00             465  \n",
       "2016-12-08 14:56:21+00:00             465  \n",
       "2016-12-16 22:57:08+00:00             465  \n",
       "2016-12-17 13:56:23+00:00             465  \n",
       "...                                   ...  \n",
       "2024-02-04 14:11:47+00:00             675  \n",
       "2024-02-05 13:33:16+00:00             675  \n",
       "2024-02-07 19:44:36+00:00             676  \n",
       "2024-02-08 17:50:59+00:00             677  \n",
       "2024-02-09 14:27:36+00:00             678  \n",
       "\n",
       "[1492 rows x 2 columns]"
      ]
     },
     "execution_count": 14,
     "metadata": {},
     "output_type": "execute_result"
    }
   ],
   "source": [
    "# The size of the corpus in documents as a pandas data frame \n",
    "# can be retrieved with the method get_corpus_versions_as_df\n",
    "# This cell will removed from the final reandering\n",
    "\n",
    "corpus_num_of_docs_df = repo.get_corpus_versions_as_df(columns=[\"date_from\",\"id\",\"document_count\"]).set_index(\"date_from\")\n",
    "corpus_num_of_docs_df"
   ]
  },
  {
   "cell_type": "code",
   "execution_count": 15,
   "id": "85bfea58-1a15-4418-b1c5-deb451fa0995",
   "metadata": {
    "editable": true,
    "slideshow": {
     "slide_type": ""
    },
    "tags": [
     "remove-cell"
    ]
   },
   "outputs": [
    {
     "data": {
      "application/papermill.record/image/png": "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",
      "application/papermill.record/text/plain": "<Figure size 640x480 with 1 Axes>"
     },
     "metadata": {
      "scrapbook": {
       "mime_prefix": "application/papermill.record/",
       "name": "fig_num_corpus_documents"
      }
     },
     "output_type": "display_data"
    },
    {
     "data": {
      "image/png": "[encoded data removed]",
      "text/plain": [
       "<Figure size 640x480 with 1 Axes>"
      ]
     },
     "metadata": {},
     "output_type": "display_data"
    },
    {
     "data": {
      "image/png": "[encoded data removed]",
      "text/plain": [
       "<Figure size 640x480 with 1 Axes>"
      ]
     },
     "metadata": {},
     "output_type": "display_data"
    }
   ],
   "source": [
    "# A quick way to plot the development of a corpus in way of documents\n",
    "# This cell will be removed from the final rendering\n",
    "repo.plot_documents_in_corpus_versions()\n",
    "\n",
    "# But to better control the plot:\n",
    "import pandas as pd\n",
    "import matplotlib.pyplot as plt\n",
    "\n",
    "# We need to have this redone as a \"glue-able\" figure\n",
    "fig_num_corpus_documents = plt.figure()\n",
    "\n",
    "plt.ylabel(\"Documents\", figure=fig_num_corpus_documents)\n",
    "plt.xlabel(\"Date\", figure=fig_num_corpus_documents)\n",
    "\n",
    "plt.plot(corpus_num_of_docs_df[\"document_count\"], figure=fig_num_corpus_documents)\n",
    "\n",
    "glue(\"fig_num_corpus_documents\", fig_num_corpus_documents, display=False)"
   ]
  },
  {
   "cell_type": "markdown",
   "id": "981fafaa-64bf-436e-bf4c-62e6144567a7",
   "metadata": {
    "editable": true,
    "slideshow": {
     "slide_type": ""
    },
    "tags": []
   },
   "source": [
    "Figure {numref}`fig_num_corpus_documents` shows the development of the number of plays included in the corpus versions of GerDraCor. It can be seen from the plot that in 2018 the corpus slowly begins to grow."
   ]
  },
  {
   "cell_type": "markdown",
   "id": "05daa7a7-4930-4e9f-b04c-82ddba38bf52",
   "metadata": {
    "editable": true,
    "slideshow": {
     "slide_type": ""
    },
    "tags": []
   },
   "source": [
    "```{glue:figure} fig_num_corpus_documents\n",
    "---\n",
    "figwidth: 800px\n",
    "name: fig_num_corpus_documents\n",
    "---\n",
    "Development of the number of documents in  all versions in GerDraCor\n",
    "```"
   ]
  },
  {
   "cell_type": "code",
   "execution_count": 16,
   "id": "36edd735-f91b-4d84-b2d4-b44a5d649757",
   "metadata": {
    "editable": true,
    "slideshow": {
     "slide_type": ""
    },
    "tags": [
     "remove-cell"
    ]
   },
   "outputs": [
    {
     "data": {
      "text/html": [
       "<div>\n",
       "<style scoped>\n",
       "    .dataframe tbody tr th:only-of-type {\n",
       "        vertical-align: middle;\n",
       "    }\n",
       "\n",
       "    .dataframe tbody tr th {\n",
       "        vertical-align: top;\n",
       "    }\n",
       "\n",
       "    .dataframe thead th {\n",
       "        text-align: right;\n",
       "    }\n",
       "</style>\n",
       "<table border=\"1\" class=\"dataframe\">\n",
       "  <thead>\n",
       "    <tr style=\"text-align: right;\">\n",
       "      <th></th>\n",
       "      <th>new</th>\n",
       "      <th>overall</th>\n",
       "    </tr>\n",
       "    <tr>\n",
       "      <th>year</th>\n",
       "      <th></th>\n",
       "      <th></th>\n",
       "    </tr>\n",
       "  </thead>\n",
       "  <tbody>\n",
       "    <tr>\n",
       "      <th>2016</th>\n",
       "      <td>465</td>\n",
       "      <td>465</td>\n",
       "    </tr>\n",
       "    <tr>\n",
       "      <th>2017</th>\n",
       "      <td>0</td>\n",
       "      <td>465</td>\n",
       "    </tr>\n",
       "    <tr>\n",
       "      <th>2018</th>\n",
       "      <td>7</td>\n",
       "      <td>472</td>\n",
       "    </tr>\n",
       "    <tr>\n",
       "      <th>2019</th>\n",
       "      <td>7</td>\n",
       "      <td>479</td>\n",
       "    </tr>\n",
       "    <tr>\n",
       "      <th>2020</th>\n",
       "      <td>41</td>\n",
       "      <td>520</td>\n",
       "    </tr>\n",
       "    <tr>\n",
       "      <th>2021</th>\n",
       "      <td>32</td>\n",
       "      <td>552</td>\n",
       "    </tr>\n",
       "    <tr>\n",
       "      <th>2022</th>\n",
       "      <td>45</td>\n",
       "      <td>597</td>\n",
       "    </tr>\n",
       "    <tr>\n",
       "      <th>2023</th>\n",
       "      <td>66</td>\n",
       "      <td>663</td>\n",
       "    </tr>\n",
       "    <tr>\n",
       "      <th>2024</th>\n",
       "      <td>15</td>\n",
       "      <td>678</td>\n",
       "    </tr>\n",
       "  </tbody>\n",
       "</table>\n",
       "</div>"
      ],
      "text/plain": [
       "      new  overall\n",
       "year              \n",
       "2016  465      465\n",
       "2017    0      465\n",
       "2018    7      472\n",
       "2019    7      479\n",
       "2020   41      520\n",
       "2021   32      552\n",
       "2022   45      597\n",
       "2023   66      663\n",
       "2024   15      678"
      ]
     },
     "metadata": {
      "scrapbook": {
       "mime_prefix": "",
       "name": "tab_new_plays_per_year"
      }
     },
     "output_type": "display_data"
    }
   ],
   "source": [
    "# Get the number of plays added per year\n",
    "# This cell is removed from the final output\n",
    "\n",
    "# We need the dataframe without the date from as index to better filter on the date\n",
    "# This overwrites the data frame with the date from as index\n",
    "corpus_num_of_docs_df = repo.get_corpus_versions_as_df(columns=[\"date_from\",\"id\",\"document_count\"])\n",
    "\n",
    "years = range(2016,2025)\n",
    "num_of_docs_max_per_year = []\n",
    "documents_added = []\n",
    "\n",
    "pref_year_max = 0\n",
    "for year in years:\n",
    "    year_max = corpus_num_of_docs_df.loc[(corpus_num_of_docs_df[\"date_from\"] >= f\"{str(year)}-01-01\")\n",
    "                     & (corpus_num_of_docs_df[\"date_from\"] < f\"{str(year)}-12-31\")][\"document_count\"].max()\n",
    "    num_of_docs_max_per_year.append(year_max)\n",
    "    documents_added_val = year_max - pref_year_max\n",
    "    documents_added.append(documents_added_val)\n",
    "\n",
    "    pref_year_max = year_max\n",
    "\n",
    "data = dict(\n",
    "    year=years,\n",
    "    new=documents_added,\n",
    "    overall=num_of_docs_max_per_year,\n",
    ")\n",
    "\n",
    "documents_per_year_df = pd.DataFrame(data).set_index(\"year\")\n",
    "glue(\"tab_new_plays_per_year\", documents_per_year_df)"
   ]
  },
  {
   "cell_type": "markdown",
   "id": "b91d84e3-1e01-4f0e-bc8c-733f6dd9ec0e",
   "metadata": {
    "editable": true,
    "slideshow": {
     "slide_type": ""
    },
    "tags": []
   },
   "source": [
    "The table in figure {numref}`tab_new_plays_per_year` lists the number of plays being added per year from 2016 to 2024 which shows that from 2020 (the year the COVID19 pandemic began) onwards the number of plays added per year grows significantly."
   ]
  },
  {
   "cell_type": "markdown",
   "id": "e14d3dd1-4bee-4d7f-965e-ae2b5f36c864",
   "metadata": {
    "editable": true,
    "slideshow": {
     "slide_type": ""
    },
    "tags": []
   },
   "source": [
    "```{glue:figure} tab_new_plays_per_year\n",
    "---\n",
    "name: tab_new_plays_per_year\n",
    "---\n",
    "Plays added to GerDraCor per year\n",
    "```"
   ]
  },
  {
   "cell_type": "markdown",
   "id": "33b4a5f0-a63b-439f-b24e-3717abfcd58d",
   "metadata": {
    "editable": true,
    "slideshow": {
     "slide_type": ""
    },
    "tags": []
   },
   "source": [
    "The “growth” of the corpus – to a certain extent – also results from diversifying the digital sources of which data is included. "
   ]
  },
  {
   "cell_type": "code",
   "execution_count": 17,
   "id": "7aa41417-f70f-49b8-ada1-51f936688a7d",
   "metadata": {
    "editable": true,
    "slideshow": {
     "slide_type": ""
    },
    "tags": [
     "remove-cell"
    ]
   },
   "outputs": [
    {
     "data": {
      "text/plain": [
       "'a0bf290a517092e3db27b5f37c30776f596565cd'"
      ]
     },
     "metadata": {
      "scrapbook": {
       "mime_prefix": "",
       "name": "first_version_with_more_than_dlina_plays_id"
      }
     },
     "output_type": "display_data"
    },
    {
     "data": {
      "text/plain": [
       "'6 January, 2018'"
      ]
     },
     "metadata": {
      "scrapbook": {
       "mime_prefix": "",
       "name": "first_version_with_more_than_dlina_plays_date_formatted"
      }
     },
     "output_type": "display_data"
    },
    {
     "data": {
      "text/plain": [
       "'schouwaert-die-ueberschwemmung'"
      ]
     },
     "metadata": {
      "scrapbook": {
       "mime_prefix": "",
       "name": "first_non_dlina_play_added"
      }
     },
     "output_type": "display_data"
    }
   ],
   "source": [
    "# Which version first adds a play?\n",
    "# We also use this to introduce the diversification of the source\n",
    "# This cell will not end up in the final rendering\n",
    "\n",
    "first_version_with_more_than_dlina_plays_id = corpus_num_of_docs_df[corpus_num_of_docs_df[\"document_count\"] > 465][\"id\"].iloc[0]\n",
    "glue(\"first_version_with_more_than_dlina_plays_id\", first_version_with_more_than_dlina_plays_id)\n",
    "\n",
    "#corpus_num_of_docs_df[corpus_num_of_docs_df[\"document_count\"] > 465]\n",
    "#corpus_num_of_docs_df.index[corpus_num_of_docs_df[\"document_count\"] > 465].tolist()[0]\n",
    "\n",
    "first_version_with_more_than_dlina_plays = repo.get_corpus_version(version=first_version_with_more_than_dlina_plays_id)\n",
    "first_version_with_more_than_dlina_plays_date = datetime.fromisoformat(first_version_with_more_than_dlina_plays[\"date_from\"])\n",
    "\n",
    "# Date of first commit\n",
    "glue(\"first_version_with_more_than_dlina_plays_date_formatted\", first_version_with_more_than_dlina_plays_date.strftime(\"%-d %B, %Y\"))\n",
    "\n",
    "first_non_dlina_play_added = first_version_with_more_than_dlina_plays[\"new_playnames\"][0]\n",
    "glue(\"first_non_dlina_play_added\", first_non_dlina_play_added)\n"
   ]
  },
  {
   "cell_type": "markdown",
   "id": "5065b5ac-0fff-4c35-a7c5-5a3dc1c933a3",
   "metadata": {
    "editable": true,
    "slideshow": {
     "slide_type": ""
    },
    "tags": []
   },
   "source": [
    "Soon after the consolidation of the DLINA/TextGrid data the first Non-DLINA play was added. Corpus version {glue:text}`first_version_with_more_than_dlina_plays_id` dating from {glue:text}`first_version_with_more_than_dlina_plays_date_formatted` includes the play *Die Überschwemmung* by Franz Philipp Adolph Schouwärt[^schouwaert_ueberschwemmung]. The play’s digital source data does not stem from the TextGrid Repository as in the case of the data from the DLINA project[^dlina_textgrid_research], but is converted from [Wikisource](https://de.wikisource.org/wiki/Schouwärt_–_Die_Ueberschwemmung_(1784)). The following plot ######## shows the distribution of sources used over time.\n",
    "\n",
    "[^dlina_textgrid_research]: In a [Blog post](https://dlina.github.io/A-Not-So-Simple-Question) {cite:ts}`fischer_2015_question` conducted an evaluation of the [data set \"Digitale Bibliothek\"](https://www.textgrid.de/Digitale-Bibliothek) that is included in TextGrid with the aim of identifying all available plays. The extracted TEI-files can be found in this GitHub repository: [https://github.com/DLiNa/project/tree/master/data/textgrid-repository-dramas](https://github.com/DLiNa/project/tree/master/data/textgrid-repository-dramas).\n",
    "\n",
    "[^schouwaert_ueberschwemmung]: The identifier `playname` of the play is {glue:text}`first_non_dlina_play_added`. The play can be acessed on the production instance of DraCor at [https://dracor.org/id/ger000466](https://dracor.org/id/ger000466). "
   ]
  },
  {
   "cell_type": "code",
   "execution_count": 18,
   "id": "73663c35-f2c0-4a68-ba84-556d0e21e4fc",
   "metadata": {
    "editable": true,
    "slideshow": {
     "slide_type": ""
    },
    "tags": [
     "hide-input"
    ]
   },
   "outputs": [
    {
     "data": {
      "image/png": "[encoded data removed]",
      "text/plain": [
       "<Figure size 640x480 with 1 Axes>"
      ]
     },
     "metadata": {},
     "output_type": "display_data"
    }
   ],
   "source": [
    "# This generates a quick (and messy) plot of the distribution of the sources\n",
    "\n",
    "repo.plot_source_distribution_of_corpus_versions()"
   ]
  },
  {
   "cell_type": "markdown",
   "id": "50b7cd99-8efd-4ed7-800b-7c08129e2989",
   "metadata": {
    "editable": true,
    "slideshow": {
     "slide_type": ""
    },
    "tags": []
   },
   "source": [
    "% The plot above should be redone and included as a figure in a markdown cell; label: Development of the Distribution of the Digital Sources of GerDraCor"
   ]
  },
  {
   "cell_type": "code",
   "execution_count": 19,
   "id": "0b19ef8e-7399-416e-badc-afa36b06e2d3",
   "metadata": {
    "editable": true,
    "slideshow": {
     "slide_type": ""
    },
    "tags": [
     "remove-cell"
    ]
   },
   "outputs": [
    {
     "data": {
      "image/png": "[encoded data removed]",
      "text/plain": [
       "<Figure size 640x480 with 1 Axes>"
      ]
     },
     "metadata": {
      "scrapbook": {
       "mime_prefix": "",
       "name": "fig_boxplot_year_normalized"
      }
     },
     "output_type": "display_data"
    },
    {
     "data": {
      "image/png": "[encoded data removed]",
      "text/plain": [
       "<Figure size 640x480 with 1 Axes>"
      ]
     },
     "metadata": {},
     "output_type": "display_data"
    }
   ],
   "source": [
    "# Box plot of \"YearNormalized\" values per year\n",
    "# This cell is removed from the final rendering of the report\n",
    "\n",
    "plot_data = {}\n",
    "for year in range(2017,2024):\n",
    "    data = repo.get_years_of_plays_in_corpus_version_in_date_range_as_df(\n",
    "        date_start=f\"{str(year)}-01-01\", \n",
    "        date_end=f\"{str(year)}-12-31\")[\"yearNormalized\"].dropna()\n",
    "    plot_data[str(year)] = data\n",
    "\n",
    "fig, ax = plt.subplots()\n",
    "ax.boxplot(plot_data.values())\n",
    "ax.set_xticklabels(plot_data.keys())\n",
    "glue(\"fig_boxplot_year_normalized\", fig)"
   ]
  },
  {
   "cell_type": "markdown",
   "id": "71789832-1088-459b-938e-4c519d25284b",
   "metadata": {
    "editable": true,
    "slideshow": {
     "slide_type": ""
    },
    "tags": []
   },
   "source": [
    "In the course of its existence, the GerDraCor corpus also expands in terms of the time period covered (see Fig. 5)."
   ]
  },
  {
   "cell_type": "markdown",
   "id": "1ee4742f-382d-454c-9770-3b5083c558a3",
   "metadata": {
    "editable": true,
    "slideshow": {
     "slide_type": ""
    },
    "tags": []
   },
   "source": [
    "```{glue:figure} fig_boxplot_year_normalized\n",
    "---\n",
    "figwidth: 800px\n",
    "name: fig_boxplot_year_normalized\n",
    "---\n",
    "Development of the time range (\"YearNormalized\") covered by GerDraCor\n",
    "```"
   ]
  },
  {
   "cell_type": "markdown",
   "id": "b82765f7-88d9-4e4b-8795-9228242880e1",
   "metadata": {
    "editable": true,
    "slideshow": {
     "slide_type": ""
    },
    "tags": []
   },
   "source": [
    "There is a second parameter that can be used to visualize the “growth” of a corpus – the sum of the file sizes of all TEI-XML documents in a corpus version. As expected, the overall size grows when adding plays to the corpus, but in 2017 it can also be observed that the overall size shrinks even though the number of plays stay the same. Still, plotting the size can be used to visualize changes when the overall number of documents stays the same, as happened in 2017, for example, when the total file sizes suddenly dropped. In this year no new plays were added to the corpus (see table in {numref}`tab_new_plays_per_year`)."
   ]
  },
  {
   "cell_type": "code",
   "execution_count": 20,
   "id": "56a77924-e49a-4cf7-a77b-a09fa8c1c6da",
   "metadata": {
    "editable": true,
    "slideshow": {
     "slide_type": ""
    },
    "tags": [
     "remove-cell"
    ]
   },
   "outputs": [
    {
     "data": {
      "application/papermill.record/image/png": "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",
      "application/papermill.record/text/plain": "<Figure size 640x480 with 1 Axes>"
     },
     "metadata": {
      "scrapbook": {
       "mime_prefix": "application/papermill.record/",
       "name": "fig_document_sizes_sum"
      }
     },
     "output_type": "display_data"
    },
    {
     "data": {
      "image/png": "[encoded data removed]",
      "text/plain": [
       "<Figure size 640x480 with 1 Axes>"
      ]
     },
     "metadata": {},
     "output_type": "display_data"
    },
    {
     "data": {
      "image/png": "[encoded data removed]",
      "text/plain": [
       "<Figure size 640x480 with 1 Axes>"
      ]
     },
     "metadata": {},
     "output_type": "display_data"
    }
   ],
   "source": [
    "# Plot of the size of a corpus in bytes (sum of file sizes)\n",
    "# This cell will not be rendered in the final report\n",
    "\n",
    "# easy way to plot with the built in method\n",
    "repo.plot_document_sizes_sum_in_corpus_versions(title=\"Sum of Document Sizes\")\n",
    "\n",
    "# Plot to a figure to later glue\n",
    "document_sizes_sum_df = repo.get_corpus_versions_as_df(\n",
    "    columns=[\"id\", \"date_from\", \"document_sizes_sum\"])\n",
    "\n",
    "document_sizes_sum_df_to_plot = document_sizes_sum_df.set_index(\"date_from\")\n",
    "\n",
    "fig_document_sizes_sum = plt.figure()\n",
    "\n",
    "plt.ylabel(\"Sum of Document Sizes [Bytes]\", figure=fig_document_sizes_sum)\n",
    "plt.xlabel(\"Date\", figure=fig_document_sizes_sum)\n",
    "\n",
    "plt.plot(document_sizes_sum_df_to_plot[\"document_sizes_sum\"], figure=fig_document_sizes_sum)\n",
    "\n",
    "glue(\"fig_document_sizes_sum\", fig_document_sizes_sum, display=False)"
   ]
  },
  {
   "cell_type": "markdown",
   "id": "d9a3fc5e-691d-4391-9bd8-0dc8fc2419a7",
   "metadata": {
    "editable": true,
    "slideshow": {
     "slide_type": ""
    },
    "tags": []
   },
   "source": [
    "```{glue:figure} fig_document_sizes_sum\n",
    "---\n",
    "figwidth: 800px\n",
    "name: fig_document_sizes_sum\n",
    "---\n",
    "Development of the sum of all document sizes in  all versions in GerDraCor\n",
    "```"
   ]
  },
  {
   "cell_type": "markdown",
   "id": "6b2a13e9-23e8-4a38-a691-c8500b5169eb",
   "metadata": {
    "editable": true,
    "slideshow": {
     "slide_type": ""
    },
    "tags": []
   },
   "source": [
    "We don't want to go into detail about what happened in 2017. What is more important to us at this moment is something else that clarifies our understanding of living corpora. Living corpora are not only characterized by the fact that the number of documents they contain is growing. Rather, it is also the case that the documents from living corpora themselves can change (e.g. grow or shrink), because they are enriched by additional mark-up or homogenized, which can lead, for example, to mark-up or metadata being deleted from the files (as was the case in 2017, to solve this cliffhanger)."
   ]
  },
  {
   "cell_type": "code",
   "execution_count": 21,
   "id": "24ce2f8b-9cab-4a7e-aec2-de3e5ff41d32",
   "metadata": {
    "editable": true,
    "slideshow": {
     "slide_type": ""
    },
    "tags": [
     "remove-cell"
    ]
   },
   "outputs": [
    {
     "data": {
      "application/papermill.record/image/png": "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",
      "application/papermill.record/text/plain": "<Figure size 640x480 with 1 Axes>"
     },
     "metadata": {
      "scrapbook": {
       "mime_prefix": "application/papermill.record/",
       "name": "fig_galotti_file_size_development_v1"
      }
     },
     "output_type": "display_data"
    },
    {
     "data": {
      "application/papermill.record/image/png": "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",
      "application/papermill.record/text/plain": "<Figure size 640x480 with 1 Axes>"
     },
     "metadata": {
      "scrapbook": {
       "mime_prefix": "application/papermill.record/",
       "name": "fig_galotti_file_size_development_v2"
      }
     },
     "output_type": "display_data"
    },
    {
     "data": {
      "image/png": "[encoded data removed]",
      "text/plain": [
       "<Figure size 640x480 with 1 Axes>"
      ]
     },
     "metadata": {},
     "output_type": "display_data"
    },
    {
     "data": {
      "image/png": "[encoded data removed]",
      "text/plain": [
       "<Figure size 640x480 with 1 Axes>"
      ]
     },
     "metadata": {},
     "output_type": "display_data"
    }
   ],
   "source": [
    "# Plot the development of the file size of Emilia Galotti\n",
    "# The following plot also includes the date with the original file name\n",
    "\n",
    "# A way to quickly do this:\n",
    "#repo.plot_document_size_in_corpus_versions(name=\"1772-Lessing_Gotthold_Ephraim-Emilia_Galotti-lina\")\n",
    "#repo.plot_document_size_in_corpus_versions(name=\"lessing-emilia-galotti\")\n",
    "\n",
    "# Get the size values as data frames and remove the rows with no value in column \"size\"\n",
    "df1 = repo.get_sizes_of_single_play_as_df(name=\"1772-Lessing_Gotthold_Ephraim-Emilia_Galotti-lina\")\n",
    "df1 = df1[df1[\"size\"].notna()]\n",
    "\n",
    "df2 = repo.get_sizes_of_single_play_as_df(name=\"lessing-emilia-galotti\")\n",
    "df2 = df2[df2[\"size\"].notna()]\n",
    "\n",
    "df1[\"date_from\"] = pd.to_datetime(df1[\"date_from\"])\n",
    "df2[\"date_from\"] = pd.to_datetime(df2[\"date_from\"])\n",
    "\n",
    "# This combines the two dataframes\n",
    "galotti_size_df = pd.concat([df1, df2])\n",
    "galotti_size_df = galotti_size_df.sort_values(\"date_from\")\n",
    "\n",
    "# Make the date row the index\n",
    "galotti_size_df = galotti_size_df.set_index(\"date_from\")\n",
    "\n",
    "fig1 = plt.figure()\n",
    "\n",
    "plt.ylabel(\"Size [Bytes]\", figure=fig1)\n",
    "plt.xlabel(\"Year\", figure=fig1)\n",
    "\n",
    "plt.plot(galotti_size_df[\"size\"], figure=fig1)\n",
    "\n",
    "glue(\"fig_galotti_file_size_development_v1\", fig1, display=False)\n",
    "\n",
    "# Second variant; plotting two lines to visually show the moment the file name changed\n",
    "fig2 = plt.figure()\n",
    "\n",
    "df1 = df1.set_index(\"date_from\")\n",
    "df2 = df2.set_index(\"date_from\")\n",
    "\n",
    "plt.ylabel(\"Size [Bytes]\", figure=fig2)\n",
    "plt.xlabel(\"Year\", figure=fig2)\n",
    "plt.plot(df1[\"size\"], label=\"1772-Lessing_Gotthold_Ephraim-Emilia_Galotti-lina.xml\", figure=fig2)\n",
    "plt.plot(df2[\"size\"], label=\"lessing-emilia-galotti.xml\", figure=fig2)\n",
    "plt.legend(loc=\"lower right\")\n",
    "\n",
    "glue(\"fig_galotti_file_size_development_v2\", fig2, display=False)"
   ]
  },
  {
   "cell_type": "code",
   "execution_count": 22,
   "id": "11fd968d-93a5-4eb2-81d0-f24b1f27c7d8",
   "metadata": {
    "editable": true,
    "slideshow": {
     "slide_type": ""
    },
    "tags": [
     "remove-cell"
    ]
   },
   "outputs": [
    {
     "data": {
      "text/html": [
       "<div>\n",
       "<style scoped>\n",
       "    .dataframe tbody tr th:only-of-type {\n",
       "        vertical-align: middle;\n",
       "    }\n",
       "\n",
       "    .dataframe tbody tr th {\n",
       "        vertical-align: top;\n",
       "    }\n",
       "\n",
       "    .dataframe thead th {\n",
       "        text-align: right;\n",
       "    }\n",
       "</style>\n",
       "<table border=\"1\" class=\"dataframe\">\n",
       "  <thead>\n",
       "    <tr style=\"text-align: right;\">\n",
       "      <th></th>\n",
       "      <th>version</th>\n",
       "      <th>size</th>\n",
       "    </tr>\n",
       "    <tr>\n",
       "      <th>date_from</th>\n",
       "      <th></th>\n",
       "      <th></th>\n",
       "    </tr>\n",
       "  </thead>\n",
       "  <tbody>\n",
       "    <tr>\n",
       "      <th>2016-12-02 09:31:24+00:00</th>\n",
       "      <td>2f4e830a852960eba8e05d6b622b3bd64911ab69</td>\n",
       "      <td>194399.0</td>\n",
       "    </tr>\n",
       "    <tr>\n",
       "      <th>2016-12-08 10:38:16+00:00</th>\n",
       "      <td>dc0e11872fe1437f564137fe377cb43675eead90</td>\n",
       "      <td>194399.0</td>\n",
       "    </tr>\n",
       "    <tr>\n",
       "      <th>2016-12-08 14:56:21+00:00</th>\n",
       "      <td>106fefd275c20c5b673a326e89647f7511ba9f76</td>\n",
       "      <td>255784.0</td>\n",
       "    </tr>\n",
       "    <tr>\n",
       "      <th>2016-12-16 22:57:08+00:00</th>\n",
       "      <td>97b9d67c84332b8a47da7177e38607589755ccab</td>\n",
       "      <td>255784.0</td>\n",
       "    </tr>\n",
       "    <tr>\n",
       "      <th>2016-12-17 13:56:23+00:00</th>\n",
       "      <td>792e255281e6075608f235847bce73ee530f49f3</td>\n",
       "      <td>255784.0</td>\n",
       "    </tr>\n",
       "    <tr>\n",
       "      <th>...</th>\n",
       "      <td>...</td>\n",
       "      <td>...</td>\n",
       "    </tr>\n",
       "    <tr>\n",
       "      <th>2024-02-04 14:11:47+00:00</th>\n",
       "      <td>231412fec0a5c06832ab1c34fb01e49d52d5248c</td>\n",
       "      <td>246370.0</td>\n",
       "    </tr>\n",
       "    <tr>\n",
       "      <th>2024-02-05 13:33:16+00:00</th>\n",
       "      <td>7799cc0a089a0727fdae7511cf76ad40d9370462</td>\n",
       "      <td>246370.0</td>\n",
       "    </tr>\n",
       "    <tr>\n",
       "      <th>2024-02-07 19:44:36+00:00</th>\n",
       "      <td>1a2bd807973f3bf052eee45eb343c7a752bd61bb</td>\n",
       "      <td>246370.0</td>\n",
       "    </tr>\n",
       "    <tr>\n",
       "      <th>2024-02-08 17:50:59+00:00</th>\n",
       "      <td>54f7ae285eeb2a8f85480500a8d425f09acba4e1</td>\n",
       "      <td>246370.0</td>\n",
       "    </tr>\n",
       "    <tr>\n",
       "      <th>2024-02-09 14:27:36+00:00</th>\n",
       "      <td>2def59bb9123187740bf4c3136eb500deee154db</td>\n",
       "      <td>246370.0</td>\n",
       "    </tr>\n",
       "  </tbody>\n",
       "</table>\n",
       "<p>1492 rows × 2 columns</p>\n",
       "</div>"
      ],
      "text/plain": [
       "                                                            version      size\n",
       "date_from                                                                    \n",
       "2016-12-02 09:31:24+00:00  2f4e830a852960eba8e05d6b622b3bd64911ab69  194399.0\n",
       "2016-12-08 10:38:16+00:00  dc0e11872fe1437f564137fe377cb43675eead90  194399.0\n",
       "2016-12-08 14:56:21+00:00  106fefd275c20c5b673a326e89647f7511ba9f76  255784.0\n",
       "2016-12-16 22:57:08+00:00  97b9d67c84332b8a47da7177e38607589755ccab  255784.0\n",
       "2016-12-17 13:56:23+00:00  792e255281e6075608f235847bce73ee530f49f3  255784.0\n",
       "...                                                             ...       ...\n",
       "2024-02-04 14:11:47+00:00  231412fec0a5c06832ab1c34fb01e49d52d5248c  246370.0\n",
       "2024-02-05 13:33:16+00:00  7799cc0a089a0727fdae7511cf76ad40d9370462  246370.0\n",
       "2024-02-07 19:44:36+00:00  1a2bd807973f3bf052eee45eb343c7a752bd61bb  246370.0\n",
       "2024-02-08 17:50:59+00:00  54f7ae285eeb2a8f85480500a8d425f09acba4e1  246370.0\n",
       "2024-02-09 14:27:36+00:00  2def59bb9123187740bf4c3136eb500deee154db  246370.0\n",
       "\n",
       "[1492 rows x 2 columns]"
      ]
     },
     "execution_count": 22,
     "metadata": {},
     "output_type": "execute_result"
    }
   ],
   "source": [
    "# Data frame with the sizes of the file of Emilia Galotti\n",
    "# This cell is not included in the final rendering of the report\n",
    "\n",
    "galotti_size_df"
   ]
  },
  {
   "cell_type": "code",
   "execution_count": 23,
   "id": "648ef26b-f2bd-47c8-95c0-574537e8201b",
   "metadata": {
    "editable": true,
    "slideshow": {
     "slide_type": ""
    },
    "tags": [
     "remove-cell"
    ]
   },
   "outputs": [
    {
     "name": "stdout",
     "output_type": "stream",
     "text": [
      "https://github.com/dracor-org/gerdracor/commit/106fefd275c20c5b673a326e89647f7511ba9f76\n"
     ]
    }
   ],
   "source": [
    "# The steep increase in file size happens in version 106fefd275c20c5b673a326e89647f7511ba9f76\n",
    "# this cell is not included in the final rendering of the report\n",
    "print(repo.get_github_commit_url_of_version(version=\"106fefd275c20c5b673a326e89647f7511ba9f76\"))"
   ]
  },
  {
   "cell_type": "markdown",
   "id": "5bd7ffff-8a0d-4abb-8d4a-f3d217c8cc04",
   "metadata": {
    "editable": true,
    "slideshow": {
     "slide_type": ""
    },
    "tags": []
   },
   "source": [
    "Plotting the file size over a period of time is also useful to understand if and when a single file has been subject to modification. As an example we plot the file size of each version of the XML file of the play *Emilia Galotti* by Gotthold Ephraim Lessing[^emilia_galotti_on_dracor] in {numref}`fig_galotti_file_size_development_v2`.\n",
    "\n",
    "[^emilia_galotti_on_dracor]: The play can be accessed on DraCor at [https://dracor.org/id/ger000088](https://dracor.org/id/ger000088)."
   ]
  },
  {
   "cell_type": "markdown",
   "id": "f9463404-257d-40de-889b-3fc8a0f254d3",
   "metadata": {
    "editable": true,
    "slideshow": {
     "slide_type": ""
    },
    "tags": []
   },
   "source": [
    "```{glue:figure} fig_galotti_file_size_development_v2\n",
    "---\n",
    "figwidth: 800px\n",
    "name: fig_galotti_file_size_development_v2\n",
    "---\n",
    "Development of file size of the play *Emila Galotti* over all versions in GerDraCor\n",
    "```"
   ]
  },
  {
   "cell_type": "markdown",
   "id": "10d2f1d1-d9c4-4fad-b8fa-8ecd235a4b80",
   "metadata": {
    "editable": true,
    "slideshow": {
     "slide_type": ""
    },
    "tags": []
   },
   "source": [
    "The change in color of the plotted line indicates the moment when the file was renamed from `1772-Lessing_Gotthold_Ephraim-Emilia_Galotti-lina.xml`[^galotti_file_version_1] to the still valid `lessing-emilia-galotti`. In the initial version of the XML file the metadata in the `<teiHeader>` was then based on the LINA file, but not in the format (\"Zwischenformat\") that is available as `lina88` on the [DLINA website](https://dlina.github.io/linas/lina88), but already encoded following the TEI Guidelines. The reference to DLINA is still kept in the TEI version in the `<publicationStmt>` encoded as an `<idno>` element until the version dated {glue:}`batch_edit_header_consistencies_version_date_formatted` (see {ref}`excursus_major_revisions` below). A reference to the  TextGrid Source is contained in the `<sourceDesc>` and tagged as `<bibl type=\"digitalSource\">` including a [link](http://www.textgridrep.org/textgrid:rksp.0) to TextGrid in an `<idno>` element. \n",
    "\n",
    "The full text content taken from TextGrid was included in the initial version in the `<text>` element without any line breaks and intendations on a single line only. The text is formatted in the [third version](https://github.com/dracor-org/gerdracor/commit/106fefd275c20c5b673a326e89647f7511ba9f76#diff-0d89c2bc1b36f1ca71e870eeb075d3f23d463ac76716a6709d7b7d8705adff6e) (`106fefd275c20c5b673a326e89647f7511ba9f76`) which results in the steep increase of the file size. \n",
    "\n",
    "[^galotti_file_version_1]: On GitHub the file can be accessed [here](https://github.com/dracor-org/gerdracor/blob/2f4e830a852960eba8e05d6b622b3bd64911ab69/data/1772-Lessing_Gotthold_Ephraim-Emilia_Galotti-lina.xml)."
   ]
  },
  {
   "cell_type": "code",
   "execution_count": 24,
   "id": "7dbc8baa-debb-4434-8227-d6d12b33cb8c",
   "metadata": {
    "editable": true,
    "slideshow": {
     "slide_type": ""
    },
    "tags": [
     "remove-cell"
    ]
   },
   "outputs": [
    {
     "data": {
      "text/plain": [
       "26"
      ]
     },
     "metadata": {
      "scrapbook": {
       "mime_prefix": "",
       "name": "versions_modifying_galotti_count"
      }
     },
     "output_type": "display_data"
    },
    {
     "data": {
      "text/plain": [
       "['3e92970c6c3901b7661a515ce504605fb819e37d',\n",
       " '5d4130230eb9b9f2820618089ed1cf774424f241',\n",
       " '51dd69475f14757992c77d9a04c19026295b5f7c',\n",
       " '5b41d0f8f11fa478cfa68f9dac54912e6b922a63',\n",
       " '7987eb78ecee670e999373d1917bf64b8b1e5253',\n",
       " 'e8b7285eb4adbecebbcfcf53046f9a1093f25076',\n",
       " '879250ad0d9cc686dda930afa694d9461a0b5757',\n",
       " '8145e178ee1714ac115d2097e7c6df8cd1181e91',\n",
       " '1ab8c9b713a3eeaf5b25026e6036caaab230c119',\n",
       " 'e8c21cfd3b76bdcb05c6174e2c2d237d0d07c21e',\n",
       " '23833340aa83b963205f583189206a9881e9869e',\n",
       " 'd71e3d78562d8039f90bd21d88c6c7b67e912372',\n",
       " 'b0c6457ed5233ca634650d853627ed4ffe5fba8a',\n",
       " 'e1622273f41204a09d9af469d8f036a79b654af9',\n",
       " '1095d70934ab525f866a2f1978541eeedf618651',\n",
       " '8f0b2ac84f85ebf79df6b8aa0fb2d9662ee212ea',\n",
       " '9c2fcf55cce2ec6290ffc8615e98d9b2355707d9',\n",
       " '445a5b0fca0c96d7d4be7a9e8738a7c19cbe9cad',\n",
       " '7b4faf2f0d6e80a7e39052a38e12617453a1e5d2',\n",
       " '75b663876d1cd7b54235547ccd077a3299877a1c',\n",
       " 'fe53f8f5d4d36794df55859e262e6d1b893ce705',\n",
       " 'd23a93d9fa0e4eb53a580904ac5d01c8b8f8037c',\n",
       " '376cec4c609bc27cdcd9e2bb41bda7253c0174ff',\n",
       " 'bfadf6b5844d4e05ea0501898a23c21f71c10cb3',\n",
       " 'f7af1eb1060e94a916b856596d9e2e198f7159ea',\n",
       " 'a99060f0065856f8df114ce8556c31161c0332d1']"
      ]
     },
     "metadata": {
      "scrapbook": {
       "mime_prefix": "",
       "name": "versions_modifying_galotti_ids"
      }
     },
     "output_type": "display_data"
    },
    {
     "data": {
      "text/plain": [
       "['https://github.com/dracor-org/gerdracor/commit/3e92970c6c3901b7661a515ce504605fb819e37d',\n",
       " 'https://github.com/dracor-org/gerdracor/commit/5d4130230eb9b9f2820618089ed1cf774424f241',\n",
       " 'https://github.com/dracor-org/gerdracor/commit/51dd69475f14757992c77d9a04c19026295b5f7c',\n",
       " 'https://github.com/dracor-org/gerdracor/commit/5b41d0f8f11fa478cfa68f9dac54912e6b922a63',\n",
       " 'https://github.com/dracor-org/gerdracor/commit/7987eb78ecee670e999373d1917bf64b8b1e5253',\n",
       " 'https://github.com/dracor-org/gerdracor/commit/e8b7285eb4adbecebbcfcf53046f9a1093f25076',\n",
       " 'https://github.com/dracor-org/gerdracor/commit/879250ad0d9cc686dda930afa694d9461a0b5757',\n",
       " 'https://github.com/dracor-org/gerdracor/commit/8145e178ee1714ac115d2097e7c6df8cd1181e91',\n",
       " 'https://github.com/dracor-org/gerdracor/commit/1ab8c9b713a3eeaf5b25026e6036caaab230c119',\n",
       " 'https://github.com/dracor-org/gerdracor/commit/e8c21cfd3b76bdcb05c6174e2c2d237d0d07c21e',\n",
       " 'https://github.com/dracor-org/gerdracor/commit/23833340aa83b963205f583189206a9881e9869e',\n",
       " 'https://github.com/dracor-org/gerdracor/commit/d71e3d78562d8039f90bd21d88c6c7b67e912372',\n",
       " 'https://github.com/dracor-org/gerdracor/commit/b0c6457ed5233ca634650d853627ed4ffe5fba8a',\n",
       " 'https://github.com/dracor-org/gerdracor/commit/e1622273f41204a09d9af469d8f036a79b654af9',\n",
       " 'https://github.com/dracor-org/gerdracor/commit/1095d70934ab525f866a2f1978541eeedf618651',\n",
       " 'https://github.com/dracor-org/gerdracor/commit/8f0b2ac84f85ebf79df6b8aa0fb2d9662ee212ea',\n",
       " 'https://github.com/dracor-org/gerdracor/commit/9c2fcf55cce2ec6290ffc8615e98d9b2355707d9',\n",
       " 'https://github.com/dracor-org/gerdracor/commit/445a5b0fca0c96d7d4be7a9e8738a7c19cbe9cad',\n",
       " 'https://github.com/dracor-org/gerdracor/commit/7b4faf2f0d6e80a7e39052a38e12617453a1e5d2',\n",
       " 'https://github.com/dracor-org/gerdracor/commit/75b663876d1cd7b54235547ccd077a3299877a1c',\n",
       " 'https://github.com/dracor-org/gerdracor/commit/fe53f8f5d4d36794df55859e262e6d1b893ce705',\n",
       " 'https://github.com/dracor-org/gerdracor/commit/d23a93d9fa0e4eb53a580904ac5d01c8b8f8037c',\n",
       " 'https://github.com/dracor-org/gerdracor/commit/376cec4c609bc27cdcd9e2bb41bda7253c0174ff',\n",
       " 'https://github.com/dracor-org/gerdracor/commit/bfadf6b5844d4e05ea0501898a23c21f71c10cb3',\n",
       " 'https://github.com/dracor-org/gerdracor/commit/f7af1eb1060e94a916b856596d9e2e198f7159ea',\n",
       " 'https://github.com/dracor-org/gerdracor/commit/a99060f0065856f8df114ce8556c31161c0332d1']"
      ]
     },
     "metadata": {
      "scrapbook": {
       "mime_prefix": "",
       "name": "versions_modifying_galotti_links"
      }
     },
     "output_type": "display_data"
    }
   ],
   "source": [
    "# Modifications to Emilia Galotti (old filename, new filename)\n",
    "# This cell is not included in the final rendering\n",
    "\n",
    "galotti_modifying_versions = repo.get_corpus_versions_modifying_document(name=\"1772-Lessing_Gotthold_Ephraim-Emilia_Galotti-lina\") + repo.get_corpus_versions_modifying_document(name=\"lessing-emilia-galotti\")\n",
    "\n",
    "glue(\"versions_modifying_galotti_count\", len(galotti_modifying_versions))\n",
    "\n",
    "versions_modifying_galotti_ids = [item[\"version\"] for item in galotti_modifying_versions]\n",
    "glue(\"versions_modifying_galotti_ids\", versions_modifying_galotti_ids)\n",
    "\n",
    "versions_modifying_galotti_links = [item[\"link\"] for item in galotti_modifying_versions]\n",
    "glue(\"versions_modifying_galotti_links\", versions_modifying_galotti_links)"
   ]
  },
  {
   "cell_type": "markdown",
   "id": "f76f0777-c4e0-4e7c-8b0a-14faff0f9aac",
   "metadata": {
    "editable": true,
    "slideshow": {
     "slide_type": ""
    },
    "tags": []
   },
   "source": [
    "Overall we there are {glue}`versions_modifying_galotti_count` versions in which the XML file of *Emilia Galotti* is modified.[^version_ids_modifying_galotti]\n",
    "\n",
    "[^version_ids_modifying_galotti]: The the identifiers of the versions in which the file is modified are as follows: {glue:text}`versions_modifying_galotti_ids`"
   ]
  },
  {
   "cell_type": "markdown",
   "id": "e3ac90bf-2cd9-41b3-942d-8d7b6fc5628b",
   "metadata": {
    "editable": true,
    "slideshow": {
     "slide_type": ""
    },
    "tags": []
   },
   "source": [
    "(excursus_major_revisions)=\n",
    "## Batch Edits as Major Revisions"
   ]
  },
  {
   "cell_type": "markdown",
   "id": "ac8f757f-cf74-44d8-ab2e-2af68b4c3f19",
   "metadata": {
    "editable": true,
    "slideshow": {
     "slide_type": ""
    },
    "tags": []
   },
   "source": [
    "One can differentiate (at least) two major types of modifications to the files in a corpus version: \n",
    "* Edits of single files only that bring a single file in shape;\n",
    "* “Batch” edits that change all files at once.\n",
    "\n",
    "The first edits need to be analyzed on an individual level. On a broader scale it must be said that these are, of course, relevant in reproduction studies because they might change, for example, the text resulting in different numbers of `<sp>`, stage direction, number of words, et cetera. We can always assume some effect on some of the metrics if there is a new version.[^irrelevant_modifications]\n",
    "\n",
    "In the following, we identify and comment on the batch edits, because we assume that they introduce changes to the files that are the results of some automatic process, e.g. using element Y instead of X. \n",
    "\n",
    "[^irrelevant_modifications]:There might be commits/versions in which only non-(play)-document files changed; usually these are unproblematic because these modifications do not affect the metrics and data returned by the API or any parts of files that are normally subject to an analysis, like the full text."
   ]
  },
  {
   "cell_type": "code",
   "execution_count": 25,
   "id": "b30a2757-15c6-412a-bdd1-ac37d881bba1",
   "metadata": {
    "editable": true,
    "slideshow": {
     "slide_type": ""
    },
    "tags": [
     "remove-cell"
    ]
   },
   "outputs": [
    {
     "name": "stdout",
     "output_type": "stream",
     "text": [
      "https://github.com/dracor-org/gerdracor/commit/e18c322706417825229f1471b15bd6daaeaf3ab1\n",
      "https://github.com/dracor-org/gerdracor/commit/fdac66ba90c2c094012dc90395e952411d324e4c\n",
      "https://github.com/dracor-org/gerdracor/commit/1ca50e56d1733e7c9a609fe050342679f7bea232\n",
      "https://github.com/dracor-org/gerdracor/commit/455ea2ba8863f177b326b60df30fc20c39094793\n",
      "https://github.com/dracor-org/gerdracor/commit/096b0858d72b3d058280d1e7820430f20e59eaff\n",
      "https://github.com/dracor-org/gerdracor/commit/73121e74d59238c26c7d28a74f726c55816271b2\n",
      "https://github.com/dracor-org/gerdracor/commit/030d81ad6642241716b20cd2e15e721920f23783\n",
      "https://github.com/dracor-org/gerdracor/commit/7b4faf2f0d6e80a7e39052a38e12617453a1e5d2\n",
      "https://github.com/dracor-org/gerdracor/commit/28fb4de09fa8158d4ea2ed3f54430080327c25f3\n"
     ]
    }
   ],
   "source": [
    "# Get links to Corpus Versions that rename documents:\n",
    "# This cell does not show up in the final rendering\n",
    "for version in repo.get_ids_of_corpus_versions_renaming_documents():\n",
    "    print(repo.get_github_commit_url_of_version(version=version))"
   ]
  },
  {
   "cell_type": "code",
   "execution_count": 26,
   "id": "523581d2-53ee-4618-9de9-4d1f6e3e8d78",
   "metadata": {
    "editable": true,
    "slideshow": {
     "slide_type": ""
    },
    "tags": [
     "remove-cell"
    ]
   },
   "outputs": [],
   "source": [
    "# This is the version that changes the name from \"data\" to \"tei\"\n",
    "# The output of the cell won't show up in the final rendering of the report\n",
    "\n",
    "#repo.get_corpus_version(version=\"e18c322706417825229f1471b15bd6daaeaf3ab1\")"
   ]
  },
  {
   "cell_type": "code",
   "execution_count": 27,
   "id": "8abcef38-c276-4298-bbac-860ba7083e54",
   "metadata": {
    "editable": true,
    "slideshow": {
     "slide_type": ""
    },
    "tags": [
     "remove-cell"
    ]
   },
   "outputs": [],
   "source": [
    "# This is the second version that does some batch renaming.\n",
    "# This cell won't show up in the final rendering of the report\n",
    "\n",
    "# repo.get_corpus_version(version=\"fdac66ba90c2c094012dc90395e952411d324e4c\")"
   ]
  },
  {
   "cell_type": "code",
   "execution_count": 28,
   "id": "bde7a5f9-53c2-4b58-892c-d32e783aa338",
   "metadata": {
    "editable": true,
    "slideshow": {
     "slide_type": ""
    },
    "tags": [
     "remove-cell"
    ]
   },
   "outputs": [
    {
     "data": {
      "text/plain": [
       "['goethe-faust-eine-tragoedie',\n",
       " 'malss-die-jungfern-koechinnen',\n",
       " 'neuber-die-beschuetzte-schauspielkunst',\n",
       " 'neuber-die-verehrung-der-vollkommenheit',\n",
       " 'lortzing-der-wildschuetz',\n",
       " 'schlegel-alarcos',\n",
       " 'hauptmann-die-ratten',\n",
       " 'hauptmann-florian-geyer',\n",
       " 'hauptmann-gabriel-schillings-flucht',\n",
       " 'hauptmann-vor-sonnenaufgang',\n",
       " 'holz-jerschke-traumulus',\n",
       " 'holz-schlaf-die-familie-selicke',\n",
       " 'laufs-jacoby-pension-schoeller',\n",
       " 'seemann-dulk-die-waende',\n",
       " 'stephanie-der-schauspieldirektor',\n",
       " 'stephanie-die-entfuehrung-aus-dem-serail',\n",
       " 'stephanie-die-liebe-im-narrenhause',\n",
       " 'stephanie-doktor-und-apotheker',\n",
       " 'barlach-der-blaue-boll']"
      ]
     },
     "metadata": {
      "scrapbook": {
       "mime_prefix": "",
       "name": "renaming_affected_playnames"
      }
     },
     "output_type": "display_data"
    }
   ],
   "source": [
    "# Get all renaming incidents apart from the batch renamings.\n",
    "# This cell won't show up in the final rendering of the report.\n",
    "\n",
    "rename_incidents = repo.get_renamed_files(\n",
    "    exclude_versions=[\"e18c322706417825229f1471b15bd6daaeaf3ab1\", \n",
    "                     \"fdac66ba90c2c094012dc90395e952411d324e4c\"])\n",
    "\n",
    "renaming_affected_playnames = []\n",
    "for item in rename_incidents:\n",
    "    renaming_affected_playnames.append(item[\"new_filename\"].split(\"/\")[1].replace(\".xml\",\"\"))\n",
    "\n",
    "glue(\"renaming_affected_playnames\", renaming_affected_playnames)"
   ]
  },
  {
   "cell_type": "markdown",
   "id": "18a4d818-e145-4f88-86d3-babb374280a2",
   "metadata": {
    "editable": true,
    "slideshow": {
     "slide_type": ""
    },
    "tags": []
   },
   "source": [
    "In the case of the very early GerDraCor there are two commits that introduce significant changes to where files are stored in the repository and how they are named:[^changing_of_file_names] \n",
    "\n",
    "* With the [commit](https://github.com/dracor-org/gerdracor/commit/e18c322706417825229f1471b15bd6daaeaf3ab1) `e18c322706417825229f1471b15bd6daaeaf3ab1` dating from September 17, 2017 the folder containing the files is renamed from the initial `data` to `tei`.\n",
    "* With the [commit](https://github.com/dracor-org/gerdracor/commit/fdac66ba90c2c094012dc90395e952411d324e4c) `fdac66ba90c2c094012dc90395e952411d324e4c`, on the same day, the file names of all TEI-XML files are changed to now match the identifier `playname`[^param_playname].\n",
    "\n",
    "[^changing_of_file_names]: With the current setup of the the methods provided by our analysis tool `github_utils` it is necessary to take changes in file names into consideration if we want to investigate or visualize the changes of a file over the whole period. After the batch renaming in September 2017 the data folder name `tei` stays stable, but there is still some renaming happening. The method `get_ids_of_corpus_versions_renaming_documents` allows to retrieve the idendifiers of all versions in which document files are renamed. The method `get_renamed_files` returns dictionaries containing the version number as well as the old and the new filename. The following plays have been renamed after the above mentioned batch renaming: {glue:text}`renaming_affected_playnames`.\n",
    "\n",
    "[^param_playname]: In the report \"On Programmable Corpora\" this is the feature \"P3 play_name\", see Tab. 02: Play Features on page 38. This identifier is used, for example, when requesting information about the play from the API: https://dracor.org/api/v1/corpora/ger/plays/lessing-emilia-galotti; Documentation of this API endpoint see https://dracor.org/doc/api#/public/play-info."
   ]
  },
  {
   "cell_type": "code",
   "execution_count": 29,
   "id": "0062f3d5-bd37-49a4-8260-e43cb6a48ea8",
   "metadata": {
    "editable": true,
    "slideshow": {
     "slide_type": ""
    },
    "tags": [
     "remove-cell"
    ]
   },
   "outputs": [
    {
     "name": "stdout",
     "output_type": "stream",
     "text": [
      "https://github.com/dracor-org/gerdracor/commit/3e92970c6c3901b7661a515ce504605fb819e37d\n",
      "https://github.com/dracor-org/gerdracor/commit/7987eb78ecee670e999373d1917bf64b8b1e5253\n",
      "https://github.com/dracor-org/gerdracor/commit/e8b7285eb4adbecebbcfcf53046f9a1093f25076\n",
      "https://github.com/dracor-org/gerdracor/commit/8145e178ee1714ac115d2097e7c6df8cd1181e91\n",
      "https://github.com/dracor-org/gerdracor/commit/e8c21cfd3b76bdcb05c6174e2c2d237d0d07c21e\n",
      "https://github.com/dracor-org/gerdracor/commit/23833340aa83b963205f583189206a9881e9869e\n",
      "https://github.com/dracor-org/gerdracor/commit/8f0b2ac84f85ebf79df6b8aa0fb2d9662ee212ea\n",
      "https://github.com/dracor-org/gerdracor/commit/9c2fcf55cce2ec6290ffc8615e98d9b2355707d9\n",
      "https://github.com/dracor-org/gerdracor/commit/75b663876d1cd7b54235547ccd077a3299877a1c\n",
      "https://github.com/dracor-org/gerdracor/commit/fe53f8f5d4d36794df55859e262e6d1b893ce705\n",
      "https://github.com/dracor-org/gerdracor/commit/d23a93d9fa0e4eb53a580904ac5d01c8b8f8037c\n"
     ]
    },
    {
     "data": {
      "text/plain": [
       "['3e92970c6c3901b7661a515ce504605fb819e37d',\n",
       " '7987eb78ecee670e999373d1917bf64b8b1e5253',\n",
       " 'e8b7285eb4adbecebbcfcf53046f9a1093f25076',\n",
       " '8145e178ee1714ac115d2097e7c6df8cd1181e91',\n",
       " 'e8c21cfd3b76bdcb05c6174e2c2d237d0d07c21e',\n",
       " '23833340aa83b963205f583189206a9881e9869e',\n",
       " '8f0b2ac84f85ebf79df6b8aa0fb2d9662ee212ea',\n",
       " '9c2fcf55cce2ec6290ffc8615e98d9b2355707d9',\n",
       " '75b663876d1cd7b54235547ccd077a3299877a1c',\n",
       " 'fe53f8f5d4d36794df55859e262e6d1b893ce705',\n",
       " 'd23a93d9fa0e4eb53a580904ac5d01c8b8f8037c']"
      ]
     },
     "metadata": {
      "scrapbook": {
       "mime_prefix": "",
       "name": "batch_edit_version_ids"
      }
     },
     "output_type": "display_data"
    },
    {
     "data": {
      "text/plain": [
       "11"
      ]
     },
     "metadata": {
      "scrapbook": {
       "mime_prefix": "",
       "name": "number_of_batch_edits"
      }
     },
     "output_type": "display_data"
    }
   ],
   "source": [
    "# Get the ids of commits changing all documents that are available at a time\n",
    "# This cell won't show up in the final rendering\n",
    "\n",
    "ids_of_batch_edits = repo.get_ids_of_corpus_versions_modifying_all_documents()\n",
    "for id in ids_of_batch_edits:\n",
    "    print(repo.get_github_commit_url_of_version(version=id))\n",
    "\n",
    "glue(\"batch_edit_version_ids\", ids_of_batch_edits)\n",
    "glue(\"number_of_batch_edits\", len(ids_of_batch_edits))"
   ]
  },
  {
   "cell_type": "markdown",
   "id": "c27b7229-02d9-4741-b5fd-b488adc357f0",
   "metadata": {
    "editable": true,
    "slideshow": {
     "slide_type": ""
    },
    "tags": []
   },
   "source": [
    "There are {glue:text}`number_of_batch_edits` versions in which all TEI-files available at that time are modified at once. In the following we discuss the relevant ones."
   ]
  },
  {
   "cell_type": "markdown",
   "id": "072cf080-99be-48fe-b380-1f9b58ac8d1b",
   "metadata": {
    "editable": true,
    "slideshow": {
     "slide_type": ""
    },
    "tags": [
     "remove-cell"
    ]
   },
   "source": [
    "% this will be removed\n",
    "[3e92970c6c3901b7661a515ce504605fb819e37d](https://github.com/dracor-org/gerdracor/commit/3e92970c6c3901b7661a515ce504605fb819e37d)\n",
    "\n",
    "* this is the commit that changes the relative path to the CSS"
   ]
  },
  {
   "cell_type": "code",
   "execution_count": 30,
   "id": "b70a432e-c691-48cb-8132-d8d826683c4a",
   "metadata": {
    "editable": true,
    "slideshow": {
     "slide_type": ""
    },
    "tags": [
     "remove-cell"
    ]
   },
   "outputs": [
    {
     "data": {
      "text/plain": [
       "468"
      ]
     },
     "metadata": {
      "scrapbook": {
       "mime_prefix": "",
       "name": "batch_edit_wikidata_ids_version_overall_document_count"
      }
     },
     "output_type": "display_data"
    },
    {
     "data": {
      "text/plain": [
       "468"
      ]
     },
     "metadata": {
      "scrapbook": {
       "mime_prefix": "",
       "name": "batch_edit_wikidata_ids_version_documents_affected_count"
      }
     },
     "output_type": "display_data"
    },
    {
     "data": {
      "text/plain": [
       "'3 September, 2018'"
      ]
     },
     "metadata": {
      "scrapbook": {
       "mime_prefix": "",
       "name": "batch_edit_wikidata_ids_version_date_formatted"
      }
     },
     "output_type": "display_data"
    }
   ],
   "source": [
    "# this cell will be removed in the final rendering of the report\n",
    "\n",
    "batch_edit_wikidata_ids_version = repo.get_corpus_version(\n",
    "    version=\"7987eb78ecee670e999373d1917bf64b8b1e5253\")\n",
    "\n",
    "\n",
    "glue(\"batch_edit_wikidata_ids_version_overall_document_count\", \n",
    "     batch_edit_wikidata_ids_version[\"document_count\"])\n",
    "glue(\"batch_edit_wikidata_ids_version_documents_affected_count\", batch_edit_wikidata_ids_version[\"documents_affected_count\"])\n",
    "\n",
    "# Date (parsed to datetime)\n",
    "batch_edit_wikidata_ids_version_date = datetime.fromisoformat(batch_edit_wikidata_ids_version[\"date_from\"])\n",
    "\n",
    "# Formatted date\n",
    "glue(\"batch_edit_wikidata_ids_version_date_formatted\", batch_edit_wikidata_ids_version_date.strftime(\"%-d %B, %Y\"))\n"
   ]
  },
  {
   "cell_type": "markdown",
   "id": "67306989-535d-4173-ba38-66dd95f11ea5",
   "metadata": {
    "editable": true,
    "slideshow": {
     "slide_type": ""
    },
    "tags": []
   },
   "source": [
    "% 7987eb78ecee670e999373d1917bf64b8b1e5253 : this adds Wikidata IDs\n",
    "\n",
    "* The [commit](https://github.com/dracor-org/gerdracor/commit/7987eb78ecee670e999373d1917bf64b8b1e5253) `7987eb78ecee670e999373d1917bf64b8b1e5253` dating from {glue:text}`batch_edit_wikidata_ids_version_date_formatted` adds Wikidata identifiers to {glue:}`batch_edit_wikidata_ids_version_documents_affected_count` of {glue:text}`batch_edit_wikidata_ids_version_documents_affected_count` play TEI files available at that time. The identifier is included as an element `<idno>` with the value `\"wikidata\"` of the attribute `@type` in `<publicationStmt>`. "
   ]
  },
  {
   "cell_type": "code",
   "execution_count": 31,
   "id": "50dbea64-dc62-48fb-b9f6-b847771d66e4",
   "metadata": {
    "editable": true,
    "slideshow": {
     "slide_type": ""
    },
    "tags": [
     "remove-cell"
    ]
   },
   "outputs": [
    {
     "data": {
      "text/plain": [
       "468"
      ]
     },
     "metadata": {
      "scrapbook": {
       "mime_prefix": "",
       "name": "batch_edit_revision_desc_version_overall_document_count"
      }
     },
     "output_type": "display_data"
    },
    {
     "data": {
      "text/plain": [
       "468"
      ]
     },
     "metadata": {
      "scrapbook": {
       "mime_prefix": "",
       "name": "batch_edit_revision_desc_version_documents_affected_count"
      }
     },
     "output_type": "display_data"
    },
    {
     "data": {
      "text/plain": [
       "'16 October, 2018'"
      ]
     },
     "metadata": {
      "scrapbook": {
       "mime_prefix": "",
       "name": "batch_edit_revision_desc_version_date_formatted"
      }
     },
     "output_type": "display_data"
    }
   ],
   "source": [
    "# Clean up revision desc \n",
    "# This cell is removed from the final rendering\n",
    "\n",
    "batch_edit_revision_desc_version = repo.get_corpus_version(\n",
    "    version=\"e8b7285eb4adbecebbcfcf53046f9a1093f25076\")\n",
    "\n",
    "\n",
    "glue(\"batch_edit_revision_desc_version_overall_document_count\", \n",
    "     batch_edit_revision_desc_version[\"document_count\"])\n",
    "glue(\"batch_edit_revision_desc_version_documents_affected_count\", batch_edit_revision_desc_version[\"documents_affected_count\"])\n",
    "\n",
    "# Date (parsed to datetime)\n",
    "batch_edit_revision_desc_version_date = datetime.fromisoformat(batch_edit_revision_desc_version[\"date_from\"])\n",
    "\n",
    "# Formatted date\n",
    "glue(\"batch_edit_revision_desc_version_date_formatted\", batch_edit_revision_desc_version_date.strftime(\"%-d %B, %Y\"))"
   ]
  },
  {
   "cell_type": "markdown",
   "id": "653874c2-662e-4b16-b08a-1d1829d8e593",
   "metadata": {
    "editable": true,
    "slideshow": {
     "slide_type": ""
    },
    "tags": []
   },
   "source": [
    "% e8b7285eb4adbecebbcfcf53046f9a1093f25076 Batch edit `<revisionDesc>`\n",
    "\n",
    "* The [commit](https://github.com/dracor-org/gerdracor/commit/e8b7285eb4adbecebbcfcf53046f9a1093f25076) `e8b7285eb4adbecebbcfcf53046f9a1093f25076` dating from {glue:text}`batch_edit_revision_desc_version_date_formatted` changes the `<revisionDesc>` of {glue:}`batch_edit_revision_desc_version_documents_affected_count` of {glue:text}`batch_edit_revision_desc_version_overall_document_count` play TEI files available at that time. This is a modification of all files that should not affect any metrics currently returned by the DraCor API."
   ]
  },
  {
   "cell_type": "code",
   "execution_count": 32,
   "id": "8a2f3c44-25b4-467b-9204-e497a28294c6",
   "metadata": {
    "editable": true,
    "slideshow": {
     "slide_type": ""
    },
    "tags": [
     "remove-cell"
    ]
   },
   "outputs": [
    {
     "data": {
      "text/plain": [
       "472"
      ]
     },
     "metadata": {
      "scrapbook": {
       "mime_prefix": "",
       "name": "batch_edit_header_consistencies_version_overall_document_count"
      }
     },
     "output_type": "display_data"
    },
    {
     "data": {
      "text/plain": [
       "472"
      ]
     },
     "metadata": {
      "scrapbook": {
       "mime_prefix": "",
       "name": "batch_edit_header_consistencies_version_documents_affected_count"
      }
     },
     "output_type": "display_data"
    },
    {
     "data": {
      "text/plain": [
       "'12 May, 2019'"
      ]
     },
     "metadata": {
      "scrapbook": {
       "mime_prefix": "",
       "name": "batch_edit_header_consistencies_version_date_formatted"
      }
     },
     "output_type": "display_data"
    }
   ],
   "source": [
    "# Commit message \"establish header consistencies\": DLINA to DraCor (finally)\n",
    "# This cell is removed from the final rendering\n",
    "\n",
    "batch_edit_header_consistencies_version = repo.get_corpus_version(\n",
    "    version=\"8145e178ee1714ac115d2097e7c6df8cd1181e91\")\n",
    "\n",
    "glue(\"batch_edit_header_consistencies_version_overall_document_count\", \n",
    "     batch_edit_header_consistencies_version[\"document_count\"])\n",
    "glue(\"batch_edit_header_consistencies_version_documents_affected_count\", batch_edit_header_consistencies_version[\"documents_affected_count\"])\n",
    "\n",
    "# Date (parsed to datetime)\n",
    "batch_edit_header_consistencies_version_date = datetime.fromisoformat(batch_edit_header_consistencies_version[\"date_from\"])\n",
    "\n",
    "# Formatted date\n",
    "glue(\"batch_edit_header_consistencies_version_date_formatted\", batch_edit_header_consistencies_version_date.strftime(\"%-d %B, %Y\"))"
   ]
  },
  {
   "cell_type": "markdown",
   "id": "60b5a50e-ad05-4557-878b-ce9e97dca569",
   "metadata": {
    "editable": true,
    "slideshow": {
     "slide_type": ""
    },
    "tags": []
   },
   "source": [
    "% 8145e178ee1714ac115d2097e7c6df8cd1181e91 message \"establish some teiHeader consistencies\"\n",
    "\n",
    "* The [commit](https://github.com/dracor-org/gerdracor/commit/8145e178ee1714ac115d2097e7c6df8cd1181e91) `8145e178ee1714ac115d2097e7c6df8cd1181e91` dating from {glue:text}`batch_edit_header_consistencies_version_date_formatted` mainly changes several elements in the `<teiHeader>` of {glue:}`batch_edit_header_consistencies_version_documents_affected_count` of {glue:text}`batch_edit_header_consistencies_version_overall_document_count` play TEI files available at that time:\n",
    "    - the attribute `@xml:lang` is added to the root element `TEI` to encode the information  of the language a play is in\n",
    "    - change Wikidata URIs in the element `<idno type=\"wikidata\">` to right the correct URI pattern of `http://www.wikidata.org/entity/{Q}`\n",
    "    - change the license from CC-BY to CC0 in the element `<licence>`\n",
    "    - change DLINA into DraCor identifiers\n",
    "\n",
    "With the initial version of GerDraCor the identifiers that were assigned to the TextGrid plays in the DLINA project were kept. These identifiers consisted of a running number that, in the case of the DLINA website was prefixed with `lina`. In this version of the corpus these identifiers were replaced with DraCor Identifiers that include the corpus identifier, e.g. `ger` followed by number with 6 digits. For example, in the case of the play *Emilia Galotti* the LINA identifier `88` or `lina88` as in the URL of the LINA on the DLINA Website becomes `ger000088`. \n",
    "\n",
    "This implies that all the 465 Identifiers of the DLINA-based plays in GerDraCor can be \"converted\" into the DLINA identifiers by just stripping the leading zeros and, in the case of the URL of the DLINA website, pre-pending `lina` in the URL `https://dlina.github.io/linas/lina{XXX}`, e.g. the DraCor identifier that is resolveable with the URL `https://dracor.org/id/ger000010` would result in `https://dlina.github.io/linas/lina10`. Vice versa `https://dlina.github.io/linas/lina465` would result in `https://dracor.org/id/ger000465` which is resolved to [https://dracor.org/ger/immermann-das-gericht-von-st-petersburg](https://dracor.org/ger/immermann-das-gericht-von-st-petersburg). "
   ]
  },
  {
   "cell_type": "markdown",
   "id": "b2a80181-d073-472b-9a33-15413d3e6a02",
   "metadata": {
    "editable": true,
    "slideshow": {
     "slide_type": ""
    },
    "tags": []
   },
   "source": [
    "The remaining major revision commits are:"
   ]
  },
  {
   "cell_type": "code",
   "execution_count": 33,
   "id": "922b5373-24a7-4fa4-a406-b9d61edfe05b",
   "metadata": {
    "editable": true,
    "slideshow": {
     "slide_type": ""
    },
    "tags": [
     "remove-cell"
    ]
   },
   "outputs": [
    {
     "data": {
      "text/plain": [
       "474"
      ]
     },
     "metadata": {
      "scrapbook": {
       "mime_prefix": "",
       "name": "batch_edit_relaxng_version_overall_document_count"
      }
     },
     "output_type": "display_data"
    },
    {
     "data": {
      "text/plain": [
       "474"
      ]
     },
     "metadata": {
      "scrapbook": {
       "mime_prefix": "",
       "name": "batch_edit_relaxng_version_documents_affected_count"
      }
     },
     "output_type": "display_data"
    },
    {
     "data": {
      "text/plain": [
       "'7 September, 2019'"
      ]
     },
     "metadata": {
      "scrapbook": {
       "mime_prefix": "",
       "name": "batch_edit_relaxng_version_date_formatted"
      }
     },
     "output_type": "display_data"
    }
   ],
   "source": [
    "# relaxNG schema\n",
    "# cell removed in final rendering\n",
    "\n",
    "batch_edit_relaxng_version = repo.get_corpus_version(\n",
    "    version=\"e8c21cfd3b76bdcb05c6174e2c2d237d0d07c21e\")\n",
    "\n",
    "glue(\"batch_edit_relaxng_version_overall_document_count\", \n",
    "     batch_edit_relaxng_version[\"document_count\"])\n",
    "glue(\"batch_edit_relaxng_version_documents_affected_count\", batch_edit_relaxng_version[\"documents_affected_count\"])\n",
    "\n",
    "# Date (parsed to datetime)\n",
    "batch_edit_relaxng_version_date = datetime.fromisoformat(batch_edit_relaxng_version[\"date_from\"])\n",
    "\n",
    "# Formatted date\n",
    "glue(\"batch_edit_relaxng_version_date_formatted\", batch_edit_relaxng_version_date.strftime(\"%-d %B, %Y\"))"
   ]
  },
  {
   "cell_type": "markdown",
   "id": "32f3f431-1911-46fe-9019-d70017f03a61",
   "metadata": {
    "editable": true,
    "slideshow": {
     "slide_type": ""
    },
    "tags": []
   },
   "source": [
    "% e8c21cfd3b76bdcb05c6174e2c2d237d0d07c21e adds relaxNG schema generated from the ODD\n",
    "\n",
    "* The [commit](https://github.com/dracor-org/gerdracor/commit/e8c21cfd3b76bdcb05c6174e2c2d237d0d07c21e) `e8c21cfd3b76bdcb05c6174e2c2d237d0d07c21e` dating from {glue:text}`batch_edit_relaxng_version_date_formatted` assignes a RelaxNG schema derived from the DraCor TEI ODD[^dracor_schema_repo] to {glue:}`batch_edit_relaxng_version_documents_affected_count` of {glue:text}`batch_edit_relaxng_version_overall_document_count` play TEI files available at that time.\n",
    "\n",
    "[^dracor_schema_repo]: ODD and schema can be found in the GitHub repository https://github.com/dracor-org/dracor-schema. When using the ODD derived schema to validate TEI-XML files of corpus versions of the past it would be necessary to also use the respective version of the schema, which would need to be retrieved from the commit history of the schema repository. It would make changes in the encoding more transparent if, at least for schemas or ODD, somesort of explicit version numbers would be used that could be then referenced in the TEI files of the plays. The TEI Guidelines define an attribute `@version` (https://www.tei-c.org/release/doc/tei-p5-doc/en/html/ref-TEI.html#tei_att.version) which \"specifies the *version number of the TEI Guidelines* [our emphasis] against which this document is valid\". Strictly speaking, in the proposed use case the attribute would not point to an \"official\" TEI release but to a versioned ODD or `<schemaSpec>`element. This might be considered tag abuse and has still to be evaluated."
   ]
  },
  {
   "cell_type": "markdown",
   "id": "12d5f0ea-48bb-4e1b-a17d-f1f455b61800",
   "metadata": {
    "editable": true,
    "slideshow": {
     "slide_type": ""
    },
    "tags": []
   },
   "source": [
    "% [23833340aa83b963205f583189206a9881e9869e](https://github.com/dracor-org/gerdracor/commit/23833340aa83b963205f583189206a9881e9869e)\n",
    "% may ignore this for now, again, something with schemas"
   ]
  },
  {
   "cell_type": "code",
   "execution_count": 34,
   "id": "73fbaaec-322f-4e0f-941b-9f0756f67392",
   "metadata": {
    "editable": true,
    "slideshow": {
     "slide_type": ""
    },
    "tags": [
     "remove-cell"
    ]
   },
   "outputs": [
    {
     "data": {
      "text/plain": [
       "480"
      ]
     },
     "metadata": {
      "scrapbook": {
       "mime_prefix": "",
       "name": "batch_edit_iso639_version_overall_document_count"
      }
     },
     "output_type": "display_data"
    },
    {
     "data": {
      "text/plain": [
       "480"
      ]
     },
     "metadata": {
      "scrapbook": {
       "mime_prefix": "",
       "name": "batch_edit_iso639_version_affected_count"
      }
     },
     "output_type": "display_data"
    },
    {
     "data": {
      "text/plain": [
       "'16 January, 2020'"
      ]
     },
     "metadata": {
      "scrapbook": {
       "mime_prefix": "",
       "name": "batch_edit_iso639_version_date_formatted"
      }
     },
     "output_type": "display_data"
    }
   ],
   "source": [
    "# ISO language codes \n",
    "# cell removed in final rendering\n",
    "\n",
    "batch_edit_iso639_version = repo.get_corpus_version(\n",
    "    version=\"8f0b2ac84f85ebf79df6b8aa0fb2d9662ee212ea\")\n",
    "\n",
    "glue(\"batch_edit_iso639_version_overall_document_count\", \n",
    "     batch_edit_iso639_version[\"document_count\"])\n",
    "glue(\"batch_edit_iso639_version_affected_count\", batch_edit_iso639_version[\"documents_affected_count\"])\n",
    "\n",
    "# Date (parsed to datetime)\n",
    "batch_edit_iso639_version_date = datetime.fromisoformat(batch_edit_iso639_version[\"date_from\"])\n",
    "\n",
    "# Formatted date\n",
    "glue(\"batch_edit_iso639_version_date_formatted\", batch_edit_iso639_version_date.strftime(\"%-d %B, %Y\"))"
   ]
  },
  {
   "cell_type": "markdown",
   "id": "78a6be0f-e89b-484c-9fb9-84ad06284d72",
   "metadata": {
    "editable": true,
    "slideshow": {
     "slide_type": ""
    },
    "tags": []
   },
   "source": [
    "% 8f0b2ac84f85ebf79df6b8aa0fb2d9662ee212ea change ISO language code\n",
    "\n",
    "* The [commit](https://github.com/dracor-org/gerdracor/commit/8f0b2ac84f85ebf79df6b8aa0fb2d9662ee212ea) `8f0b2ac84f85ebf79df6b8aa0fb2d9662ee212ea` dating from {glue:text}`batch_edit_iso639_version_date_formatted` changes the values of the attribute `@xml:lang` of the root element `<TEI>` from ISO-639-1 to ISO-639-2 codes, e.g. from `\"de\"` to `\"ger\"` in {glue:text}`batch_edit_iso639_version_affected_count` of all {glue:text}`batch_edit_iso639_version_overall_document_count` play TEI files available at that time."
   ]
  },
  {
   "cell_type": "code",
   "execution_count": 35,
   "id": "3768ef99-2925-4ea8-97cf-da5f0a0139de",
   "metadata": {
    "editable": true,
    "slideshow": {
     "slide_type": ""
    },
    "tags": [
     "remove-cell"
    ]
   },
   "outputs": [
    {
     "data": {
      "text/plain": [
       "510"
      ]
     },
     "metadata": {
      "scrapbook": {
       "mime_prefix": "",
       "name": "batch_edit_genre_markup_version_overall_document_count"
      }
     },
     "output_type": "display_data"
    },
    {
     "data": {
      "text/plain": [
       "510"
      ]
     },
     "metadata": {
      "scrapbook": {
       "mime_prefix": "",
       "name": "batch_edit_genre_markup_version_affected_count"
      }
     },
     "output_type": "display_data"
    },
    {
     "data": {
      "text/plain": [
       "'5 December, 2020'"
      ]
     },
     "metadata": {
      "scrapbook": {
       "mime_prefix": "",
       "name": "batch_edit_genre_markup_version_date_formatted"
      }
     },
     "output_type": "display_data"
    }
   ],
   "source": [
    "# Genre markup, date ranges\n",
    "\n",
    "batch_edit_genre_markup_version = repo.get_corpus_version(\n",
    "    version=\"9c2fcf55cce2ec6290ffc8615e98d9b2355707d9\")\n",
    "\n",
    "glue(\"batch_edit_genre_markup_version_overall_document_count\", \n",
    "     batch_edit_genre_markup_version[\"document_count\"])\n",
    "glue(\"batch_edit_genre_markup_version_affected_count\", batch_edit_genre_markup_version[\"documents_affected_count\"])\n",
    "\n",
    "# Date (parsed to datetime)\n",
    "batch_edit_genre_markup_version_date = datetime.fromisoformat(batch_edit_genre_markup_version[\"date_from\"])\n",
    "\n",
    "# Formatted date\n",
    "glue(\"batch_edit_genre_markup_version_date_formatted\", batch_edit_genre_markup_version_date.strftime(\"%-d %B, %Y\"))"
   ]
  },
  {
   "cell_type": "markdown",
   "id": "938c81cf-ea36-4549-876f-60b56899983b",
   "metadata": {
    "editable": true,
    "slideshow": {
     "slide_type": ""
    },
    "tags": []
   },
   "source": [
    "%\n",
    "[9c2fcf55cce2ec6290ffc8615e98d9b2355707d9](https://github.com/dracor-org/gerdracor/commit/9c2fcf55cce2ec6290ffc8615e98d9b2355707d9)\n",
    "\n",
    "* The [commit](https://github.com/dracor-org/gerdracor/commit/9c2fcf55cce2ec6290ffc8615e98d9b2355707d9) `9c2fcf55cce2ec6290ffc8615e98d9b2355707d9` dating from {glue:text}`batch_edit_genre_markup_version_date_formatted` introduces the following modifications to {glue:text}`batch_edit_genre_markup_version_affected_count` of all {glue:text}`batch_edit_genre_markup_version_overall_document_count` play TEI files available at that time:\n",
    "     - date ranges, e.g. of the date of first publication of a play, are encoded using the attributes `@notBefore` and `@notAfter`, e.g. a previous encoded time span as in `<date type=\"written\" when=\"1885\">1884–1885</date>` becomes `<date type=\"written\" notBefore=\"1884\" notAfter=\"1885\">1884–1885</date>`.\n",
    "     - The diverse genre terms encoded as element `<term>` in `<keywords>` in the `<textClass>` section of the header that have been available in previous versions, e.g. `<term type=\"genreTitle\">Schattenspiel</term>`, `<term type=\"genreTitle\">Studentenspiel</term>` are either removed (resulting in `<term type=\"genreTitle\"/>`) or normalized, e.g. the german `<term type=\"genreTitle\">Komödie</term>` becomes `<term type=\"genreTitle\">Comedy</term>`.\n",
    "     - In addition to the normalized genre terms genre information is encoded using the element `<classCode>` in `<textClass>` linking to some seltected concepts on Wikidata, e.g. `<classCode scheme=\"http://www.wikidata.org/entity/\">Q40831</classCode>`. In this case the Wikidata identifier (Q-Number) identifies the concept \"Comedy\" on [Wikidata](https://www.wikidata.org/wiki/Q40831).[^genre_in_programmable_corpora_report] \n",
    "\n",
    "[^genre_in_programmable_corpora_report]: For the discussion of this encoding strategy and its implementation in the API see also the corresponding issue in the DraCor API repository: https://github.com/dracor-org/dracor-api/issues/120 (opened 3 December, 2020) which exemplifies the interdependence of API code and TEI-Encoding of the DraCor corpora. The class codes are the basis for the extractor mechanism allows to include genre information in the API respones, see feature \"P22 play_genre_normalized\" in Table 02: Play features in the Report on Programmable Corpora,  p. 38. Class codes that are supported are hard coded in the API code, e.g. https://github.com/dracor-org/dracor-api/blob/665ea3f07c3f0ab83566440436691ed73957b263/modules/config.xqm#L79-L89."
   ]
  },
  {
   "cell_type": "code",
   "execution_count": 36,
   "id": "12f03691-0c05-487a-a00d-042a203f20ee",
   "metadata": {
    "editable": true,
    "slideshow": {
     "slide_type": ""
    },
    "tags": [
     "remove-cell"
    ]
   },
   "outputs": [
    {
     "data": {
      "text/plain": [
       "569"
      ]
     },
     "metadata": {
      "scrapbook": {
       "mime_prefix": "",
       "name": "batch_edit_standoff_container_version_overall_document_count"
      }
     },
     "output_type": "display_data"
    },
    {
     "data": {
      "text/plain": [
       "569"
      ]
     },
     "metadata": {
      "scrapbook": {
       "mime_prefix": "",
       "name": "batch_edit_standoff_container_version_affected_count"
      }
     },
     "output_type": "display_data"
    },
    {
     "data": {
      "text/plain": [
       "'16 May, 2022'"
      ]
     },
     "metadata": {
      "scrapbook": {
       "mime_prefix": "",
       "name": "batch_edit_standoff_container_version_date_formatted"
      }
     },
     "output_type": "display_data"
    }
   ],
   "source": [
    "# standoff container\n",
    "\n",
    "batch_edit_standoff_container_version = repo.get_corpus_version(\n",
    "    version=\"75b663876d1cd7b54235547ccd077a3299877a1c\")\n",
    "\n",
    "glue(\"batch_edit_standoff_container_version_overall_document_count\", \n",
    "     batch_edit_standoff_container_version[\"document_count\"])\n",
    "glue(\"batch_edit_standoff_container_version_affected_count\", batch_edit_standoff_container_version[\"documents_affected_count\"])\n",
    "\n",
    "# Date (parsed to datetime)\n",
    "batch_edit_standoff_container_version_date = datetime.fromisoformat(batch_edit_standoff_container_version[\"date_from\"])\n",
    "\n",
    "# Formatted date\n",
    "glue(\"batch_edit_standoff_container_version_date_formatted\", batch_edit_standoff_container_version_date.strftime(\"%-d %B, %Y\"))"
   ]
  },
  {
   "cell_type": "markdown",
   "id": "9852fa97-7dab-4893-a787-bd73a19042a8",
   "metadata": {
    "editable": true,
    "slideshow": {
     "slide_type": ""
    },
    "tags": []
   },
   "source": [
    "% 75b663876d1cd7b54235547ccd077a3299877a1c\n",
    "\n",
    "* The [commit](https://github.com/dracor-org/gerdracor/commit/75b663876d1cd7b54235547ccd077a3299877a1c) `75b663876d1cd7b54235547ccd077a3299877a1c` dating from {glue:text}`batch_edit_standoff_container_version_date_formatted` introduces a new element `<standOff>` to hold context metadata to {glue:text}`batch_edit_standoff_container_version_affected_count` of all {glue:text}`batch_edit_standoff_container_version_overall_document_count` play TEI files available at that time.[^standoff_discussion]\n",
    "    - The wikidata identifier, previously encoded as element `<idno>` is included in `<standOff>` as an element `<link>` with the value `\"wikidata\"` of the `@type` attribute and linking to the corresponding entity on Wikidata by including the concept URI in the `@target` attribute.\n",
    "    - The dates (printed, written, premiered) are also moved to the `<standOff>` container and are encoded as a `<listEvent>` with typed `<event>` elements.\n",
    " \n",
    "[^standoff_discussion]: The introduction of the `<standOff>` element is discussed in this issue in the DraCor schema repository: https://github.com/dracor-org/dracor-schema/issues/38 (the issue was opened on 14 March and closed on 2 July, 2022). This change of encoding is also a good example of the implications for other projects using DraCor corpora in their research: GerDraCor is used in several research projects, amongst them the [QuaDramA](https://quadrama.github.io). In this project two libraries to were developed: [DramaNLP](https://github.com/quadrama/DramaNLP) and [DramaAnalysis](https://github.com/quadrama/DramaAnalysis). DramaNLP is the tool that generates the data to be analyzed with the R library DramaAnalysis. The changes introduced in the GerDraCor version discussed above had to be incorporated into DramaNLP as well, see the respective [commit](https://github.com/quadrama/DramaNLP/issues/97) dating from 13 December, 2022."
   ]
  },
  {
   "cell_type": "markdown",
   "id": "0962df33-b2b2-4822-982f-8073d86155e0",
   "metadata": {
    "editable": true,
    "slideshow": {
     "slide_type": ""
    },
    "tags": []
   },
   "source": [
    "% [fe53f8f5d4d36794df55859e262e6d1b893ce705](https://github.com/dracor-org/gerdracor/commit/fe53f8f5d4d36794df55859e262e6d1b893ce705)\n",
    "\n",
    "% Merge pull request #16 from dracor-org/sourcedesc-to-standoff\n",
    "% this dates from the same day as above; is the merge of the pull request to incorporate the changes above"
   ]
  },
  {
   "cell_type": "code",
   "execution_count": 37,
   "id": "c3f51451-3d7e-4639-9130-ed5ee5ab81e5",
   "metadata": {
    "editable": true,
    "slideshow": {
     "slide_type": ""
    },
    "tags": [
     "remove-cell"
    ]
   },
   "outputs": [
    {
     "data": {
      "text/plain": [
       "569"
      ]
     },
     "metadata": {
      "scrapbook": {
       "mime_prefix": "",
       "name": "batch_edit_xml_on_tei_version_overall_document_count"
      }
     },
     "output_type": "display_data"
    },
    {
     "data": {
      "text/plain": [
       "569"
      ]
     },
     "metadata": {
      "scrapbook": {
       "mime_prefix": "",
       "name": "batch_edit_xml_on_tei_version_affected_count"
      }
     },
     "output_type": "display_data"
    },
    {
     "data": {
      "text/plain": [
       "'3 June, 2022'"
      ]
     },
     "metadata": {
      "scrapbook": {
       "mime_prefix": "",
       "name": "batch_edit_xml_on_tei_version_date_formatted"
      }
     },
     "output_type": "display_data"
    }
   ],
   "source": [
    "# xml:id on root\n",
    "\n",
    "batch_edit_xml_on_tei_version = repo.get_corpus_version(\n",
    "    version=\"d23a93d9fa0e4eb53a580904ac5d01c8b8f8037c\")\n",
    "\n",
    "glue(\"batch_edit_xml_on_tei_version_overall_document_count\", \n",
    "     batch_edit_standoff_container_version[\"document_count\"])\n",
    "glue(\"batch_edit_xml_on_tei_version_affected_count\", batch_edit_xml_on_tei_version[\"documents_affected_count\"])\n",
    "\n",
    "# Date (parsed to datetime)\n",
    "batch_edit_xml_on_tei_version_date = datetime.fromisoformat(batch_edit_xml_on_tei_version[\"date_from\"])\n",
    "\n",
    "# Formatted date\n",
    "glue(\"batch_edit_xml_on_tei_version_date_formatted\", batch_edit_xml_on_tei_version_date.strftime(\"%-d %B, %Y\"))"
   ]
  },
  {
   "cell_type": "markdown",
   "id": "8088533c-ae0f-4179-8fe5-e758049e7c95",
   "metadata": {
    "editable": true,
    "slideshow": {
     "slide_type": ""
    },
    "tags": []
   },
   "source": [
    "% d23a93d9fa0e4eb53a580904ac5d01c8b8f8037c\n",
    "\n",
    "* The [commit](https://github.com/dracor-org/gerdracor/commit/d23a93d9fa0e4eb53a580904ac5d01c8b8f8037c) `d23a93d9fa0e4eb53a580904ac5d01c8b8f8037c` dating from {glue:text}`batch_edit_xml_on_tei_version_date_formatted` adds the DraCor ID as the value of the attribute `@xml:id` to the root element `<TEI>` and changes the encoding of the reference to Wikidata from a `<link>` to a `<relation>` with the value `\"wikidata\"` of the attribute `@type` to {glue:text}`batch_edit_xml_on_tei_version_affected_count` of all {glue:text}`batch_edit_xml_on_tei_version_overall_document_count` play TEI files available at that time."
   ]
  },
  {
   "cell_type": "markdown",
   "id": "b7e242eb-7c81-4219-9488-680be192743f",
   "metadata": {
    "editable": true,
    "slideshow": {
     "slide_type": ""
    },
    "tags": []
   },
   "source": [
    "In this systematic perspective that is based on commits that change all files included in a corpus version at a time, we might still miss some important milestones in the development of the corpus if the respective changes in the encoding are not introduced at once but bit by bit to one or several files. For example, this is the case when introducing a new \"feature\", the encoding of social or familily character relations.[^relations_in_on_programmable_corpora_report] This feature was introduced to GerDraCor in cooperation with the QuaDramA project {cite:p}`wiedmer_2020_romeo`.[^social_relations_pull_request] The elements `<relation>` in a `<listRelation type=\"personal\">`in the `<teiHeader>` were added to the files between September and November 2019 to 358 GerDraCor files.\n",
    "\n",
    "[^relations_in_on_programmable_corpora_report]: Regarding the feature and its implementation in DraCor services refer to the Report \"On Programmable Corpora\", p.48f and p.62. \n",
    "\n",
    "[^social_relations_pull_request]: The [pull request](https://github.com/dracor-org/gerdracor/pull/10) that included the data into DraCor dates from November 24, 2019. \n"
   ]
  },
  {
   "cell_type": "markdown",
   "id": "b83804c4-8810-4e35-8e52-9d6786e2ac8a",
   "metadata": {
    "editable": true,
    "slideshow": {
     "slide_type": ""
    },
    "tags": []
   },
   "source": [
    "What we have shown in this excursus was just a small example of the possibilities that a corpus archaeology can offer based on the information that the GitHub API makes available as the commit history. With the excursus, we wanted to illustrate how important it is from our perspective to familiarize oneself as comprehensively as possible with the epistemic objects of one's own research, i.e. –- in the case of CLS research — to gain a deep understanding of the origin, genesis and development of a corpus. \n"
   ]
  }
 ],
 "metadata": {
  "kernelspec": {
   "display_name": "Python 3 (ipykernel)",
   "language": "python",
   "name": "python3"
  },
  "language_info": {
   "codemirror_mode": {
    "name": "ipython",
    "version": 3
   },
   "file_extension": ".py",
   "mimetype": "text/x-python",
   "name": "python",
   "nbconvert_exporter": "python",
   "pygments_lexer": "ipython3",
   "version": "3.11.6"
  }
 },
 "nbformat": 4,
 "nbformat_minor": 5
}
