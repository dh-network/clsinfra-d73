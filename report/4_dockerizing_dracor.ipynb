{
 "cells": [
  {
   "cell_type": "markdown",
   "id": "7ba463c5-a18d-4a8d-adaf-4a170a08a0d5",
   "metadata": {
    "editable": true,
    "slideshow": {
     "slide_type": ""
    },
    "tags": []
   },
   "source": [
    "```{warning}\n",
    "This is still a draft! Please refer to the PDF version.\n",
    "```"
   ]
  },
  {
   "cell_type": "markdown",
   "id": "b7001ebc-1759-4316-a522-f967eefef566",
   "metadata": {
    "editable": true,
    "slideshow": {
     "slide_type": ""
    },
    "tags": []
   },
   "source": [
    "# 4. Dockerizing DraCor"
   ]
  },
  {
   "cell_type": "markdown",
   "id": "1eb7f288-0e60-4aeb-96c1-43e8b90e4f7e",
   "metadata": {
    "editable": true,
    "slideshow": {
     "slide_type": ""
    },
    "tags": []
   },
   "source": [
    "TBD (meanwhile see PDF version)"
   ]
  }
 ],
 "metadata": {
  "kernelspec": {
   "display_name": "Python 3 (ipykernel)",
   "language": "python",
   "name": "python3"
  },
  "language_info": {
   "codemirror_mode": {
    "name": "ipython",
    "version": 3
   },
   "file_extension": ".py",
   "mimetype": "text/x-python",
   "name": "python",
   "nbconvert_exporter": "python",
   "pygments_lexer": "ipython3",
   "version": "3.11.6"
  }
 },
 "nbformat": 4,
 "nbformat_minor": 5
}
